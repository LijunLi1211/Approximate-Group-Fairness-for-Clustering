{
 "cells": [
  {
   "cell_type": "code",
   "execution_count": null,
   "metadata": {},
   "outputs": [],
   "source": []
  },
  {
   "cell_type": "code",
   "execution_count": 1,
   "metadata": {},
   "outputs": [],
   "source": [
    "import numpy as np\n",
    "from matplotlib import pyplot as plt\n",
    "import math\n",
    "\n",
    "import pandas as pd\n",
    "from sklearn import preprocessing"
   ]
  },
  {
   "cell_type": "markdown",
   "metadata": {},
   "source": [
    "KMEANS"
   ]
  },
  {
   "cell_type": "code",
   "execution_count": 2,
   "metadata": {
    "jupyter": {
     "source_hidden": true
    }
   },
   "outputs": [],
   "source": [
    "def kmeans(X,K,max_iter=1000):\n",
    "    \"\"\"\n",
    "    Perform k-means on the dataset X.\n",
    "    \n",
    "    Parameters\n",
    "    ----------\n",
    "    X : ndarray of shape (n,d)\n",
    "        Data are given row-wise\n",
    "    K : int\n",
    "        Number of clusters\n",
    "    max_iter : int\n",
    "        Maximum number of iterations to perform\n",
    "        \n",
    "    Returns\n",
    "    -------\n",
    "    means : ndarray of shape (K,d)\n",
    "        the K recovered cluster means given row-wise\n",
    "    groups : dict (of length K) of lists\n",
    "        each list gives the indices of points in the cluster\n",
    "    \"\"\"\n",
    "    # initialize the means as randomly selected points in the data\n",
    "    mean_ind = np.random.choice(range(X.shape[0]), K, replace=False)\n",
    "    means = X[mean_ind]\n",
    "    \n",
    "    # initialize the groups. a disctionary is recommended. \n",
    "    ### your code here\n",
    "    groups = {i: [] for i in range(K)}\n",
    "    \n",
    "    # iterate\n",
    "    for i in range(max_iter):\n",
    "        # assign each point to a center in 'means'\n",
    "        for j in range(X.shape[0]):\n",
    "            groups[np.argmin(((means-X[j,:])**2).sum(axis=1))].append(j) #d[k] return value of the key k\n",
    "            \n",
    "        # calculate new means\n",
    "        ### your code here\n",
    "        new_means = np.zeros((K, X.shape[1]))\n",
    "        for k in range(K):\n",
    "            if (len(groups[k]) != 0):\n",
    "                new_means[k] = X[groups[k]].mean(axis=0)\n",
    "            else:\n",
    "                new_means[k] = X[np.random.choice(range(X.shape[0]), 1)]\n",
    "        \n",
    "        # see if we have converged\n",
    "        if np.allclose(means,new_means):\n",
    "            #print(\"Converged after {} iterations!\".format(i))\n",
    "            return means, groups\n",
    "        else:\n",
    "            means = new_means\n",
    "            groups = {i:[] for i in range(K)}\n",
    "    #print(\"Failed to converge after {} iterations...\".format(max_iter))"
   ]
  },
  {
   "cell_type": "markdown",
   "metadata": {},
   "source": [
    "KMEANS++"
   ]
  },
  {
   "cell_type": "code",
   "execution_count": 39,
   "metadata": {},
   "outputs": [],
   "source": [
    "def kmeansplus(X,K,max_iter=1000):\n",
    "    \"\"\"\n",
    "    Perform k-means++ on the dataset X.\n",
    "    \n",
    "    Parameters\n",
    "    ----------\n",
    "    X : ndarray of shape (n,d)\n",
    "        Data are given row-wise\n",
    "    K : int\n",
    "        Number of clusters\n",
    "    max_iter : int\n",
    "        Maximum number of iterations to perform\n",
    "        \n",
    "    Returns\n",
    "    -------\n",
    "    means : ndarray of shape (K,d)\n",
    "        the K recovered cluster means given row-wise\n",
    "    groups : dict (of length K) of lists\n",
    "        each list gives the indices of points in the cluster\n",
    "    \"\"\"\n",
    "    # initialize the means as randomly selected points in the data, a better way\n",
    "    #mean_ind = np.random.choice(range(X.shape[0]), K, replace=False)\n",
    "    #means = X[mean_ind]\n",
    "    \n",
    "    mean_ind = []\n",
    "    mean_ind.append(int(np.random.choice(range(X.shape[0]), 1))) # c1\n",
    "    #print(X[mean_ind])\n",
    "    \n",
    "    for i in range(1,K):\n",
    "        D2sum = 0\n",
    "        Pr = []\n",
    "        for pt in X:\n",
    "            D2 = np.min(((X[mean_ind]-pt)**2).sum(axis=1))\n",
    "            D2sum += D2\n",
    "        for pt in X:\n",
    "            D2 = np.min(((X[mean_ind]-pt)**2).sum(axis=1))\n",
    "            Pr.append(D2 / D2sum)\n",
    "        mean_ind.append(int(np.random.choice(range(X.shape[0]), 1, p=Pr)))\n",
    "        #print(X[np.array(mean_ind)])\n",
    "    \n",
    "    means = X[np.array(mean_ind)]\n",
    "    #print(means.shape)\n",
    "    \n",
    "    # initialize the groups. a disctionary is recommended. \n",
    "    ### your code here\n",
    "    groups = {i: [] for i in range(K)}\n",
    "    \n",
    "    # iterate\n",
    "    for i in range(max_iter):\n",
    "        # assign each point to a center in 'means'\n",
    "        for j in range(X.shape[0]):\n",
    "            groups[np.argmin(((means-X[j,:])**2).sum(axis=1))].append(j) #d[k] return value of the key k\n",
    "            \n",
    "        # calculate new means\n",
    "        ### your code here\n",
    "        new_means = np.zeros((K, X.shape[1]))\n",
    "        for k in range(K):\n",
    "            if (len(groups[k]) != 0):\n",
    "                new_means[k] = X[groups[k]].mean(axis=0)\n",
    "            else:\n",
    "                new_means[k] = X[np.random.choice(range(X.shape[0]), 1)]\n",
    "        \n",
    "        # see if we have converged\n",
    "        if np.allclose(means,new_means):\n",
    "            #print(\"Converged after {} iterations!\".format(i))\n",
    "            return means, groups\n",
    "        else:\n",
    "            means = new_means\n",
    "            groups = {i:[] for i in range(K)}\n",
    "    #print(\"Failed to converge after {} iterations...\".format(max_iter))"
   ]
  },
  {
   "cell_type": "markdown",
   "metadata": {},
   "source": [
    "KMEDIANS"
   ]
  },
  {
   "cell_type": "code",
   "execution_count": 40,
   "metadata": {
    "jupyter": {
     "source_hidden": true
    }
   },
   "outputs": [],
   "source": [
    "def kmedians(X,K,max_iter=1000):\n",
    "    \n",
    "    # initialize the means as randomly selected points in the data\n",
    "    median_ind = np.random.choice(range(X.shape[0]), K, replace=False)\n",
    "    medians = X[median_ind]\n",
    "    \n",
    "    # initialize the groups. a disctionary is recommended. \n",
    "    ### your code here\n",
    "    groups = {i: [] for i in range(K)}\n",
    "    \n",
    "    # iterate\n",
    "    for i in range(max_iter):\n",
    "        # assign each point to a group\n",
    "        for j in range(X.shape[0]):\n",
    "            groups[np.argmin((np.abs(medians-X[j,:])).sum(axis=1))].append(j)\n",
    "            \n",
    "        # calculate new means\n",
    "        ### your code here\n",
    "        new_medians = np.zeros((K, X.shape[1]))\n",
    "        for k in range(K):\n",
    "            if (len(groups[k]) != 0):\n",
    "                new_medians[k] = np.median(X[groups[k]], axis=0)\n",
    "            else:\n",
    "                new_medians[k] = X[np.random.choice(range(X.shape[0]), 1)]\n",
    "        \n",
    "        # see if we have converged\n",
    "        if np.allclose(medians,new_medians):\n",
    "            #print(\"Converged after {} iterations!\".format(i))\n",
    "            return medians, groups\n",
    "        else:\n",
    "            medians = new_medians\n",
    "            groups = {i:[] for i in range(K)}\n",
    "    print(\"Failed to converge after {} iterations...\".format(max_iter))"
   ]
  },
  {
   "cell_type": "markdown",
   "metadata": {},
   "source": [
    "ALG3_means"
   ]
  },
  {
   "cell_type": "code",
   "execution_count": 41,
   "metadata": {
    "jupyter": {
     "source_hidden": true
    }
   },
   "outputs": [],
   "source": [
    "def euclid_dist(x1, x2):\n",
    "    \"\"\"\n",
    "    Euclidean distance between two vectors.\n",
    "    \"\"\"\n",
    "    result = 0.0\n",
    "    for i in range(x1.shape[0]): #shape[0] is row number\n",
    "        result += (x1[i] - x2[i]) ** 2\n",
    "    return np.sqrt(result)\n",
    "\n",
    "def ALG3_means(X, K, n_grid, delta_growth):\n",
    "    \"\"\"\n",
    "    Greedy capture for clustering. Find K centers over dataset X.\n",
    "    \n",
    "    Parameters\n",
    "    ----------\n",
    "    X : ndarray of shape (n,d)\n",
    "        Data are given row-wise\n",
    "    K : int\n",
    "        Number of centers\n",
    "    n_grid : int\n",
    "        Discrete whole space into n_grid x n_grid grids. Each grid is a center candidate to be checked if it can capture more than n/K points\n",
    "    delta_growth: float\n",
    "        In each loop, the unit of delta growth\n",
    "    \n",
    "    Returns\n",
    "    -------\n",
    "    Y: ndarray of shape (?,d)\n",
    "        Y.shape[0] depends on dataset X\n",
    "    revisedY : ndarray of shape (K,d)\n",
    "        Given row-wise\n",
    "    cluster_pts : list (of length K) \n",
    "        Each element is an ndarray row-wise containg points in one of clusters\n",
    "    \"\"\"\n",
    "    \n",
    "    n, dim = X.shape\n",
    "    N = X # remaining points after deleting\n",
    "    delta = 0\n",
    "    Y = [np.arange(2,2+dim)] \n",
    "    n_center = 0\n",
    "    clusters = {}\n",
    "    \n",
    "    # In advance, generate all possible centers(locations) row-wise saved in \"all_loc\" \n",
    "    all_loc = np.zeros((pow(n_grid, dim),dim), dtype=np.float32)\n",
    "    for p in range(all_loc.shape[0]):\n",
    "        rest = p\n",
    "        for t in range(dim):\n",
    "            all_loc[p,t] = (rest % n_grid)/n_grid\n",
    "            rest = rest // n_grid\n",
    "    \n",
    "    for i in range(int(1/delta_growth)+1):\n",
    "        delta = np.sqrt(float(dim)) * i * delta_growth \n",
    "        \n",
    "        for p in range(all_loc.shape[0]):\n",
    "            n_cover = 0\n",
    "            pts = []\n",
    "        \n",
    "            for pt in N:\n",
    "                if euclid_dist(all_loc[p], pt) <= delta: \n",
    "                    n_cover += 1\n",
    "                    pts.append(pt)\n",
    "                    \n",
    "            if dim in list((all_loc[p] == np.array(Y)).sum(1)): \n",
    "                clusters[str(p)].extend(pts)\n",
    "                for pt in pts: \n",
    "                    N = np.delete(N, list((N==pt).sum(1)).index(dim), axis=0)        \n",
    "            else:    \n",
    "                if n_cover >= n/K:\n",
    "                    Y.append(all_loc[p])\n",
    "                    cluster = {str(p): pts}\n",
    "                    clusters.update(cluster)\n",
    "                    n_center += 1\n",
    "                    for pt in pts:\n",
    "                        N = np.delete(N, list((N==pt).sum(1)).index(dim), axis=0)# if you forget, use specific example to verify. \n",
    "    \n",
    "    del Y[0] \n",
    "    Y = np.array(Y)\n",
    "    #Y is original centers, but we don't need them. If need, remember decomment this block since Y has its first row redundant\n",
    "    \n",
    "    cluster_pts = []\n",
    "    for key in clusters:\n",
    "        cluster_pts.append(np.array(clusters[key])) \n",
    "    \n",
    "    # In above half, we only need cluster_pts, a list containing ndarrays of points in each cluster\n",
    "        \n",
    "################################################\n",
    "\n",
    "    cluster_num = len(cluster_pts)\n",
    "    coalition_num = np.zeros((cluster_num), dtype=np.float32)# record the number of coalitions in each cluster, where each n/K points form a coalition\n",
    "    for i in range(cluster_num):\n",
    "        coalition_num[i] = len(cluster_pts[i]) / (n/K)\n",
    "\n",
    "    cts_dsv = np.floor(coalition_num) # \"centers_deserve\" of each cluster\n",
    "    cts_dsv_sum = int(np.sum(cts_dsv)) # Without int(), np.sum(cts_dsv) is a float, it'll report error for failing in iteration with \"range(K - cts_dsv_sum)\"\n",
    "    remain = coalition_num - cts_dsv\n",
    "\n",
    "    index = np.argsort(remain)\n",
    "    for i in range(K - cts_dsv_sum):\n",
    "        cts_dsv[index[-1-i]] += 1\n",
    "\n",
    "    revisedY, group = kmeans(cluster_pts[0], int(cts_dsv[0]), max_iter=1000)# I need this to carry out subsequent stack\n",
    "    for i in range(1, cluster_num):\n",
    "        means, group = kmeans(cluster_pts[i], int(cts_dsv[i]), max_iter=1000)# cts_dsv contains float element, so it need int()\n",
    "        revisedY = np.vstack((revisedY, means))\n",
    "   \n",
    "    return Y, revisedY, cluster_pts"
   ]
  },
  {
   "cell_type": "markdown",
   "metadata": {},
   "source": [
    "ALG3_meansplus"
   ]
  },
  {
   "cell_type": "code",
   "execution_count": 42,
   "metadata": {},
   "outputs": [],
   "source": [
    "def euclid_dist(x1, x2):\n",
    "    \"\"\"\n",
    "    Euclidean distance between two vectors.\n",
    "    \"\"\"\n",
    "    result = 0.0\n",
    "    for i in range(x1.shape[0]): #shape[0] is row number\n",
    "        result += (x1[i] - x2[i]) ** 2\n",
    "    return np.sqrt(result)\n",
    "\n",
    "def ALG3_meansplus(X, K, n_grid, delta_growth):\n",
    "    \"\"\"\n",
    "    Greedy capture for clustering. Find K centers over dataset X.\n",
    "    \n",
    "    Parameters\n",
    "    ----------\n",
    "    X : ndarray of shape (n,d)\n",
    "        Data are given row-wise\n",
    "    K : int\n",
    "        Number of centers\n",
    "    n_grid : int\n",
    "        Discrete whole space into n_grid x n_grid grids. Each grid is a center candidate to be checked if it can capture more than n/K points\n",
    "    delta_growth: float\n",
    "        In each loop, the unit of delta growth\n",
    "    \n",
    "    Returns\n",
    "    -------\n",
    "    Y: ndarray of shape (?,d)\n",
    "        Y.shape[0] depends on dataset X\n",
    "    revisedY : ndarray of shape (K,d)\n",
    "        Given row-wise\n",
    "    cluster_pts : list (of length K) \n",
    "        Each element is an ndarray row-wise containg points in one of clusters\n",
    "    \"\"\"\n",
    "    \n",
    "    n, dim = X.shape\n",
    "    N = X # remaining points after deleting\n",
    "    delta = 0\n",
    "    Y = [np.arange(2,2+dim)] \n",
    "    n_center = 0\n",
    "    clusters = {}\n",
    "    \n",
    "    # In advance, generate all possible centers(locations) row-wise saved in \"all_loc\" \n",
    "    all_loc = np.zeros((pow(n_grid, dim),dim), dtype=np.float32)\n",
    "    for p in range(all_loc.shape[0]):\n",
    "        rest = p\n",
    "        for t in range(dim):\n",
    "            all_loc[p,t] = (rest % n_grid)/n_grid\n",
    "            rest = rest // n_grid\n",
    "    \n",
    "    for i in range(int(1/delta_growth)+1):\n",
    "        delta = np.sqrt(float(dim)) * i * delta_growth \n",
    "        \n",
    "        for p in range(all_loc.shape[0]):\n",
    "            n_cover = 0\n",
    "            pts = []\n",
    "        \n",
    "            for pt in N:\n",
    "                if euclid_dist(all_loc[p], pt) <= delta: \n",
    "                    n_cover += 1\n",
    "                    pts.append(pt)\n",
    "                    \n",
    "            if dim in list((all_loc[p] == np.array(Y)).sum(1)): \n",
    "                clusters[str(p)].extend(pts)\n",
    "                for pt in pts: \n",
    "                    N = np.delete(N, list((N==pt).sum(1)).index(dim), axis=0)        \n",
    "            else:    \n",
    "                if n_cover >= n/K:\n",
    "                    Y.append(all_loc[p])\n",
    "                    cluster = {str(p): pts}\n",
    "                    clusters.update(cluster)\n",
    "                    n_center += 1\n",
    "                    for pt in pts:\n",
    "                        N = np.delete(N, list((N==pt).sum(1)).index(dim), axis=0)# if you forget, use specific example to verify. \n",
    "    \n",
    "    del Y[0] \n",
    "    Y = np.array(Y)\n",
    "    #Y is original centers, but we don't need them. If need, remember decomment this block since Y has its first row redundant\n",
    "    \n",
    "    cluster_pts = []\n",
    "    for key in clusters:\n",
    "        cluster_pts.append(np.array(clusters[key])) \n",
    "    \n",
    "    # In above half, we only need cluster_pts, a list containing ndarrays of points in each cluster\n",
    "        \n",
    "################################################\n",
    "\n",
    "    cluster_num = len(cluster_pts)\n",
    "    coalition_num = np.zeros((cluster_num), dtype=np.float32)# record the number of coalitions in each cluster, where each n/K points form a coalition\n",
    "    for i in range(cluster_num):\n",
    "        coalition_num[i] = len(cluster_pts[i]) / (n/K)\n",
    "\n",
    "    cts_dsv = np.floor(coalition_num) # \"centers_deserve\" of each cluster\n",
    "    cts_dsv_sum = int(np.sum(cts_dsv)) # Without int(), np.sum(cts_dsv) is a float, it'll report error for failing in iteration with \"range(K - cts_dsv_sum)\"\n",
    "    remain = coalition_num - cts_dsv\n",
    "\n",
    "    index = np.argsort(remain)\n",
    "    for i in range(K - cts_dsv_sum):\n",
    "        cts_dsv[index[-1-i]] += 1\n",
    "\n",
    "    revisedY, group = kmeansplus(cluster_pts[0], int(cts_dsv[0]), max_iter=1000)# I need this to carry out subsequent stack\n",
    "    for i in range(1, cluster_num):\n",
    "        means, group = kmeansplus(cluster_pts[i], int(cts_dsv[i]), max_iter=1000)# cts_dsv contains float element, so it need int()\n",
    "        revisedY = np.vstack((revisedY, means))\n",
    "   \n",
    "    return Y, revisedY, cluster_pts"
   ]
  },
  {
   "cell_type": "markdown",
   "metadata": {},
   "source": [
    "ALG3_medians (distance is Manhattan distance)"
   ]
  },
  {
   "cell_type": "code",
   "execution_count": 43,
   "metadata": {},
   "outputs": [],
   "source": [
    "def M_dist(x1, x2):\n",
    "    \"\"\"\n",
    "    Manhattan distance between two vectors.\n",
    "    \"\"\"\n",
    "    result = np.linalg.norm(x1 - x2, ord=1)\n",
    "    return result\n",
    "\n",
    "def ALG3_medians(X, K, n_grid, delta_growth):\n",
    "    \"\"\"\n",
    "    Greedy capture for clustering. Find K centers over dataset X.\n",
    "    \n",
    "    Parameters\n",
    "    ----------\n",
    "    X : ndarray of shape (n,d)\n",
    "        Data are given row-wise\n",
    "    K : int\n",
    "        Number of centers\n",
    "    n_grid : int\n",
    "        Discrete whole space into n_grid x n_grid grids. Each grid is a center candidate to be checked if it can capture more than n/K points\n",
    "    delta_growth: float\n",
    "        In each loop, the unit of delta growth\n",
    "    \n",
    "    Returns\n",
    "    -------\n",
    "    Y: ndarray of shape (?,d)\n",
    "        Y.shape[0] depends on dataset X\n",
    "    revisedY : ndarray of shape (K,d)\n",
    "        Given row-wise\n",
    "    cluster_pts : list (of length K) \n",
    "        Each element is an ndarray row-wise containg points in one of clusters\n",
    "    \"\"\"\n",
    "    \n",
    "    n, dim = X.shape\n",
    "    N = X # remaining points after deleting\n",
    "    delta = 0\n",
    "    Y = [np.arange(2,2+dim)] \n",
    "    n_center = 0\n",
    "    clusters = {}\n",
    "    \n",
    "    # In advance, generate all possible centers(locations) row-wise saved in \"all_loc\" \n",
    "    all_loc = np.zeros((pow(n_grid, dim),dim), dtype=np.float32)\n",
    "    for p in range(all_loc.shape[0]):\n",
    "        rest = p\n",
    "        for t in range(dim):\n",
    "            all_loc[p,t] = (rest % n_grid)/n_grid\n",
    "            rest = rest // n_grid\n",
    "    \n",
    "    for i in range(int(1/delta_growth)+1):\n",
    "        delta = float(dim) * i * delta_growth \n",
    "        \n",
    "        for p in range(all_loc.shape[0]):\n",
    "            n_cover = 0\n",
    "            pts = []\n",
    "        \n",
    "            for pt in N:\n",
    "                if M_dist(all_loc[p], pt) <= delta: \n",
    "                    n_cover += 1\n",
    "                    pts.append(pt)\n",
    "                    \n",
    "            if dim in list((all_loc[p] == np.array(Y)).sum(1)): \n",
    "                clusters[str(p)].extend(pts)\n",
    "                for pt in pts: \n",
    "                    N = np.delete(N, list((N==pt).sum(1)).index(dim), axis=0)        \n",
    "            else:    \n",
    "                if n_cover >= n/K:\n",
    "                    Y.append(all_loc[p])\n",
    "                    cluster = {str(p): pts}\n",
    "                    clusters.update(cluster)\n",
    "                    n_center += 1\n",
    "                    for pt in pts:\n",
    "                        N = np.delete(N, list((N==pt).sum(1)).index(dim), axis=0)# if you forget, use specific example to verify. \n",
    "    \n",
    "    del Y[0] \n",
    "    Y = np.array(Y)\n",
    "    #Y is original centers, but we don't need them. If need, remember decomment this block since Y has its first row redundant\n",
    "    \n",
    "    cluster_pts = []\n",
    "    for key in clusters:\n",
    "        cluster_pts.append(np.array(clusters[key])) \n",
    "    \n",
    "    # In above half, we only need cluster_pts, a list containing ndarrays of points in each cluster\n",
    "        \n",
    "################################################\n",
    "\n",
    "    cluster_num = len(cluster_pts)\n",
    "    coalition_num = np.zeros((cluster_num), dtype=np.float32)# record the number of coalitions in each cluster, where each n/K points form a coalition\n",
    "    for i in range(cluster_num):\n",
    "        coalition_num[i] = len(cluster_pts[i]) / (n/K)\n",
    "\n",
    "    cts_dsv = np.floor(coalition_num) # \"centers_deserve\" of each cluster\n",
    "    cts_dsv_sum = int(np.sum(cts_dsv)) # Without int(), np.sum(cts_dsv) is a float, it'll report error for failing in iteration with \"range(K - cts_dsv_sum)\"\n",
    "    remain = coalition_num - cts_dsv\n",
    "\n",
    "    index = np.argsort(remain)\n",
    "    for i in range(K - cts_dsv_sum):\n",
    "        cts_dsv[index[-1-i]] += 1\n",
    "\n",
    "    revisedY, group = kmedians(cluster_pts[0], int(cts_dsv[0]), max_iter=1000)# I need this to carry out subsequent stack\n",
    "    for i in range(1, cluster_num):\n",
    "        medians, group = kmedians(cluster_pts[i], int(cts_dsv[i]), max_iter=1000)# cts_dsv contains float element, so it need int()\n",
    "        revisedY = np.vstack((revisedY, medians))\n",
    "   \n",
    "    return Y, revisedY, cluster_pts"
   ]
  },
  {
   "cell_type": "code",
   "execution_count": null,
   "metadata": {},
   "outputs": [],
   "source": []
  },
  {
   "cell_type": "markdown",
   "metadata": {},
   "source": [
    "Fairness score computation"
   ]
  },
  {
   "cell_type": "markdown",
   "metadata": {},
   "source": [
    "alpha"
   ]
  },
  {
   "cell_type": "code",
   "execution_count": 44,
   "metadata": {
    "jupyter": {
     "source_hidden": true
    }
   },
   "outputs": [],
   "source": [
    "# show the bad coalition\n",
    "def fairness_score_alpha(X, centers, n_grid):\n",
    "    \"\"\"\n",
    "    Computer fairness score in terms of dimension alpha defined in paper.\n",
    "    \n",
    "    Parameters\n",
    "    ----------\n",
    "    X : ndarray of shape (n,d)\n",
    "        Data points(agents) are given row-wise. \n",
    "    centers: ndarray of shape (K,d)\n",
    "        Cluster centers computed by some other algorithms\n",
    "    n_grid : int\n",
    "        Discrete whole space into n_grid x n_grid grids. Each grid corresponds y' in paper meaning a possible deviating center that a block coalition will deviate to.\n",
    "        It need not be the same with ALG3's n_grid. If available centers(locations) are fixed then must same.\n",
    "    \n",
    "    Returns\n",
    "    -------\n",
    "    max_alpha : float\n",
    "        There are at most max_alpha * (n/K) agents who want to together deviate to another common location(center)\n",
    "        Algorithm which computes \"centers\" doesn't care these <max_alpha * (n/K)> agents adequately\n",
    "    \"\"\"\n",
    "    \n",
    "    n, dim = X.shape\n",
    "    K = centers.shape[0]\n",
    "    max_alpha = 0\n",
    "    \n",
    "    # grid search for possible deviating center(location)\n",
    "    for p in range(pow(n_grid, dim)):\n",
    "        \n",
    "        # transform p to a deviating center\n",
    "        loc = np.zeros((dim), dtype=np.float32)\n",
    "        rest = p\n",
    "        for t in range(dim):\n",
    "            loc[t] = (rest % n_grid)/n_grid\n",
    "            rest = rest // n_grid\n",
    "            \n",
    "        ratio_list = []\n",
    "        for pt in X:\n",
    "            \n",
    "            to_center_dist = []\n",
    "            for c in centers:\n",
    "                to_center_dist.append(euclid_dist(c, pt))\n",
    "            min_dist_to_centers = min(to_center_dist)# d(i,Y)\n",
    "            \n",
    "            ratio_list.append(min_dist_to_centers / euclid_dist(loc, pt))\n",
    "            # For current loop-fixed deviating center loc, X has a ratio_list whose element is d(i,Y)/d(i,y') (y' is unchanged in ratio_list)\n",
    "        \n",
    "        index = np.argsort(ratio_list)  \n",
    "        \n",
    "        if max(ratio_list) >= 1.0: # There really exists some pt(agent) in X who prefers to deviate to current loop-fixed location(center)\n",
    "            \n",
    "            A = 0 # \\sum{d(i, Y)}\n",
    "            B = 0 # \\sum{d(i, y')}\n",
    "\n",
    "            alpha_coalition = []\n",
    "            for i in range(n):\n",
    "                pt = X[index[-1-i]]\n",
    "                \n",
    "                alpha_coalition.append(pt)\n",
    "                \n",
    "                to_center_dist = []\n",
    "                for c in centers:\n",
    "                    to_center_dist.append(euclid_dist(c, pt))\n",
    "                min_dist_to_centers = min(to_center_dist)\n",
    "                \n",
    "                A += min_dist_to_centers\n",
    "                B += euclid_dist(loc, pt) # here loc = y'\n",
    "                \n",
    "                # For a real deviating center, when i iterates not much, A/B is large since y' is highly close to pts in X[index[-1-i]]\n",
    "                if A/B <= 1.0: \n",
    "                    # now find a group of agents with size i+1(i starts from 0, i+1 is true number of points) won't divert to loc (i.e., sum_d(i,Y) <= sum_d(i,loc))\n",
    "                    # i agents will divert to loc together, i+1 agents won't, then (i+1)/(n/K) is this y'(loc)'s alpha\n",
    "                    if max_alpha < (i+1) * K/ n:\n",
    "                        #always update max_alpha with current largest alpha\n",
    "                        max_alpha = (i+1) * K/ n\n",
    "                        max_alpha_coalition = np.array(alpha_coalition)\n",
    "                        max_alpha_deviating_center = loc\n",
    "                        break\n",
    "                    break\n",
    "                    \n",
    "    # max_alpha_coalition: ndarray of points in X with max_alpha\n",
    "    return max_alpha, max_alpha_coalition, max_alpha_deviating_center"
   ]
  },
  {
   "cell_type": "markdown",
   "metadata": {},
   "source": [
    "beta"
   ]
  },
  {
   "cell_type": "code",
   "execution_count": 45,
   "metadata": {
    "jupyter": {
     "source_hidden": true
    }
   },
   "outputs": [],
   "source": [
    "def fairness_score_beta(X, centers, n_grid):\n",
    "    \"\"\"\n",
    "    Computer fairness score in terms of dimension beta defined in paper.\n",
    "    \n",
    "    Parameters\n",
    "    ----------\n",
    "    X : ndarray of shape (n,d)\n",
    "        Data points(agents) are given row-wise. \n",
    "    centers: ndarray of shape (K,d)\n",
    "        Cluster centers computed by some other algorithms\n",
    "    n_grid : int\n",
    "        Discrete whole space into n_grid x n_grid grids. Each grid corresponds y' in paper meaning a possible deviating center that a block coalition will deviate to.\n",
    "        It need not be the same with ALG3's n_grid. If available centers(locations) are fixed then must same.\n",
    "    \n",
    "    Returns\n",
    "    -------\n",
    "    max_beta : float\n",
    "        All kinds of ceil(n/K) agents have total distance to their closest centers smaller than that to the center they most want to deviate\n",
    "    \"\"\"\n",
    "    \n",
    "    n, dim = X.shape\n",
    "    max_beta = 0\n",
    "    K = centers.shape[0]\n",
    "    \n",
    "    # grid search for feasible cluster center location 'loc'\n",
    "    for p in range(pow(n_grid, dim)):\n",
    "        \n",
    "        # transform p to practical possible deviating `location\n",
    "        loc = np.zeros((dim), dtype=np.float32)\n",
    "        rest = p\n",
    "        for t in range(dim):\n",
    "            loc[t] = (rest % n_grid)/n_grid\n",
    "            rest = rest // n_grid\n",
    "            \n",
    "        ratio_list = []\n",
    "        for pt in X:\n",
    "            \n",
    "            to_center_dist = []\n",
    "            for c in centers:\n",
    "                to_center_dist.append(euclid_dist(c, pt))\n",
    "            min_dist_to_centers = min(to_center_dist) \n",
    "            #for this pt, the distance between it and the center closest to it is min_dist_to_centers\n",
    "            #in paper, it is d(pt,centers)\n",
    "            \n",
    "            ratio_list.append(min_dist_to_centers / euclid_dist(loc, pt))\n",
    "        \n",
    "        index = np.argsort(ratio_list)\n",
    "        #index is ndarray whose elements are indexes of ratio_list and the indexes' corresponding elements in ratio_list are in increasing order\n",
    "        \n",
    "        A = 0 # \\sum{d(i, Y)}\n",
    "        B = 0 # \\sum{d(i, y')}\n",
    "        \n",
    "        beta_coalition = []\n",
    "        for i in range(math.ceil(n/K)):\n",
    "            pt = X[index[-1-i]]\n",
    "            # find ceil(n/K) points whose ratio in ratios list are first ceil(n/K) large ones\n",
    "            # these points most possibly in X divert to loc in this p loop \n",
    "            \n",
    "            beta_coalition.append(pt)\n",
    "            \n",
    "            to_center_dist = []\n",
    "            for c in centers:\n",
    "                to_center_dist.append(euclid_dist(c, pt))\n",
    "            min_dist_to_centers = min(to_center_dist)\n",
    "            #print(min_dist_to_centers / euclid_dist(loc, pt))\n",
    "            \n",
    "            A += min_dist_to_centers\n",
    "            B += euclid_dist(loc, pt)\n",
    "        \n",
    "        if A/B > max_beta:\n",
    "            max_beta = A/B\n",
    "            max_beta_coalition = np.array(beta_coalition)\n",
    "            max_beta_deviating_center = loc\n",
    "\n",
    "    return max_beta, max_beta_coalition, max_beta_deviating_center"
   ]
  },
  {
   "cell_type": "markdown",
   "metadata": {},
   "source": [
    "alpha for M distance"
   ]
  },
  {
   "cell_type": "code",
   "execution_count": 46,
   "metadata": {
    "jupyter": {
     "source_hidden": true
    }
   },
   "outputs": [],
   "source": [
    "# show the bad coalition\n",
    "def fairness_score_alpha_M(X, centers, n_grid):\n",
    "    \"\"\"\n",
    "    Computer fairness score in terms of dimension alpha defined in paper.\n",
    "    \n",
    "    Parameters\n",
    "    ----------\n",
    "    X : ndarray of shape (n,d)\n",
    "        Data points(agents) are given row-wise. \n",
    "    centers: ndarray of shape (K,d)\n",
    "        Cluster centers computed by some other algorithms\n",
    "    n_grid : int\n",
    "        Discrete whole space into n_grid x n_grid grids. Each grid corresponds y' in paper meaning a possible deviating center that a block coalition will deviate to.\n",
    "        It need not be the same with ALG3's n_grid. If available centers(locations) are fixed then must same.\n",
    "    \n",
    "    Returns\n",
    "    -------\n",
    "    max_alpha : float\n",
    "        There are at most max_alpha * (n/K) agents who want to together deviate to another common location(center)\n",
    "        Algorithm which computes \"centers\" doesn't care these <max_alpha * (n/K)> agents adequately\n",
    "    \"\"\"\n",
    "    \n",
    "    n, dim = X.shape\n",
    "    K = centers.shape[0]\n",
    "    max_alpha = 0\n",
    "    \n",
    "    # grid search for possible deviating center(location)\n",
    "    for p in range(pow(n_grid, dim)):\n",
    "        \n",
    "        # transform p to a deviating center\n",
    "        loc = np.zeros((dim), dtype=np.float32)\n",
    "        rest = p\n",
    "        for t in range(dim):\n",
    "            loc[t] = (rest % n_grid)/n_grid\n",
    "            rest = rest // n_grid\n",
    "            \n",
    "        ratio_list = []\n",
    "        for pt in X:\n",
    "            \n",
    "            to_center_dist = []\n",
    "            for c in centers:\n",
    "                to_center_dist.append(M_dist(c, pt))\n",
    "            min_dist_to_centers = min(to_center_dist)# d(i,Y)\n",
    "            \n",
    "            ratio_list.append(min_dist_to_centers / M_dist(loc, pt))\n",
    "            # For current loop-fixed deviating center loc, X has a ratio_list whose element is d(i,Y)/d(i,y') (y' is unchanged in ratio_list)\n",
    "        \n",
    "        index = np.argsort(ratio_list)  \n",
    "        \n",
    "        if max(ratio_list) >= 1.0: # There really exists some pt(agent) in X who prefers to deviate to current loop-fixed location(center)\n",
    "            \n",
    "            A = 0 # \\sum{d(i, Y)}\n",
    "            B = 0 # \\sum{d(i, y')}\n",
    "\n",
    "            alpha_coalition = []\n",
    "            for i in range(n):\n",
    "                pt = X[index[-1-i]]\n",
    "                \n",
    "                alpha_coalition.append(pt)\n",
    "                \n",
    "                to_center_dist = []\n",
    "                for c in centers:\n",
    "                    to_center_dist.append(M_dist(c, pt))\n",
    "                min_dist_to_centers = min(to_center_dist)\n",
    "                \n",
    "                A += min_dist_to_centers\n",
    "                B += M_dist(loc, pt) # here loc = y'\n",
    "                \n",
    "                # For a real deviating center, when i iterates not much, A/B is large since y' is highly close to pts in X[index[-1-i]]\n",
    "                if A/B <= 1.0: \n",
    "                    # now find a group of agents with size i+1(i starts from 0, i+1 is true number of points) won't divert to loc (i.e., sum_d(i,Y) <= sum_d(i,loc))\n",
    "                    # i agents will divert to loc together, i+1 agents won't, then (i+1)/(n/K) is this y'(loc)'s alpha\n",
    "                    if max_alpha < (i+1) * K/ n:\n",
    "                        #always update max_alpha with current largest alpha\n",
    "                        max_alpha = (i+1) * K/ n\n",
    "                        max_alpha_coalition = np.array(alpha_coalition)\n",
    "                        max_alpha_deviating_center = loc\n",
    "                        break\n",
    "                    break\n",
    "                    \n",
    "    # max_alpha_coalition: ndarray of points in X with max_alpha\n",
    "    return max_alpha, max_alpha_coalition, max_alpha_deviating_center"
   ]
  },
  {
   "cell_type": "markdown",
   "metadata": {},
   "source": [
    "beta for M distance"
   ]
  },
  {
   "cell_type": "code",
   "execution_count": 47,
   "metadata": {
    "jupyter": {
     "source_hidden": true
    }
   },
   "outputs": [],
   "source": [
    "def fairness_score_beta_M(X, centers, n_grid):\n",
    "    \"\"\"\n",
    "    Computer fairness score in terms of dimension beta defined in paper.\n",
    "    \n",
    "    Parameters\n",
    "    ----------\n",
    "    X : ndarray of shape (n,d)\n",
    "        Data points(agents) are given row-wise. \n",
    "    centers: ndarray of shape (K,d)\n",
    "        Cluster centers computed by some other algorithms\n",
    "    n_grid : int\n",
    "        Discrete whole space into n_grid x n_grid grids. Each grid corresponds y' in paper meaning a possible deviating center that a block coalition will deviate to.\n",
    "        It need not be the same with ALG3's n_grid. If available centers(locations) are fixed then must same.\n",
    "    \n",
    "    Returns\n",
    "    -------\n",
    "    max_beta : float\n",
    "        All kinds of ceil(n/K) agents have total distance to their closest centers smaller than that to the center they most want to deviate\n",
    "    \"\"\"\n",
    "    \n",
    "    n, dim = X.shape\n",
    "    max_beta = 0\n",
    "    K = centers.shape[0]\n",
    "    \n",
    "    # grid search for feasible cluster center location 'loc'\n",
    "    for p in range(pow(n_grid, dim)):\n",
    "        \n",
    "        # transform p to practical possible deviating `location\n",
    "        loc = np.zeros((dim), dtype=np.float32)\n",
    "        rest = p\n",
    "        for t in range(dim):\n",
    "            loc[t] = (rest % n_grid)/n_grid\n",
    "            rest = rest // n_grid\n",
    "            \n",
    "        ratio_list = []\n",
    "        for pt in X:\n",
    "            \n",
    "            to_center_dist = []\n",
    "            for c in centers:\n",
    "                to_center_dist.append(M_dist(c, pt))\n",
    "            min_dist_to_centers = min(to_center_dist) \n",
    "            #for this pt, the distance between it and the center closest to it is min_dist_to_centers\n",
    "            #in paper, it is d(pt,centers)\n",
    "            \n",
    "            ratio_list.append(min_dist_to_centers / M_dist(loc, pt))\n",
    "        \n",
    "        index = np.argsort(ratio_list)\n",
    "        #index is ndarray whose elements are indexes of ratio_list and the indexes' corresponding elements in ratio_list are in increasing order\n",
    "        \n",
    "        A = 0 # \\sum{d(i, Y)}\n",
    "        B = 0 # \\sum{d(i, y')}\n",
    "        \n",
    "        beta_coalition = []\n",
    "        for i in range(math.ceil(n/K)):\n",
    "            pt = X[index[-1-i]]\n",
    "            # find ceil(n/K) points whose ratio in ratios list are first ceil(n/K) large ones\n",
    "            # these points most possibly in X divert to loc in this p loop \n",
    "            \n",
    "            beta_coalition.append(pt)\n",
    "            \n",
    "            to_center_dist = []\n",
    "            for c in centers:\n",
    "                to_center_dist.append(M_dist(c, pt))\n",
    "            min_dist_to_centers = min(to_center_dist)\n",
    "            #print(min_dist_to_centers / euclid_dist(loc, pt))\n",
    "            \n",
    "            A += min_dist_to_centers\n",
    "            B += M_dist(loc, pt)\n",
    "        \n",
    "        if A/B > max_beta:\n",
    "            max_beta = A/B\n",
    "            max_beta_coalition = np.array(beta_coalition)\n",
    "            max_beta_deviating_center = loc\n",
    "\n",
    "    return max_beta, max_beta_coalition, max_beta_deviating_center"
   ]
  },
  {
   "cell_type": "code",
   "execution_count": null,
   "metadata": {},
   "outputs": [],
   "source": []
  },
  {
   "cell_type": "markdown",
   "metadata": {},
   "source": [
    "totaldist(objective) computation"
   ]
  },
  {
   "cell_type": "code",
   "execution_count": 48,
   "metadata": {},
   "outputs": [],
   "source": [
    "def totaldist(X, centers, ismeans):\n",
    "    '''\n",
    "    Compute total distance for kmeans or kmedians\n",
    "    \n",
    "    X: dataset\n",
    "    centers: ndarray of shape (K, dim)\n",
    "    ismeans: True when centers are related to kmeans; False when median\n",
    "    \n",
    "    '''\n",
    "\n",
    "    totaldist = 0\n",
    "    \n",
    "    if ismeans:\n",
    "        for pt in X:\n",
    "            totaldist += np.min(((centers-pt)**2).sum(axis=1))\n",
    "    else:\n",
    "        for pt in X:\n",
    "            totaldist += np.min(np.abs(centers-pt).sum(axis=1))\n",
    "    \n",
    "    return totaldist"
   ]
  },
  {
   "cell_type": "code",
   "execution_count": null,
   "metadata": {},
   "outputs": [],
   "source": []
  },
  {
   "cell_type": "code",
   "execution_count": null,
   "metadata": {},
   "outputs": [],
   "source": []
  },
  {
   "cell_type": "markdown",
   "metadata": {},
   "source": [
    "Visualization"
   ]
  },
  {
   "cell_type": "markdown",
   "metadata": {},
   "source": [
    "ALG3_augmented_nofix(Y, revisedY, cluster_pts)"
   ]
  },
  {
   "cell_type": "code",
   "execution_count": 49,
   "metadata": {},
   "outputs": [],
   "source": [
    "def ALG3_augmented_nofix(Y, revisedY, cluster_pts):\n",
    "    \n",
    "    #Y, revisedY, cluster_pts = ALG3(gaussian1, 10, 20, 1/200)\n",
    "\n",
    "    color = ['c','y','palegreen','plum','tan',\n",
    "             'yellow','paleturquoise','pink','cornflowerblue','mistyrose',\n",
    "             'olive','salmon','lightskyblue','darkgrey','lime',\n",
    "            'lightcoral','tomato','chocolate','olivedrab','cadetblue']\n",
    "\n",
    "    for i in range(len(cluster_pts)):\n",
    "        plt.scatter(cluster_pts[i][:,0], cluster_pts[i][:,1], s = 3, c=color[i])\n",
    "\n",
    "    plt.scatter(Y[:, 0], Y[:, 1], s=80, marker='*', c='r')# s is size\n",
    "    plt.scatter(revisedY[:, 0], revisedY[:, 1], s=100, marker='x', c='b')# s is size"
   ]
  },
  {
   "cell_type": "markdown",
   "metadata": {},
   "source": [
    "max_alpha_coalition(max_alpha_coalition, max_alpha_deviating_center):"
   ]
  },
  {
   "cell_type": "code",
   "execution_count": 50,
   "metadata": {
    "jupyter": {
     "source_hidden": true
    }
   },
   "outputs": [],
   "source": [
    "def max_alpha_coalition(max_alpha_coalition, max_alpha_deviating_center):\n",
    "    plt.scatter(max_alpha_coalition[:, 0], max_alpha_coalition[:, 1], s=20, marker='*')\n",
    "    plt.scatter(max_alpha_deviating_center[0], max_alpha_deviating_center[1], s=100, marker='*', c='r')"
   ]
  },
  {
   "cell_type": "markdown",
   "metadata": {},
   "source": [
    "max_beta_coalition(max_beta_coalition, max_beta_deviating_center)"
   ]
  },
  {
   "cell_type": "code",
   "execution_count": 51,
   "metadata": {
    "jupyter": {
     "source_hidden": true
    }
   },
   "outputs": [],
   "source": [
    "def max_beta_coalition(max_beta_coalition, max_beta_deviating_center):\n",
    "    plt.scatter(max_beta_coalition[:, 0], max_beta_coalition[:, 1], s=20, marker='*')\n",
    "    plt.scatter(max_beta_deviating_center[0], max_beta_deviating_center[1], s=100, marker='*', c='r')"
   ]
  },
  {
   "cell_type": "markdown",
   "metadata": {},
   "source": [
    "view_meansormedians(X, centers, groups) #different from ALG3_? is because the specialty of their return"
   ]
  },
  {
   "cell_type": "code",
   "execution_count": 52,
   "metadata": {},
   "outputs": [],
   "source": [
    "def view_meansormedians(X, centers, groups):\n",
    "    # find each cluster in kmeans_fix_several_centers\n",
    "    cluster = []\n",
    "    for value in groups.values():\n",
    "        each_cluster = np.zeros(2)\n",
    "        for i in value:\n",
    "            each_cluster = np.vstack((each_cluster, X[i]))\n",
    "        each_cluster = np.delete(each_cluster, 0, axis=0)\n",
    "        cluster.append(each_cluster)\n",
    "\n",
    "    #use different colors to draw each cluster that k-means derives\n",
    "    color = ['c','y','palegreen','plum','tan',\n",
    "             'yellow','paleturquoise','pink','cornflowerblue','mistyrose',\n",
    "             'olive','salmon','lightskyblue','darkgrey','lime',\n",
    "            'lightcoral','tomato','chocolate','olivedrab','cadetblue']# only afford less than 20 clusters!!!\n",
    "    for i in range(len(cluster)):\n",
    "        plt.scatter(cluster[i][:,0], cluster[i][:,1], s = 3, c=color[i])\n",
    "    plt.scatter(centers[:, 0], centers[:, 1], s=100, marker='x', c='b')# s is size"
   ]
  },
  {
   "cell_type": "code",
   "execution_count": null,
   "metadata": {},
   "outputs": [],
   "source": []
  },
  {
   "cell_type": "markdown",
   "metadata": {},
   "source": [
    "IMPORT dataset"
   ]
  },
  {
   "cell_type": "code",
   "execution_count": 35,
   "metadata": {},
   "outputs": [
    {
     "name": "stdout",
     "output_type": "stream",
     "text": [
      "[[0.68391154 0.54350367]\n",
      " [0.68570112 0.55113605]\n",
      " [0.61280989 0.57024472]\n",
      " ...\n",
      " [0.66958421 0.88094298]\n",
      " [0.61543589 0.87815383]\n",
      " [0.70506817 0.86060774]]\n"
     ]
    },
    {
     "data": {
      "text/plain": [
       "<matplotlib.collections.PathCollection at 0x7fd8e5c18790>"
      ]
     },
     "execution_count": 35,
     "metadata": {},
     "output_type": "execute_result"
    },
    {
     "data": {
      "image/png": "[encoded data removed]",
      "text/plain": [
       "<Figure size 432x288 with 1 Axes>"
      ]
     },
     "metadata": {
      "needs_background": "light"
     },
     "output_type": "display_data"
    }
   ],
   "source": [
    "gauss15 = pd.read_csv('/Users/lijunli/Desktop/ex/Fair clustering/dataset/15gauss.csv', header=None)\n",
    "\n",
    "gauss15 = np.array(gauss15)\n",
    "#gauss15.shape\n",
    "\n",
    "min_max_scaler = preprocessing.MinMaxScaler()\n",
    "gaussian_data = min_max_scaler.fit_transform(gauss15)\n",
    "print(gaussian_data)\n",
    "plt.scatter(gaussian_data[:,0], gaussian_data[:,1],s=1)"
   ]
  },
  {
   "cell_type": "code",
   "execution_count": null,
   "metadata": {},
   "outputs": [],
   "source": []
  },
  {
   "cell_type": "markdown",
   "metadata": {},
   "source": [
    "medians part"
   ]
  },
  {
   "cell_type": "code",
   "execution_count": null,
   "metadata": {},
   "outputs": [],
   "source": [
    "for K in range(8,18):\n",
    "    medians, groups_medians = kmedians(gaussian_data, K)\n",
    "    max_alpha_medians, max_alpha_coalition_medians, max_alpha_deviating_center_medians = fairness_score_alpha_M(gaussian_data, medians, 20)\n",
    "    max_beta_medians, max_beta_coalition_medians, max_beta_deviating_center_medians = fairness_score_beta_M(gaussian_data, medians, 20)\n",
    "    totaldist_medians = totaldist(gaussian_data, medians, False)\n",
    "    print(max_alpha_medians, max_beta_medians, totaldist_medians)\n",
    "\n",
    "\n",
    "    Y_medians_20, revisedY_medians_20, cluster_pts_medians_20 = ALG3_medians(gaussian_data, K, 20, 1/200)\n",
    "    max_alpha_A3medians20, max_alpha_coalition_A3medians20, max_alpha_deviating_center_A3medians20 = fairness_score_alpha_M(gaussian_data, revisedY_medians_20, 20)\n",
    "    max_beta_A3medians20, max_beta_coalition_A3medians20, max_beta_deviating_center_A3medians20 = fairness_score_beta_M(gaussian_data, revisedY_medians_20, 20)\n",
    "    totaldist_A3medians20 = totaldist(gaussian_data, revisedY_medians_20, False)\n",
    "    print(max_alpha_A3medians20, max_beta_A3medians20, totaldist_A3medians20)\n",
    "\n",
    "# carelessly run it in markdown mode and lose its output data, but previously saved output data in gaussS1score.csv  "
   ]
  },
  {
   "cell_type": "code",
   "execution_count": 56,
   "metadata": {},
   "outputs": [
    {
     "name": "stdout",
     "output_type": "stream",
     "text": [
      "1.6912 1.9065081431329336 666.6880161978191\n",
      "1.3904 1.208586415772149 620.2062962243755\n",
      "1.2 1.128971589313643 601.2816092110155\n",
      "1.8688 2.0186503292054634 649.7714825493732\n",
      "1.2752 1.18803612319678 601.9181764581158\n",
      "1.8688 2.0186503292054634 649.7714825493732\n",
      "2.3474 2.8206039753136682 647.0531966160397\n",
      "1.4982 1.5388253550532727 434.18387490731885\n",
      "1.7534 1.8266100065777506 493.5039897531696\n",
      "1.4982 1.5388253550532727 434.18387490731885\n",
      "1.3574 1.3504809466838827 429.8788522436425\n",
      "1.6742 1.9955218200471214 468.6059835713172\n"
     ]
    }
   ],
   "source": [
    "for i in range(3):\n",
    "    K=8\n",
    "    medians, groups_medians = kmedians(gaussian_data, K)\n",
    "    max_alpha_medians, max_alpha_coalition_medians, max_alpha_deviating_center_medians = fairness_score_alpha_M(gaussian_data, medians, 20)\n",
    "    max_beta_medians, max_beta_coalition_medians, max_beta_deviating_center_medians = fairness_score_beta_M(gaussian_data, medians, 20)\n",
    "    totaldist_medians = totaldist(gaussian_data, medians, False)\n",
    "    print(max_alpha_medians, max_beta_medians, totaldist_medians)\n",
    "\n",
    "    Y_medians_20, revisedY_medians_20, cluster_pts_medians_20 = ALG3_medians(gaussian_data, K, 20, 1/200)\n",
    "    max_alpha_A3medians20, max_alpha_coalition_A3medians20, max_alpha_deviating_center_A3medians20 = fairness_score_alpha_M(gaussian_data, revisedY_medians_20, 20)\n",
    "    max_beta_A3medians20, max_beta_coalition_A3medians20, max_beta_deviating_center_A3medians20 = fairness_score_beta_M(gaussian_data, revisedY_medians_20, 20)\n",
    "    totaldist_A3medians20 = totaldist(gaussian_data, revisedY_medians_20, False)\n",
    "    print(max_alpha_A3medians20, max_beta_A3medians20, totaldist_A3medians20)\n",
    "\n",
    "for i in range(3):\n",
    "    K=11\n",
    "    medians, groups_medians = kmedians(gaussian_data, K)\n",
    "    max_alpha_medians, max_alpha_coalition_medians, max_alpha_deviating_center_medians = fairness_score_alpha_M(gaussian_data, medians, 20)\n",
    "    max_beta_medians, max_beta_coalition_medians, max_beta_deviating_center_medians = fairness_score_beta_M(gaussian_data, medians, 20)\n",
    "    totaldist_medians = totaldist(gaussian_data, medians, False)\n",
    "    print(max_alpha_medians, max_beta_medians, totaldist_medians)\n",
    "\n",
    "    Y_medians_20, revisedY_medians_20, cluster_pts_medians_20 = ALG3_medians(gaussian_data, K, 20, 1/200)\n",
    "    max_alpha_A3medians20, max_alpha_coalition_A3medians20, max_alpha_deviating_center_A3medians20 = fairness_score_alpha_M(gaussian_data, revisedY_medians_20, 20)\n",
    "    max_beta_A3medians20, max_beta_coalition_A3medians20, max_beta_deviating_center_A3medians20 = fairness_score_beta_M(gaussian_data, revisedY_medians_20, 20)\n",
    "    totaldist_A3medians20 = totaldist(gaussian_data, revisedY_medians_20, False)\n",
    "    print(max_alpha_A3medians20, max_beta_A3medians20, totaldist_A3medians20)\n",
    "    \n",
    "    \n",
    "    \n",
    "    "
   ]
  },
  {
   "cell_type": "code",
   "execution_count": 57,
   "metadata": {},
   "outputs": [
    {
     "name": "stdout",
     "output_type": "stream",
     "text": [
      "1.9808 2.2493803261183984 677.1822881898745\n",
      "1.3904 1.208586415772149 620.2062962243755\n",
      "1.9872 1.7786032780894383 620.2229017040519\n",
      "1.3904 1.2082081801672004 657.8311343787533\n",
      "1.9952 1.788055428053887 621.247197562359\n",
      "1.8688 2.0186503292054634 649.7714825493732\n"
     ]
    }
   ],
   "source": [
    "for i in range(3):\n",
    "    K=8\n",
    "    medians, groups_medians = kmedians(gaussian_data, K)\n",
    "    max_alpha_medians, max_alpha_coalition_medians, max_alpha_deviating_center_medians = fairness_score_alpha_M(gaussian_data, medians, 20)\n",
    "    max_beta_medians, max_beta_coalition_medians, max_beta_deviating_center_medians = fairness_score_beta_M(gaussian_data, medians, 20)\n",
    "    totaldist_medians = totaldist(gaussian_data, medians, False)\n",
    "    print(max_alpha_medians, max_beta_medians, totaldist_medians)\n",
    "\n",
    "    Y_medians_20, revisedY_medians_20, cluster_pts_medians_20 = ALG3_medians(gaussian_data, K, 20, 1/200)\n",
    "    max_alpha_A3medians20, max_alpha_coalition_A3medians20, max_alpha_deviating_center_A3medians20 = fairness_score_alpha_M(gaussian_data, revisedY_medians_20, 20)\n",
    "    max_beta_A3medians20, max_beta_coalition_A3medians20, max_beta_deviating_center_A3medians20 = fairness_score_beta_M(gaussian_data, revisedY_medians_20, 20)\n",
    "    totaldist_A3medians20 = totaldist(gaussian_data, revisedY_medians_20, False)\n",
    "    print(max_alpha_A3medians20, max_beta_A3medians20, totaldist_A3medians20)"
   ]
  },
  {
   "cell_type": "code",
   "execution_count": null,
   "metadata": {},
   "outputs": [],
   "source": []
  },
  {
   "cell_type": "code",
   "execution_count": null,
   "metadata": {},
   "outputs": [],
   "source": []
  },
  {
   "cell_type": "code",
   "execution_count": null,
   "metadata": {},
   "outputs": [],
   "source": []
  },
  {
   "cell_type": "code",
   "execution_count": null,
   "metadata": {},
   "outputs": [],
   "source": []
  },
  {
   "cell_type": "code",
   "execution_count": null,
   "metadata": {},
   "outputs": [],
   "source": []
  },
  {
   "cell_type": "code",
   "execution_count": null,
   "metadata": {},
   "outputs": [],
   "source": []
  },
  {
   "cell_type": "code",
   "execution_count": null,
   "metadata": {},
   "outputs": [],
   "source": []
  },
  {
   "cell_type": "code",
   "execution_count": null,
   "metadata": {},
   "outputs": [],
   "source": []
  },
  {
   "cell_type": "code",
   "execution_count": null,
   "metadata": {},
   "outputs": [],
   "source": []
  },
  {
   "cell_type": "code",
   "execution_count": null,
   "metadata": {},
   "outputs": [],
   "source": []
  },
  {
   "cell_type": "code",
   "execution_count": null,
   "metadata": {},
   "outputs": [],
   "source": []
  },
  {
   "cell_type": "code",
   "execution_count": null,
   "metadata": {},
   "outputs": [],
   "source": []
  },
  {
   "cell_type": "markdown",
   "metadata": {},
   "source": [
    "RUN Algorithms"
   ]
  },
  {
   "cell_type": "markdown",
   "metadata": {},
   "source": [
    "Accuracy=20"
   ]
  },
  {
   "cell_type": "code",
   "execution_count": 41,
   "metadata": {},
   "outputs": [
    {
     "name": "stdout",
     "output_type": "stream",
     "text": [
      "1.511 1.2545959505578204\n"
     ]
    }
   ],
   "source": [
    "means, groups_means = kmeans(gaussian_data, 5)\n",
    "max_alpha_means, max_alpha_coalition_means, max_alpha_deviating_center_means = fairness_score_alpha(gaussian_data, means, 20)\n",
    "max_beta_means, max_beta_coalition_means, max_beta_deviating_center_means = fairness_score_beta(gaussian_data, means, 20)\n",
    "print(max_alpha_means, max_beta_means)"
   ]
  },
  {
   "cell_type": "code",
   "execution_count": 43,
   "metadata": {},
   "outputs": [
    {
     "name": "stdout",
     "output_type": "stream",
     "text": [
      "137.86325440467814\n"
     ]
    }
   ],
   "source": [
    "totaldist_means = totaldist(gaussian_data, means, True)\n",
    "print(totaldist_means)"
   ]
  },
  {
   "cell_type": "code",
   "execution_count": 42,
   "metadata": {},
   "outputs": [
    {
     "data": {
      "image/png": "[encoded data removed]",
      "text/plain": [
       "<Figure size 432x288 with 1 Axes>"
      ]
     },
     "metadata": {
      "needs_background": "light"
     },
     "output_type": "display_data"
    }
   ],
   "source": [
    "view_meansormedians(gaussian_data, means, groups_means)\n",
    "plt.title(\"kmeans\")\n",
    "plt.show()"
   ]
  },
  {
   "cell_type": "code",
   "execution_count": 44,
   "metadata": {},
   "outputs": [
    {
     "name": "stdout",
     "output_type": "stream",
     "text": [
      "1.576 1.5214875396891503 969.4972633370479\n"
     ]
    }
   ],
   "source": [
    "medians, groups_medians = kmedians(gaussian_data, 5)\n",
    "max_alpha_medians, max_alpha_coalition_medians, max_alpha_deviating_center_medians = fairness_score_alpha_M(gaussian_data, medians, 20)\n",
    "max_beta_medians, max_beta_coalition_medians, max_beta_deviating_center_medians = fairness_score_beta_M(gaussian_data, medians, 20)\n",
    "totaldist_medians = totaldist(gaussian_data, medians, False)\n",
    "print(max_alpha_medians, max_beta_medians, totaldist_medians)"
   ]
  },
  {
   "cell_type": "code",
   "execution_count": 45,
   "metadata": {},
   "outputs": [
    {
     "data": {
      "image/png": "[encoded data removed]",
      "text/plain": [
       "<Figure size 432x288 with 1 Axes>"
      ]
     },
     "metadata": {
      "needs_background": "light"
     },
     "output_type": "display_data"
    }
   ],
   "source": [
    "view_meansormedians(gaussian_data, medians, groups_medians)\n",
    "plt.title(\"kmedians\")\n",
    "plt.show()"
   ]
  },
  {
   "cell_type": "code",
   "execution_count": 46,
   "metadata": {},
   "outputs": [
    {
     "name": "stdout",
     "output_type": "stream",
     "text": [
      "1.459 1.2791148167332045 140.74697969199605\n"
     ]
    }
   ],
   "source": [
    "Y_means_20, revisedY_means_20, cluster_pts_means_20 = ALG3_means(gaussian_data, 5, 20, 1/200)\n",
    "max_alpha_A3means20, max_alpha_coalition_A3means20, max_alpha_deviating_center_A3means20 = fairness_score_alpha(gaussian_data, revisedY_means_20, 20)\n",
    "max_beta_A3means20, max_beta_coalition_A3means20, max_beta_deviating_center_A3means20 = fairness_score_beta(gaussian_data, revisedY_means_20, 20)\n",
    "totaldist_A3means20 = totaldist(gaussian_data, revisedY_means_20, True)\n",
    "print(max_alpha_A3means20, max_beta_A3means20, totaldist_A3means20)"
   ]
  },
  {
   "cell_type": "code",
   "execution_count": 47,
   "metadata": {},
   "outputs": [
    {
     "data": {
      "image/png": "[encoded data removed]",
      "text/plain": [
       "<Figure size 432x288 with 1 Axes>"
      ]
     },
     "metadata": {
      "needs_background": "light"
     },
     "output_type": "display_data"
    }
   ],
   "source": [
    "ALG3_augmented_nofix(Y_means_20, revisedY_means_20, cluster_pts_means_20)\n",
    "plt.title(\"ALG3_means\")\n",
    "plt.show()"
   ]
  },
  {
   "cell_type": "code",
   "execution_count": 48,
   "metadata": {},
   "outputs": [
    {
     "name": "stdout",
     "output_type": "stream",
     "text": [
      "1.351 1.519642716854703 983.9553991277887\n"
     ]
    }
   ],
   "source": [
    "Y_medians_20, revisedY_medians_20, cluster_pts_medians_20 = ALG3_medians(gaussian_data, 5, 20, 1/200)\n",
    "max_alpha_A3medians20, max_alpha_coalition_A3medians20, max_alpha_deviating_center_A3medians20 = fairness_score_alpha_M(gaussian_data, revisedY_medians_20, 20)\n",
    "max_beta_A3medians20, max_beta_coalition_A3medians20, max_beta_deviating_center_A3medians20 = fairness_score_beta_M(gaussian_data, revisedY_medians_20, 20)\n",
    "totaldist_A3medians20 = totaldist(gaussian_data, revisedY_medians_20, False)\n",
    "print(max_alpha_A3medians20, max_beta_A3medians20, totaldist_A3medians20)"
   ]
  },
  {
   "cell_type": "code",
   "execution_count": 56,
   "metadata": {},
   "outputs": [
    {
     "data": {
      "text/plain": [
       "Text(0.5, 1.0, 'ALG3_medians K=5')"
      ]
     },
     "execution_count": 56,
     "metadata": {},
     "output_type": "execute_result"
    },
    {
     "data": {
      "image/png": "[encoded data removed]",
      "text/plain": [
       "<Figure size 432x288 with 1 Axes>"
      ]
     },
     "metadata": {
      "needs_background": "light"
     },
     "output_type": "display_data"
    }
   ],
   "source": [
    "ALG3_augmented_nofix(Y_medians_20, revisedY_medians_20, cluster_pts_medians_20)\n",
    "plt.title(\"ALG3_medians K={}\".format(5))\n",
    "#plt.savefig(\"/Users/lijunli/Desktop/ex/Fair clustering/experiment/gaussian3/kmedians K={}.png\".format(5))\n",
    "# when saving, do not show!!!"
   ]
  },
  {
   "cell_type": "code",
   "execution_count": null,
   "metadata": {},
   "outputs": [],
   "source": []
  },
  {
   "cell_type": "code",
   "execution_count": 57,
   "metadata": {},
   "outputs": [
    {
     "name": "stdout",
     "output_type": "stream",
     "text": [
      "1.5972 1.275793244096067 105.28360910123087\n",
      "2.0148 1.8421713228556889 792.0080086543154\n",
      "1.476 1.4698943788848542 144.82663002065604\n",
      "2.0604 1.8601037055773133 824.6952222024498\n",
      "1.6366 1.464349424029619 74.10346125801196\n",
      "1.7094 1.590483407176801 721.8823520156612\n",
      "1.876 1.6380770969975593 93.67756328736172\n",
      "1.9124 1.9644202735452625 717.3131244965288\n"
     ]
    },
    {
     "data": {
      "text/plain": [
       "<Figure size 432x288 with 0 Axes>"
      ]
     },
     "metadata": {},
     "output_type": "display_data"
    }
   ],
   "source": [
    "for K in range(6,8):\n",
    "    means, groups_means = kmeans(gaussian_data, K)\n",
    "    max_alpha_means, max_alpha_coalition_means, max_alpha_deviating_center_means = fairness_score_alpha(gaussian_data, means, 20)\n",
    "    max_beta_means, max_beta_coalition_means, max_beta_deviating_center_means = fairness_score_beta(gaussian_data, means, 20)\n",
    "    totaldist_means = totaldist(gaussian_data, means, True)\n",
    "    print(max_alpha_means, max_beta_means, totaldist_means)\n",
    "    view_meansormedians(gaussian_data, means, groups_means)\n",
    "    plt.title(\"kmeans K={}\".format(K))\n",
    "    plt.savefig(\"/Users/lijunli/Desktop/ex/Fair clustering/experiment/gaussian3/kmeans K={}\".format(K))\n",
    "    plt.clf()# renew to prevent overlap\n",
    "    \n",
    "    medians, groups_medians = kmedians(gaussian_data, K)\n",
    "    max_alpha_medians, max_alpha_coalition_medians, max_alpha_deviating_center_medians = fairness_score_alpha_M(gaussian_data, medians, 20)\n",
    "    max_beta_medians, max_beta_coalition_medians, max_beta_deviating_center_medians = fairness_score_beta_M(gaussian_data, medians, 20)\n",
    "    totaldist_medians = totaldist(gaussian_data, medians, False)\n",
    "    print(max_alpha_medians, max_beta_medians, totaldist_medians)\n",
    "    view_meansormedians(gaussian_data, medians, groups_medians)\n",
    "    plt.title(\"kmedians K={}\".format(K))\n",
    "    plt.savefig(\"/Users/lijunli/Desktop/ex/Fair clustering/experiment/gaussian3/kmedians K={}\".format(K))\n",
    "    plt.clf()\n",
    "\n",
    "    Y_means_20, revisedY_means_20, cluster_pts_means_20 = ALG3_means(gaussian_data, K, 20, 1/200)\n",
    "    max_alpha_A3means20, max_alpha_coalition_A3means20, max_alpha_deviating_center_A3means20 = fairness_score_alpha(gaussian_data, revisedY_means_20, 20)\n",
    "    max_beta_A3means20, max_beta_coalition_A3means20, max_beta_deviating_center_A3means20 = fairness_score_beta(gaussian_data, revisedY_means_20, 20)\n",
    "    totaldist_A3means20 = totaldist(gaussian_data, revisedY_means_20, True)\n",
    "    print(max_alpha_A3means20, max_beta_A3means20, totaldist_A3means20)\n",
    "    ALG3_augmented_nofix(Y_means_20, revisedY_means_20, cluster_pts_means_20)\n",
    "    plt.title(\"ALG3_means K={}\".format(K))\n",
    "    plt.savefig(\"/Users/lijunli/Desktop/ex/Fair clustering/experiment/gaussian3/ALG3_means K={}\".format(K))\n",
    "    plt.clf()\n",
    "    \n",
    "    Y_medians_20, revisedY_medians_20, cluster_pts_medians_20 = ALG3_medians(gaussian_data, K, 20, 1/200)\n",
    "    max_alpha_A3medians20, max_alpha_coalition_A3medians20, max_alpha_deviating_center_A3medians20 = fairness_score_alpha_M(gaussian_data, revisedY_medians_20, 20)\n",
    "    max_beta_A3medians20, max_beta_coalition_A3medians20, max_beta_deviating_center_A3medians20 = fairness_score_beta_M(gaussian_data, revisedY_medians_20, 20)\n",
    "    totaldist_A3medians20 = totaldist(gaussian_data, revisedY_medians_20, False)\n",
    "    print(max_alpha_A3medians20, max_beta_A3medians20, totaldist_A3medians20)\n",
    "    ALG3_augmented_nofix(Y_medians_20, revisedY_medians_20, cluster_pts_medians_20)\n",
    "    plt.title(\"ALG3_medians K={}\".format(K))\n",
    "    plt.savefig(\"/Users/lijunli/Desktop/ex/Fair clustering/experiment/gaussian3/ALG3_medians K={}\".format(K))\n",
    "    plt.clf()"
   ]
  },
  {
   "cell_type": "code",
   "execution_count": 58,
   "metadata": {},
   "outputs": [
    {
     "name": "stdout",
     "output_type": "stream",
     "text": [
      "1.4672 1.4540555947413436 60.89220963963496\n",
      "2.2624 2.843021062849913 766.8356968047351\n",
      "1.1232 1.085971829271258 64.03265134312261\n",
      "1.8688 2.0186503292054634 649.7714825493732\n",
      "2.259 1.8499528110199954 60.28371457372329\n",
      "2.2032 2.030838573853267 566.2810051470797\n",
      "1.2132 1.1611730794119024 50.573210393964004\n",
      "1.2708 1.2188048078333362 549.8735495006363\n",
      "1.35 1.3242375241038982 50.86766297272848\n",
      "1.594 1.526980296172641 497.1687860973329\n",
      "1.296 1.222226172232877 40.09445392195964\n",
      "1.398 1.3458108240428694 502.03869954637713\n",
      "1.4234 1.3702485391703363 34.31424610342339\n"
     ]
    },
    {
     "ename": "IndexError",
     "evalue": "list index out of range",
     "output_type": "error",
     "traceback": [
      "\u001b[0;31m---------------------------------------------------------------------------\u001b[0m",
      "\u001b[0;31mIndexError\u001b[0m                                Traceback (most recent call last)",
      "\u001b[0;32m<ipython-input-58-2190a0fffd9a>\u001b[0m in \u001b[0;36m<module>\u001b[0;34m\u001b[0m\n\u001b[1;32m      5\u001b[0m     \u001b[0mtotaldist_means\u001b[0m \u001b[0;34m=\u001b[0m \u001b[0mtotaldist\u001b[0m\u001b[0;34m(\u001b[0m\u001b[0mgaussian_data\u001b[0m\u001b[0;34m,\u001b[0m \u001b[0mmeans\u001b[0m\u001b[0;34m,\u001b[0m \u001b[0;32mTrue\u001b[0m\u001b[0;34m)\u001b[0m\u001b[0;34m\u001b[0m\u001b[0;34m\u001b[0m\u001b[0m\n\u001b[1;32m      6\u001b[0m     \u001b[0mprint\u001b[0m\u001b[0;34m(\u001b[0m\u001b[0mmax_alpha_means\u001b[0m\u001b[0;34m,\u001b[0m \u001b[0mmax_beta_means\u001b[0m\u001b[0;34m,\u001b[0m \u001b[0mtotaldist_means\u001b[0m\u001b[0;34m)\u001b[0m\u001b[0;34m\u001b[0m\u001b[0;34m\u001b[0m\u001b[0m\n\u001b[0;32m----> 7\u001b[0;31m     \u001b[0mview_meansormedians\u001b[0m\u001b[0;34m(\u001b[0m\u001b[0mgaussian_data\u001b[0m\u001b[0;34m,\u001b[0m \u001b[0mmeans\u001b[0m\u001b[0;34m,\u001b[0m \u001b[0mgroups_means\u001b[0m\u001b[0;34m)\u001b[0m\u001b[0;34m\u001b[0m\u001b[0;34m\u001b[0m\u001b[0m\n\u001b[0m\u001b[1;32m      8\u001b[0m     \u001b[0mplt\u001b[0m\u001b[0;34m.\u001b[0m\u001b[0mtitle\u001b[0m\u001b[0;34m(\u001b[0m\u001b[0;34m\"kmeans K={}\"\u001b[0m\u001b[0;34m.\u001b[0m\u001b[0mformat\u001b[0m\u001b[0;34m(\u001b[0m\u001b[0mK\u001b[0m\u001b[0;34m)\u001b[0m\u001b[0;34m)\u001b[0m\u001b[0;34m\u001b[0m\u001b[0;34m\u001b[0m\u001b[0m\n\u001b[1;32m      9\u001b[0m     \u001b[0mplt\u001b[0m\u001b[0;34m.\u001b[0m\u001b[0msavefig\u001b[0m\u001b[0;34m(\u001b[0m\u001b[0;34m\"/Users/lijunli/Desktop/ex/Fair clustering/experiment/gaussian3/kmeans K={}\"\u001b[0m\u001b[0;34m.\u001b[0m\u001b[0mformat\u001b[0m\u001b[0;34m(\u001b[0m\u001b[0mK\u001b[0m\u001b[0;34m)\u001b[0m\u001b[0;34m)\u001b[0m\u001b[0;34m\u001b[0m\u001b[0;34m\u001b[0m\u001b[0m\n",
      "\u001b[0;32m<ipython-input-34-20fbe3786137>\u001b[0m in \u001b[0;36mview_meansormedians\u001b[0;34m(X, centers, groups)\u001b[0m\n\u001b[1;32m     14\u001b[0m     \u001b[0mcolor\u001b[0m \u001b[0;34m=\u001b[0m \u001b[0;34m[\u001b[0m\u001b[0;34m'c'\u001b[0m\u001b[0;34m,\u001b[0m\u001b[0;34m'y'\u001b[0m\u001b[0;34m,\u001b[0m\u001b[0;34m'palegreen'\u001b[0m\u001b[0;34m,\u001b[0m\u001b[0;34m'plum'\u001b[0m\u001b[0;34m,\u001b[0m\u001b[0;34m'tan'\u001b[0m\u001b[0;34m,\u001b[0m\u001b[0;34m'yellow'\u001b[0m\u001b[0;34m,\u001b[0m\u001b[0;34m'paleturquoise'\u001b[0m\u001b[0;34m,\u001b[0m\u001b[0;34m'pink'\u001b[0m\u001b[0;34m,\u001b[0m\u001b[0;34m'cornflowerblue'\u001b[0m\u001b[0;34m,\u001b[0m\u001b[0;34m'mistyrose'\u001b[0m\u001b[0;34m]\u001b[0m\u001b[0;34m\u001b[0m\u001b[0;34m\u001b[0m\u001b[0m\n\u001b[1;32m     15\u001b[0m     \u001b[0;32mfor\u001b[0m \u001b[0mi\u001b[0m \u001b[0;32min\u001b[0m \u001b[0mrange\u001b[0m\u001b[0;34m(\u001b[0m\u001b[0mlen\u001b[0m\u001b[0;34m(\u001b[0m\u001b[0mcluster\u001b[0m\u001b[0;34m)\u001b[0m\u001b[0;34m)\u001b[0m\u001b[0;34m:\u001b[0m\u001b[0;34m\u001b[0m\u001b[0;34m\u001b[0m\u001b[0m\n\u001b[0;32m---> 16\u001b[0;31m         \u001b[0mplt\u001b[0m\u001b[0;34m.\u001b[0m\u001b[0mscatter\u001b[0m\u001b[0;34m(\u001b[0m\u001b[0mcluster\u001b[0m\u001b[0;34m[\u001b[0m\u001b[0mi\u001b[0m\u001b[0;34m]\u001b[0m\u001b[0;34m[\u001b[0m\u001b[0;34m:\u001b[0m\u001b[0;34m,\u001b[0m\u001b[0;36m0\u001b[0m\u001b[0;34m]\u001b[0m\u001b[0;34m,\u001b[0m \u001b[0mcluster\u001b[0m\u001b[0;34m[\u001b[0m\u001b[0mi\u001b[0m\u001b[0;34m]\u001b[0m\u001b[0;34m[\u001b[0m\u001b[0;34m:\u001b[0m\u001b[0;34m,\u001b[0m\u001b[0;36m1\u001b[0m\u001b[0;34m]\u001b[0m\u001b[0;34m,\u001b[0m \u001b[0ms\u001b[0m \u001b[0;34m=\u001b[0m \u001b[0;36m3\u001b[0m\u001b[0;34m,\u001b[0m \u001b[0mc\u001b[0m\u001b[0;34m=\u001b[0m\u001b[0mcolor\u001b[0m\u001b[0;34m[\u001b[0m\u001b[0mi\u001b[0m\u001b[0;34m]\u001b[0m\u001b[0;34m)\u001b[0m\u001b[0;34m\u001b[0m\u001b[0;34m\u001b[0m\u001b[0m\n\u001b[0m\u001b[1;32m     17\u001b[0m     \u001b[0mplt\u001b[0m\u001b[0;34m.\u001b[0m\u001b[0mscatter\u001b[0m\u001b[0;34m(\u001b[0m\u001b[0mcenters\u001b[0m\u001b[0;34m[\u001b[0m\u001b[0;34m:\u001b[0m\u001b[0;34m,\u001b[0m \u001b[0;36m0\u001b[0m\u001b[0;34m]\u001b[0m\u001b[0;34m,\u001b[0m \u001b[0mcenters\u001b[0m\u001b[0;34m[\u001b[0m\u001b[0;34m:\u001b[0m\u001b[0;34m,\u001b[0m \u001b[0;36m1\u001b[0m\u001b[0;34m]\u001b[0m\u001b[0;34m,\u001b[0m \u001b[0ms\u001b[0m\u001b[0;34m=\u001b[0m\u001b[0;36m100\u001b[0m\u001b[0;34m,\u001b[0m \u001b[0mmarker\u001b[0m\u001b[0;34m=\u001b[0m\u001b[0;34m'x'\u001b[0m\u001b[0;34m,\u001b[0m \u001b[0mc\u001b[0m\u001b[0;34m=\u001b[0m\u001b[0;34m'b'\u001b[0m\u001b[0;34m)\u001b[0m\u001b[0;31m# s is size\u001b[0m\u001b[0;34m\u001b[0m\u001b[0;34m\u001b[0m\u001b[0m\n",
      "\u001b[0;31mIndexError\u001b[0m: list index out of range"
     ]
    },
    {
     "data": {
      "image/png": "[encoded data removed]",
      "text/plain": [
       "<Figure size 432x288 with 1 Axes>"
      ]
     },
     "metadata": {
      "needs_background": "light"
     },
     "output_type": "display_data"
    }
   ],
   "source": [
    "for K in range(8,16):\n",
    "    means, groups_means = kmeans(gaussian_data, K)\n",
    "    max_alpha_means, max_alpha_coalition_means, max_alpha_deviating_center_means = fairness_score_alpha(gaussian_data, means, 20)\n",
    "    max_beta_means, max_beta_coalition_means, max_beta_deviating_center_means = fairness_score_beta(gaussian_data, means, 20)\n",
    "    totaldist_means = totaldist(gaussian_data, means, True)\n",
    "    print(max_alpha_means, max_beta_means, totaldist_means)\n",
    "    view_meansormedians(gaussian_data, means, groups_means)\n",
    "    plt.title(\"kmeans K={}\".format(K))\n",
    "    plt.savefig(\"/Users/lijunli/Desktop/ex/Fair clustering/experiment/gaussian3/kmeans K={}\".format(K))\n",
    "    plt.clf()# renew to prevent overlap\n",
    "    \n",
    "    medians, groups_medians = kmedians(gaussian_data, K)\n",
    "    max_alpha_medians, max_alpha_coalition_medians, max_alpha_deviating_center_medians = fairness_score_alpha_M(gaussian_data, medians, 20)\n",
    "    max_beta_medians, max_beta_coalition_medians, max_beta_deviating_center_medians = fairness_score_beta_M(gaussian_data, medians, 20)\n",
    "    totaldist_medians = totaldist(gaussian_data, medians, False)\n",
    "    print(max_alpha_medians, max_beta_medians, totaldist_medians)\n",
    "    view_meansormedians(gaussian_data, medians, groups_medians)\n",
    "    plt.title(\"kmedians K={}\".format(K))\n",
    "    plt.savefig(\"/Users/lijunli/Desktop/ex/Fair clustering/experiment/gaussian3/kmedians K={}\".format(K))\n",
    "    plt.clf()\n",
    "\n",
    "    Y_means_20, revisedY_means_20, cluster_pts_means_20 = ALG3_means(gaussian_data, K, 20, 1/200)\n",
    "    max_alpha_A3means20, max_alpha_coalition_A3means20, max_alpha_deviating_center_A3means20 = fairness_score_alpha(gaussian_data, revisedY_means_20, 20)\n",
    "    max_beta_A3means20, max_beta_coalition_A3means20, max_beta_deviating_center_A3means20 = fairness_score_beta(gaussian_data, revisedY_means_20, 20)\n",
    "    totaldist_A3means20 = totaldist(gaussian_data, revisedY_means_20, True)\n",
    "    print(max_alpha_A3means20, max_beta_A3means20, totaldist_A3means20)\n",
    "    ALG3_augmented_nofix(Y_means_20, revisedY_means_20, cluster_pts_means_20)\n",
    "    plt.title(\"ALG3_means K={}\".format(K))\n",
    "    plt.savefig(\"/Users/lijunli/Desktop/ex/Fair clustering/experiment/gaussian3/ALG3_means K={}\".format(K))\n",
    "    plt.clf()\n",
    "    \n",
    "    Y_medians_20, revisedY_medians_20, cluster_pts_medians_20 = ALG3_medians(gaussian_data, K, 20, 1/200)\n",
    "    max_alpha_A3medians20, max_alpha_coalition_A3medians20, max_alpha_deviating_center_A3medians20 = fairness_score_alpha_M(gaussian_data, revisedY_medians_20, 20)\n",
    "    max_beta_A3medians20, max_beta_coalition_A3medians20, max_beta_deviating_center_A3medians20 = fairness_score_beta_M(gaussian_data, revisedY_medians_20, 20)\n",
    "    totaldist_A3medians20 = totaldist(gaussian_data, revisedY_medians_20, False)\n",
    "    print(max_alpha_A3medians20, max_beta_A3medians20, totaldist_A3medians20)\n",
    "    ALG3_augmented_nofix(Y_medians_20, revisedY_medians_20, cluster_pts_medians_20)\n",
    "    plt.title(\"ALG3_medians K={}\".format(K))\n",
    "    plt.savefig(\"/Users/lijunli/Desktop/ex/Fair clustering/experiment/gaussian3/ALG3_medians K={}\".format(K))\n",
    "    plt.clf()"
   ]
  },
  {
   "cell_type": "markdown",
   "metadata": {},
   "source": [
    "check when k=11, why list index out of range"
   ]
  },
  {
   "cell_type": "code",
   "execution_count": 63,
   "metadata": {},
   "outputs": [],
   "source": [
    "# means, groups_means = kmeans(gaussian_data, 11)\n",
    "# view_meansormedians(gaussian_data, means, groups_means)\n",
    "# plt.title(\"kmeans K={}\".format(11))"
   ]
  },
  {
   "cell_type": "code",
   "execution_count": 64,
   "metadata": {},
   "outputs": [
    {
     "name": "stdout",
     "output_type": "stream",
     "text": [
      "1.5456 1.497167549368483 34.67491071379383\n",
      "1.6968 1.9280358980603791 441.00440570964355\n",
      "1.5408 1.4927435673243787 29.02153125617207\n",
      "1.4904 1.5477124807725995 429.0827169567119\n",
      "1.6718 1.8434394860435215 27.752097580210947\n",
      "1.651 2.1932342696144307 375.26391714126413\n",
      "1.6562 1.6810664768517345 23.261249343766984\n",
      "1.5704 1.9801096242071887 326.22467603821343\n",
      "1.8172 1.862265319713845 21.687828207076098\n",
      "1.82 2.825562256260814 343.28875610976877\n",
      "1.6128 1.6326282634461293 15.99152678807312\n",
      "1.5204 1.777643268893813 274.44654980511547\n",
      "1.764 2.0292199755177514 15.76910958832104\n",
      "1.848 2.8087535913794226 330.24835915830556\n",
      "1.488 2.6562424729503267 15.30092131376436\n",
      "0.804 0.8870216963465606 231.6390689422973\n"
     ]
    },
    {
     "data": {
      "text/plain": [
       "<Figure size 432x288 with 0 Axes>"
      ]
     },
     "metadata": {},
     "output_type": "display_data"
    }
   ],
   "source": [
    "for K in range(12,16):\n",
    "    means, groups_means = kmeans(gaussian_data, K)\n",
    "    max_alpha_means, max_alpha_coalition_means, max_alpha_deviating_center_means = fairness_score_alpha(gaussian_data, means, 20)\n",
    "    max_beta_means, max_beta_coalition_means, max_beta_deviating_center_means = fairness_score_beta(gaussian_data, means, 20)\n",
    "    totaldist_means = totaldist(gaussian_data, means, True)\n",
    "    print(max_alpha_means, max_beta_means, totaldist_means)\n",
    "    view_meansormedians(gaussian_data, means, groups_means)\n",
    "    plt.title(\"kmeans K={}\".format(K))\n",
    "    plt.savefig(\"/Users/lijunli/Desktop/ex/Fair clustering/experiment/gaussian3/kmeans K={}\".format(K))\n",
    "    plt.clf()# renew to prevent overlap\n",
    "    \n",
    "    medians, groups_medians = kmedians(gaussian_data, K)\n",
    "    max_alpha_medians, max_alpha_coalition_medians, max_alpha_deviating_center_medians = fairness_score_alpha_M(gaussian_data, medians, 20)\n",
    "    max_beta_medians, max_beta_coalition_medians, max_beta_deviating_center_medians = fairness_score_beta_M(gaussian_data, medians, 20)\n",
    "    totaldist_medians = totaldist(gaussian_data, medians, False)\n",
    "    print(max_alpha_medians, max_beta_medians, totaldist_medians)\n",
    "    view_meansormedians(gaussian_data, medians, groups_medians)\n",
    "    plt.title(\"kmedians K={}\".format(K))\n",
    "    plt.savefig(\"/Users/lijunli/Desktop/ex/Fair clustering/experiment/gaussian3/kmedians K={}\".format(K))\n",
    "    plt.clf()\n",
    "\n",
    "    Y_means_20, revisedY_means_20, cluster_pts_means_20 = ALG3_means(gaussian_data, K, 20, 1/200)\n",
    "    max_alpha_A3means20, max_alpha_coalition_A3means20, max_alpha_deviating_center_A3means20 = fairness_score_alpha(gaussian_data, revisedY_means_20, 20)\n",
    "    max_beta_A3means20, max_beta_coalition_A3means20, max_beta_deviating_center_A3means20 = fairness_score_beta(gaussian_data, revisedY_means_20, 20)\n",
    "    totaldist_A3means20 = totaldist(gaussian_data, revisedY_means_20, True)\n",
    "    print(max_alpha_A3means20, max_beta_A3means20, totaldist_A3means20)\n",
    "    ALG3_augmented_nofix(Y_means_20, revisedY_means_20, cluster_pts_means_20)\n",
    "    plt.title(\"ALG3_means K={}\".format(K))\n",
    "    plt.savefig(\"/Users/lijunli/Desktop/ex/Fair clustering/experiment/gaussian3/ALG3_means K={}\".format(K))\n",
    "    plt.clf()\n",
    "    \n",
    "    Y_medians_20, revisedY_medians_20, cluster_pts_medians_20 = ALG3_medians(gaussian_data, K, 20, 1/200)\n",
    "    max_alpha_A3medians20, max_alpha_coalition_A3medians20, max_alpha_deviating_center_A3medians20 = fairness_score_alpha_M(gaussian_data, revisedY_medians_20, 20)\n",
    "    max_beta_A3medians20, max_beta_coalition_A3medians20, max_beta_deviating_center_A3medians20 = fairness_score_beta_M(gaussian_data, revisedY_medians_20, 20)\n",
    "    totaldist_A3medians20 = totaldist(gaussian_data, revisedY_medians_20, False)\n",
    "    print(max_alpha_A3medians20, max_beta_A3medians20, totaldist_A3medians20)\n",
    "    ALG3_augmented_nofix(Y_medians_20, revisedY_medians_20, cluster_pts_medians_20)\n",
    "    plt.title(\"ALG3_medians K={}\".format(K))\n",
    "    plt.savefig(\"/Users/lijunli/Desktop/ex/Fair clustering/experiment/gaussian3/ALG3_medians K={}\".format(K))\n",
    "    plt.clf()"
   ]
  },
  {
   "cell_type": "code",
   "execution_count": null,
   "metadata": {},
   "outputs": [],
   "source": []
  },
  {
   "cell_type": "code",
   "execution_count": 65,
   "metadata": {},
   "outputs": [
    {
     "name": "stdout",
     "output_type": "stream",
     "text": [
      "2.6378 2.7106520149705444 512.1506738386236\n",
      "1.4212 1.298581796628861 35.01825381342775\n",
      "1.4982 1.5388253550532727 434.18387490731885\n"
     ]
    },
    {
     "data": {
      "text/plain": [
       "<Figure size 432x288 with 0 Axes>"
      ]
     },
     "metadata": {},
     "output_type": "display_data"
    }
   ],
   "source": [
    "K=11\n",
    "# means, groups_means = kmeans(gaussian_data, K)\n",
    "# max_alpha_means, max_alpha_coalition_means, max_alpha_deviating_center_means = fairness_score_alpha(gaussian_data, means, 20)\n",
    "# max_beta_means, max_beta_coalition_means, max_beta_deviating_center_means = fairness_score_beta(gaussian_data, means, 20)\n",
    "# totaldist_means = totaldist(gaussian_data, means, True)\n",
    "# print(max_alpha_means, max_beta_means, totaldist_means)\n",
    "# view_meansormedians(gaussian_data, means, groups_means)\n",
    "# plt.title(\"kmeans K={}\".format(K))\n",
    "# plt.savefig(\"/Users/lijunli/Desktop/ex/Fair clustering/experiment/gaussian3/kmeans K={}\".format(K))\n",
    "# plt.clf()# renew to prevent overlap\n",
    "\n",
    "medians, groups_medians = kmedians(gaussian_data, K)\n",
    "max_alpha_medians, max_alpha_coalition_medians, max_alpha_deviating_center_medians = fairness_score_alpha_M(gaussian_data, medians, 20)\n",
    "max_beta_medians, max_beta_coalition_medians, max_beta_deviating_center_medians = fairness_score_beta_M(gaussian_data, medians, 20)\n",
    "totaldist_medians = totaldist(gaussian_data, medians, False)\n",
    "print(max_alpha_medians, max_beta_medians, totaldist_medians)\n",
    "view_meansormedians(gaussian_data, medians, groups_medians)\n",
    "plt.title(\"kmedians K={}\".format(K))\n",
    "plt.savefig(\"/Users/lijunli/Desktop/ex/Fair clustering/experiment/gaussian3/kmedians K={}\".format(K))\n",
    "plt.clf()\n",
    "\n",
    "Y_means_20, revisedY_means_20, cluster_pts_means_20 = ALG3_means(gaussian_data, K, 20, 1/200)\n",
    "max_alpha_A3means20, max_alpha_coalition_A3means20, max_alpha_deviating_center_A3means20 = fairness_score_alpha(gaussian_data, revisedY_means_20, 20)\n",
    "max_beta_A3means20, max_beta_coalition_A3means20, max_beta_deviating_center_A3means20 = fairness_score_beta(gaussian_data, revisedY_means_20, 20)\n",
    "totaldist_A3means20 = totaldist(gaussian_data, revisedY_means_20, True)\n",
    "print(max_alpha_A3means20, max_beta_A3means20, totaldist_A3means20)\n",
    "ALG3_augmented_nofix(Y_means_20, revisedY_means_20, cluster_pts_means_20)\n",
    "plt.title(\"ALG3_means K={}\".format(K))\n",
    "plt.savefig(\"/Users/lijunli/Desktop/ex/Fair clustering/experiment/gaussian3/ALG3_means K={}\".format(K))\n",
    "plt.clf()\n",
    "\n",
    "Y_medians_20, revisedY_medians_20, cluster_pts_medians_20 = ALG3_medians(gaussian_data, K, 20, 1/200)\n",
    "max_alpha_A3medians20, max_alpha_coalition_A3medians20, max_alpha_deviating_center_A3medians20 = fairness_score_alpha_M(gaussian_data, revisedY_medians_20, 20)\n",
    "max_beta_A3medians20, max_beta_coalition_A3medians20, max_beta_deviating_center_A3medians20 = fairness_score_beta_M(gaussian_data, revisedY_medians_20, 20)\n",
    "totaldist_A3medians20 = totaldist(gaussian_data, revisedY_medians_20, False)\n",
    "print(max_alpha_A3medians20, max_beta_A3medians20, totaldist_A3medians20)\n",
    "ALG3_augmented_nofix(Y_medians_20, revisedY_medians_20, cluster_pts_medians_20)\n",
    "plt.title(\"ALG3_medians K={}\".format(K))\n",
    "plt.savefig(\"/Users/lijunli/Desktop/ex/Fair clustering/experiment/gaussian3/ALG3_medians K={}\".format(K))\n",
    "plt.clf()"
   ]
  },
  {
   "cell_type": "code",
   "execution_count": null,
   "metadata": {},
   "outputs": [],
   "source": []
  },
  {
   "cell_type": "code",
   "execution_count": null,
   "metadata": {},
   "outputs": [],
   "source": []
  },
  {
   "cell_type": "markdown",
   "metadata": {},
   "source": [
    "KMEANSPLUS"
   ]
  },
  {
   "cell_type": "code",
   "execution_count": null,
   "metadata": {},
   "outputs": [
    {
     "name": "stdout",
     "output_type": "stream",
     "text": [
      "1.511 1.2548088397461334 137.8631506652448\n",
      "1.515 1.2831951827202615 140.58782152343335\n",
      "1.4004 1.261821304194501 95.1803114091877\n",
      "1.6956 1.369784110225562 135.05280191681783\n",
      "1.6366 1.464349424029619 74.10346125801196\n",
      "1.8088 1.5350273945640545 92.2146298910056\n",
      "1.8544 1.6788399583502394 66.46769751929563\n",
      "1.448 1.6071027738360184 69.5569769885197\n",
      "1.1646 1.1044766169371476 46.85508150058481\n",
      "1.2132 1.1611730794119024 50.573210393964004\n",
      "1.352 1.3298217702404775 45.53172717689413\n"
     ]
    }
   ],
   "source": [
    "for K in range(5,16):\n",
    "    meansplus, groups_meansplus = kmeansplus(gaussian_data, K)\n",
    "    max_alpha_meansplus, max_alpha_coalition_meansplus, max_alpha_deviating_center_meansplus = fairness_score_alpha(gaussian_data, meansplus, 20)\n",
    "    max_beta_meansplus, max_beta_coalition_meansplus, max_beta_deviating_center_meansplus = fairness_score_beta(gaussian_data, meansplus, 20)\n",
    "    totaldist_meansplus = totaldist(gaussian_data, meansplus, True)\n",
    "    print(max_alpha_meansplus, max_beta_meansplus, totaldist_meansplus)\n",
    "    view_meansormedians(gaussian_data, meansplus, groups_meansplus)\n",
    "    plt.title(\"kmeansplus K={}\".format(K))\n",
    "    plt.savefig(\"/Users/lijunli/Desktop/ex/Fair clustering/experiment/gaussian3/kmeansplus K={}\".format(K))\n",
    "    plt.clf()# renew to prevent overlap\n",
    "    \n",
    "\n",
    "    Y_meansplus_20, revisedY_meansplus_20, cluster_pts_meansplus_20 = ALG3_meansplus(gaussian_data, K, 20, 1/200)\n",
    "    max_alpha_A3meansplus20, max_alpha_coalition_A3meansplus20, max_alpha_deviating_center_A3meansplus20 = fairness_score_alpha(gaussian_data, revisedY_meansplus_20, 20)\n",
    "    max_beta_A3meansplus20, max_beta_coalition_A3meansplus20, max_beta_deviating_center_A3meansplus20 = fairness_score_beta(gaussian_data, revisedY_meansplus_20, 20)\n",
    "    totaldist_A3meansplus20 = totaldist(gaussian_data, revisedY_meansplus_20, True)\n",
    "    print(max_alpha_A3meansplus20, max_beta_A3meansplus20, totaldist_A3meansplus20)\n",
    "    ALG3_augmented_nofix(Y_meansplus_20, revisedY_meansplus_20, cluster_pts_meansplus_20)\n",
    "    plt.title(\"ALG3_meansplus K={}\".format(K))\n",
    "    plt.savefig(\"/Users/lijunli/Desktop/ex/Fair clustering/experiment/gaussian3/ALG3_meansplus K={}\".format(K))\n",
    "    plt.clf()\n",
    "    "
   ]
  },
  {
   "cell_type": "code",
   "execution_count": 20,
   "metadata": {},
   "outputs": [
    {
     "name": "stdout",
     "output_type": "stream",
     "text": [
      "1.314 1.211243215266616 42.94804569575643\n",
      "1.296 1.222226172232877 40.092850333426746\n",
      "1.4234 1.3483657935347744 35.55532794682471\n",
      "1.4212 1.2979346753926768 35.01950595279225\n",
      "1.62 1.8073080854209602 31.805452946241708\n",
      "1.4904 1.4977651645946124 28.512268842595166\n",
      "1.6718 1.8430457117149248 22.691982630995607\n",
      "1.5912 1.6939806056683013 22.597070923697277\n",
      "1.6464 1.723422880828974 15.945620195380362\n",
      "1.6128 1.6326282634461293 15.99152678807312\n",
      "1.953 2.6819167892988043 18.929960298614468\n",
      "1.488 2.6562424729503267 15.30092131376436\n"
     ]
    },
    {
     "data": {
      "text/plain": [
       "<Figure size 432x288 with 0 Axes>"
      ]
     },
     "metadata": {},
     "output_type": "display_data"
    }
   ],
   "source": [
    "for K in range(10,16):\n",
    "    meansplus, groups_meansplus = kmeansplus(gaussian_data, K)\n",
    "    max_alpha_meansplus, max_alpha_coalition_meansplus, max_alpha_deviating_center_meansplus = fairness_score_alpha(gaussian_data, meansplus, 20)\n",
    "    max_beta_meansplus, max_beta_coalition_meansplus, max_beta_deviating_center_meansplus = fairness_score_beta(gaussian_data, meansplus, 20)\n",
    "    totaldist_meansplus = totaldist(gaussian_data, meansplus, True)\n",
    "    print(max_alpha_meansplus, max_beta_meansplus, totaldist_meansplus)\n",
    "    view_meansormedians(gaussian_data, meansplus, groups_meansplus)\n",
    "    plt.title(\"kmeansplus K={}\".format(K))\n",
    "    plt.savefig(\"/Users/lijunli/Desktop/ex/Fair clustering/experiment/gaussian3/kmeansplus K={}\".format(K))\n",
    "    plt.clf()# renew to prevent overlap\n",
    "    \n",
    "\n",
    "    Y_meansplus_20, revisedY_meansplus_20, cluster_pts_meansplus_20 = ALG3_meansplus(gaussian_data, K, 20, 1/200)\n",
    "    max_alpha_A3meansplus20, max_alpha_coalition_A3meansplus20, max_alpha_deviating_center_A3meansplus20 = fairness_score_alpha(gaussian_data, revisedY_meansplus_20, 20)\n",
    "    max_beta_A3meansplus20, max_beta_coalition_A3meansplus20, max_beta_deviating_center_A3meansplus20 = fairness_score_beta(gaussian_data, revisedY_meansplus_20, 20)\n",
    "    totaldist_A3meansplus20 = totaldist(gaussian_data, revisedY_meansplus_20, True)\n",
    "    print(max_alpha_A3meansplus20, max_beta_A3meansplus20, totaldist_A3meansplus20)\n",
    "    ALG3_augmented_nofix(Y_meansplus_20, revisedY_meansplus_20, cluster_pts_meansplus_20)\n",
    "    plt.title(\"ALG3_meansplus K={}\".format(K))\n",
    "    plt.savefig(\"/Users/lijunli/Desktop/ex/Fair clustering/experiment/gaussian3/ALG3_meansplus K={}\".format(K))\n",
    "    plt.clf()\n",
    "    "
   ]
  },
  {
   "cell_type": "code",
   "execution_count": 31,
   "metadata": {},
   "outputs": [
    {
     "name": "stdout",
     "output_type": "stream",
     "text": [
      "2.0256 3.40229840143212 17.17856937149351\n",
      "1.136 1.1935005895077793 10.767168327831056\n",
      "0.8534 0.9527660001348773 9.794857377026\n",
      "0.8296 0.9178406234761683 9.937337739859037\n",
      "0.9072 0.9739970354137142 9.601198643535408\n",
      "0.8748 0.9513454985476677 9.528979278852644\n",
      "0.9158 0.9728997623925799 9.27136882248289\n",
      "0.9006 0.9700916885605233 9.472532572736597\n",
      "0.976 0.9921741786878265 9.197123653649909\n"
     ]
    },
    {
     "ename": "ValueError",
     "evalue": "'c' argument must be a color, a sequence of colors, or a sequence of numbers, not cadeblue",
     "output_type": "error",
     "traceback": [
      "\u001b[0;31m---------------------------------------------------------------------------\u001b[0m",
      "\u001b[0;31mValueError\u001b[0m                                Traceback (most recent call last)",
      "\u001b[0;32m~/opt/anaconda3/lib/python3.8/site-packages/matplotlib/colors.py\u001b[0m in \u001b[0;36mto_rgba_array\u001b[0;34m(c, alpha)\u001b[0m\n\u001b[1;32m    324\u001b[0m         \u001b[0;32mtry\u001b[0m\u001b[0;34m:\u001b[0m\u001b[0;34m\u001b[0m\u001b[0;34m\u001b[0m\u001b[0m\n\u001b[0;32m--> 325\u001b[0;31m             \u001b[0mresult\u001b[0m \u001b[0;34m=\u001b[0m \u001b[0mnp\u001b[0m\u001b[0;34m.\u001b[0m\u001b[0marray\u001b[0m\u001b[0;34m(\u001b[0m\u001b[0;34m[\u001b[0m\u001b[0mto_rgba\u001b[0m\u001b[0;34m(\u001b[0m\u001b[0mcc\u001b[0m\u001b[0;34m,\u001b[0m \u001b[0malpha\u001b[0m\u001b[0;34m)\u001b[0m \u001b[0;32mfor\u001b[0m \u001b[0mcc\u001b[0m \u001b[0;32min\u001b[0m \u001b[0mc\u001b[0m\u001b[0;34m]\u001b[0m\u001b[0;34m)\u001b[0m\u001b[0;34m\u001b[0m\u001b[0;34m\u001b[0m\u001b[0m\n\u001b[0m\u001b[1;32m    326\u001b[0m         \u001b[0;32mexcept\u001b[0m \u001b[0mValueError\u001b[0m \u001b[0;32mas\u001b[0m \u001b[0merr\u001b[0m\u001b[0;34m:\u001b[0m\u001b[0;34m\u001b[0m\u001b[0;34m\u001b[0m\u001b[0m\n",
      "\u001b[0;32m~/opt/anaconda3/lib/python3.8/site-packages/matplotlib/colors.py\u001b[0m in \u001b[0;36m<listcomp>\u001b[0;34m(.0)\u001b[0m\n\u001b[1;32m    324\u001b[0m         \u001b[0;32mtry\u001b[0m\u001b[0;34m:\u001b[0m\u001b[0;34m\u001b[0m\u001b[0;34m\u001b[0m\u001b[0m\n\u001b[0;32m--> 325\u001b[0;31m             \u001b[0mresult\u001b[0m \u001b[0;34m=\u001b[0m \u001b[0mnp\u001b[0m\u001b[0;34m.\u001b[0m\u001b[0marray\u001b[0m\u001b[0;34m(\u001b[0m\u001b[0;34m[\u001b[0m\u001b[0mto_rgba\u001b[0m\u001b[0;34m(\u001b[0m\u001b[0mcc\u001b[0m\u001b[0;34m,\u001b[0m \u001b[0malpha\u001b[0m\u001b[0;34m)\u001b[0m \u001b[0;32mfor\u001b[0m \u001b[0mcc\u001b[0m \u001b[0;32min\u001b[0m \u001b[0mc\u001b[0m\u001b[0;34m]\u001b[0m\u001b[0;34m)\u001b[0m\u001b[0;34m\u001b[0m\u001b[0;34m\u001b[0m\u001b[0m\n\u001b[0m\u001b[1;32m    326\u001b[0m         \u001b[0;32mexcept\u001b[0m \u001b[0mValueError\u001b[0m \u001b[0;32mas\u001b[0m \u001b[0merr\u001b[0m\u001b[0;34m:\u001b[0m\u001b[0;34m\u001b[0m\u001b[0;34m\u001b[0m\u001b[0m\n",
      "\u001b[0;32m~/opt/anaconda3/lib/python3.8/site-packages/matplotlib/colors.py\u001b[0m in \u001b[0;36mto_rgba\u001b[0;34m(c, alpha)\u001b[0m\n\u001b[1;32m    188\u001b[0m     \u001b[0;32mif\u001b[0m \u001b[0mrgba\u001b[0m \u001b[0;32mis\u001b[0m \u001b[0;32mNone\u001b[0m\u001b[0;34m:\u001b[0m  \u001b[0;31m# Suppress exception chaining of cache lookup failure.\u001b[0m\u001b[0;34m\u001b[0m\u001b[0;34m\u001b[0m\u001b[0m\n\u001b[0;32m--> 189\u001b[0;31m         \u001b[0mrgba\u001b[0m \u001b[0;34m=\u001b[0m \u001b[0m_to_rgba_no_colorcycle\u001b[0m\u001b[0;34m(\u001b[0m\u001b[0mc\u001b[0m\u001b[0;34m,\u001b[0m \u001b[0malpha\u001b[0m\u001b[0;34m)\u001b[0m\u001b[0;34m\u001b[0m\u001b[0;34m\u001b[0m\u001b[0m\n\u001b[0m\u001b[1;32m    190\u001b[0m         \u001b[0;32mtry\u001b[0m\u001b[0;34m:\u001b[0m\u001b[0;34m\u001b[0m\u001b[0;34m\u001b[0m\u001b[0m\n",
      "\u001b[0;32m~/opt/anaconda3/lib/python3.8/site-packages/matplotlib/colors.py\u001b[0m in \u001b[0;36m_to_rgba_no_colorcycle\u001b[0;34m(c, alpha)\u001b[0m\n\u001b[1;32m    259\u001b[0m             \u001b[0;32mreturn\u001b[0m \u001b[0mc\u001b[0m\u001b[0;34m,\u001b[0m \u001b[0mc\u001b[0m\u001b[0;34m,\u001b[0m \u001b[0mc\u001b[0m\u001b[0;34m,\u001b[0m \u001b[0malpha\u001b[0m \u001b[0;32mif\u001b[0m \u001b[0malpha\u001b[0m \u001b[0;32mis\u001b[0m \u001b[0;32mnot\u001b[0m \u001b[0;32mNone\u001b[0m \u001b[0;32melse\u001b[0m \u001b[0;36m1.\u001b[0m\u001b[0;34m\u001b[0m\u001b[0;34m\u001b[0m\u001b[0m\n\u001b[0;32m--> 260\u001b[0;31m         \u001b[0;32mraise\u001b[0m \u001b[0mValueError\u001b[0m\u001b[0;34m(\u001b[0m\u001b[0;34mf\"Invalid RGBA argument: {orig_c!r}\"\u001b[0m\u001b[0;34m)\u001b[0m\u001b[0;34m\u001b[0m\u001b[0;34m\u001b[0m\u001b[0m\n\u001b[0m\u001b[1;32m    261\u001b[0m     \u001b[0;31m# tuple color.\u001b[0m\u001b[0;34m\u001b[0m\u001b[0;34m\u001b[0m\u001b[0;34m\u001b[0m\u001b[0m\n",
      "\u001b[0;31mValueError\u001b[0m: Invalid RGBA argument: 'a'",
      "\nThe above exception was the direct cause of the following exception:\n",
      "\u001b[0;31mValueError\u001b[0m                                Traceback (most recent call last)",
      "\u001b[0;32m~/opt/anaconda3/lib/python3.8/site-packages/matplotlib/axes/_axes.py\u001b[0m in \u001b[0;36m_parse_scatter_color_args\u001b[0;34m(c, edgecolors, kwargs, xsize, get_next_color_func)\u001b[0m\n\u001b[1;32m   4290\u001b[0m             \u001b[0;32mtry\u001b[0m\u001b[0;34m:\u001b[0m  \u001b[0;31m# Is 'c' acceptable as PathCollection facecolors?\u001b[0m\u001b[0;34m\u001b[0m\u001b[0;34m\u001b[0m\u001b[0m\n\u001b[0;32m-> 4291\u001b[0;31m                 \u001b[0mcolors\u001b[0m \u001b[0;34m=\u001b[0m \u001b[0mmcolors\u001b[0m\u001b[0;34m.\u001b[0m\u001b[0mto_rgba_array\u001b[0m\u001b[0;34m(\u001b[0m\u001b[0mc\u001b[0m\u001b[0;34m)\u001b[0m\u001b[0;34m\u001b[0m\u001b[0;34m\u001b[0m\u001b[0m\n\u001b[0m\u001b[1;32m   4292\u001b[0m             \u001b[0;32mexcept\u001b[0m \u001b[0;34m(\u001b[0m\u001b[0mTypeError\u001b[0m\u001b[0;34m,\u001b[0m \u001b[0mValueError\u001b[0m\u001b[0;34m)\u001b[0m \u001b[0;32mas\u001b[0m \u001b[0merr\u001b[0m\u001b[0;34m:\u001b[0m\u001b[0;34m\u001b[0m\u001b[0;34m\u001b[0m\u001b[0m\n",
      "\u001b[0;32m~/opt/anaconda3/lib/python3.8/site-packages/matplotlib/colors.py\u001b[0m in \u001b[0;36mto_rgba_array\u001b[0;34m(c, alpha)\u001b[0m\n\u001b[1;32m    326\u001b[0m         \u001b[0;32mexcept\u001b[0m \u001b[0mValueError\u001b[0m \u001b[0;32mas\u001b[0m \u001b[0merr\u001b[0m\u001b[0;34m:\u001b[0m\u001b[0;34m\u001b[0m\u001b[0;34m\u001b[0m\u001b[0m\n\u001b[0;32m--> 327\u001b[0;31m             raise ValueError(\n\u001b[0m\u001b[1;32m    328\u001b[0m                 \u001b[0;34m\"'%s' is neither a valid single color nor a color sequence \"\u001b[0m\u001b[0;34m\u001b[0m\u001b[0;34m\u001b[0m\u001b[0m\n",
      "\u001b[0;31mValueError\u001b[0m: 'cadeblue' is neither a valid single color nor a color sequence consisting of single character color specifiers such as 'rgb'. Note also that the latter is deprecated.",
      "\nThe above exception was the direct cause of the following exception:\n",
      "\u001b[0;31mValueError\u001b[0m                                Traceback (most recent call last)",
      "\u001b[0;32m<ipython-input-31-3e991c521fa8>\u001b[0m in \u001b[0;36m<module>\u001b[0;34m\u001b[0m\n\u001b[1;32m      5\u001b[0m     \u001b[0mtotaldist_meansplus\u001b[0m \u001b[0;34m=\u001b[0m \u001b[0mtotaldist\u001b[0m\u001b[0;34m(\u001b[0m\u001b[0mgaussian_data\u001b[0m\u001b[0;34m,\u001b[0m \u001b[0mmeansplus\u001b[0m\u001b[0;34m,\u001b[0m \u001b[0;32mTrue\u001b[0m\u001b[0;34m)\u001b[0m\u001b[0;34m\u001b[0m\u001b[0;34m\u001b[0m\u001b[0m\n\u001b[1;32m      6\u001b[0m     \u001b[0mprint\u001b[0m\u001b[0;34m(\u001b[0m\u001b[0mmax_alpha_meansplus\u001b[0m\u001b[0;34m,\u001b[0m \u001b[0mmax_beta_meansplus\u001b[0m\u001b[0;34m,\u001b[0m \u001b[0mtotaldist_meansplus\u001b[0m\u001b[0;34m)\u001b[0m\u001b[0;34m\u001b[0m\u001b[0;34m\u001b[0m\u001b[0m\n\u001b[0;32m----> 7\u001b[0;31m     \u001b[0mview_meansormedians\u001b[0m\u001b[0;34m(\u001b[0m\u001b[0mgaussian_data\u001b[0m\u001b[0;34m,\u001b[0m \u001b[0mmeansplus\u001b[0m\u001b[0;34m,\u001b[0m \u001b[0mgroups_meansplus\u001b[0m\u001b[0;34m)\u001b[0m\u001b[0;34m\u001b[0m\u001b[0;34m\u001b[0m\u001b[0m\n\u001b[0m\u001b[1;32m      8\u001b[0m     \u001b[0mplt\u001b[0m\u001b[0;34m.\u001b[0m\u001b[0mtitle\u001b[0m\u001b[0;34m(\u001b[0m\u001b[0;34m\"kmeansplus K={}\"\u001b[0m\u001b[0;34m.\u001b[0m\u001b[0mformat\u001b[0m\u001b[0;34m(\u001b[0m\u001b[0mK\u001b[0m\u001b[0;34m)\u001b[0m\u001b[0;34m)\u001b[0m\u001b[0;34m\u001b[0m\u001b[0;34m\u001b[0m\u001b[0m\n\u001b[1;32m      9\u001b[0m     \u001b[0mplt\u001b[0m\u001b[0;34m.\u001b[0m\u001b[0msavefig\u001b[0m\u001b[0;34m(\u001b[0m\u001b[0;34m\"/Users/lijunli/Desktop/ex/Fair clustering/experiment/gaussian3/kmeansplus K={}\"\u001b[0m\u001b[0;34m.\u001b[0m\u001b[0mformat\u001b[0m\u001b[0;34m(\u001b[0m\u001b[0mK\u001b[0m\u001b[0;34m)\u001b[0m\u001b[0;34m)\u001b[0m\u001b[0;34m\u001b[0m\u001b[0;34m\u001b[0m\u001b[0m\n",
      "\u001b[0;32m<ipython-input-28-1c11b97b4ad3>\u001b[0m in \u001b[0;36mview_meansormedians\u001b[0;34m(X, centers, groups)\u001b[0m\n\u001b[1;32m     15\u001b[0m             'lightcoral','tomato','chocolate','olivedrab','cadeblue']# only afford less than 20 clusters!!!\n\u001b[1;32m     16\u001b[0m     \u001b[0;32mfor\u001b[0m \u001b[0mi\u001b[0m \u001b[0;32min\u001b[0m \u001b[0mrange\u001b[0m\u001b[0;34m(\u001b[0m\u001b[0mlen\u001b[0m\u001b[0;34m(\u001b[0m\u001b[0mcluster\u001b[0m\u001b[0;34m)\u001b[0m\u001b[0;34m)\u001b[0m\u001b[0;34m:\u001b[0m\u001b[0;34m\u001b[0m\u001b[0;34m\u001b[0m\u001b[0m\n\u001b[0;32m---> 17\u001b[0;31m         \u001b[0mplt\u001b[0m\u001b[0;34m.\u001b[0m\u001b[0mscatter\u001b[0m\u001b[0;34m(\u001b[0m\u001b[0mcluster\u001b[0m\u001b[0;34m[\u001b[0m\u001b[0mi\u001b[0m\u001b[0;34m]\u001b[0m\u001b[0;34m[\u001b[0m\u001b[0;34m:\u001b[0m\u001b[0;34m,\u001b[0m\u001b[0;36m0\u001b[0m\u001b[0;34m]\u001b[0m\u001b[0;34m,\u001b[0m \u001b[0mcluster\u001b[0m\u001b[0;34m[\u001b[0m\u001b[0mi\u001b[0m\u001b[0;34m]\u001b[0m\u001b[0;34m[\u001b[0m\u001b[0;34m:\u001b[0m\u001b[0;34m,\u001b[0m\u001b[0;36m1\u001b[0m\u001b[0;34m]\u001b[0m\u001b[0;34m,\u001b[0m \u001b[0ms\u001b[0m \u001b[0;34m=\u001b[0m \u001b[0;36m3\u001b[0m\u001b[0;34m,\u001b[0m \u001b[0mc\u001b[0m\u001b[0;34m=\u001b[0m\u001b[0mcolor\u001b[0m\u001b[0;34m[\u001b[0m\u001b[0mi\u001b[0m\u001b[0;34m]\u001b[0m\u001b[0;34m)\u001b[0m\u001b[0;34m\u001b[0m\u001b[0;34m\u001b[0m\u001b[0m\n\u001b[0m\u001b[1;32m     18\u001b[0m     \u001b[0mplt\u001b[0m\u001b[0;34m.\u001b[0m\u001b[0mscatter\u001b[0m\u001b[0;34m(\u001b[0m\u001b[0mcenters\u001b[0m\u001b[0;34m[\u001b[0m\u001b[0;34m:\u001b[0m\u001b[0;34m,\u001b[0m \u001b[0;36m0\u001b[0m\u001b[0;34m]\u001b[0m\u001b[0;34m,\u001b[0m \u001b[0mcenters\u001b[0m\u001b[0;34m[\u001b[0m\u001b[0;34m:\u001b[0m\u001b[0;34m,\u001b[0m \u001b[0;36m1\u001b[0m\u001b[0;34m]\u001b[0m\u001b[0;34m,\u001b[0m \u001b[0ms\u001b[0m\u001b[0;34m=\u001b[0m\u001b[0;36m100\u001b[0m\u001b[0;34m,\u001b[0m \u001b[0mmarker\u001b[0m\u001b[0;34m=\u001b[0m\u001b[0;34m'x'\u001b[0m\u001b[0;34m,\u001b[0m \u001b[0mc\u001b[0m\u001b[0;34m=\u001b[0m\u001b[0;34m'b'\u001b[0m\u001b[0;34m)\u001b[0m\u001b[0;31m# s is size\u001b[0m\u001b[0;34m\u001b[0m\u001b[0;34m\u001b[0m\u001b[0m\n",
      "\u001b[0;32m~/opt/anaconda3/lib/python3.8/site-packages/matplotlib/pyplot.py\u001b[0m in \u001b[0;36mscatter\u001b[0;34m(x, y, s, c, marker, cmap, norm, vmin, vmax, alpha, linewidths, verts, edgecolors, plotnonfinite, data, **kwargs)\u001b[0m\n\u001b[1;32m   2888\u001b[0m         \u001b[0mverts\u001b[0m\u001b[0;34m=\u001b[0m\u001b[0mcbook\u001b[0m\u001b[0;34m.\u001b[0m\u001b[0mdeprecation\u001b[0m\u001b[0;34m.\u001b[0m\u001b[0m_deprecated_parameter\u001b[0m\u001b[0;34m,\u001b[0m\u001b[0;34m\u001b[0m\u001b[0;34m\u001b[0m\u001b[0m\n\u001b[1;32m   2889\u001b[0m         edgecolors=None, *, plotnonfinite=False, data=None, **kwargs):\n\u001b[0;32m-> 2890\u001b[0;31m     __ret = gca().scatter(\n\u001b[0m\u001b[1;32m   2891\u001b[0m         \u001b[0mx\u001b[0m\u001b[0;34m,\u001b[0m \u001b[0my\u001b[0m\u001b[0;34m,\u001b[0m \u001b[0ms\u001b[0m\u001b[0;34m=\u001b[0m\u001b[0ms\u001b[0m\u001b[0;34m,\u001b[0m \u001b[0mc\u001b[0m\u001b[0;34m=\u001b[0m\u001b[0mc\u001b[0m\u001b[0;34m,\u001b[0m \u001b[0mmarker\u001b[0m\u001b[0;34m=\u001b[0m\u001b[0mmarker\u001b[0m\u001b[0;34m,\u001b[0m \u001b[0mcmap\u001b[0m\u001b[0;34m=\u001b[0m\u001b[0mcmap\u001b[0m\u001b[0;34m,\u001b[0m \u001b[0mnorm\u001b[0m\u001b[0;34m=\u001b[0m\u001b[0mnorm\u001b[0m\u001b[0;34m,\u001b[0m\u001b[0;34m\u001b[0m\u001b[0;34m\u001b[0m\u001b[0m\n\u001b[1;32m   2892\u001b[0m         \u001b[0mvmin\u001b[0m\u001b[0;34m=\u001b[0m\u001b[0mvmin\u001b[0m\u001b[0;34m,\u001b[0m \u001b[0mvmax\u001b[0m\u001b[0;34m=\u001b[0m\u001b[0mvmax\u001b[0m\u001b[0;34m,\u001b[0m \u001b[0malpha\u001b[0m\u001b[0;34m=\u001b[0m\u001b[0malpha\u001b[0m\u001b[0;34m,\u001b[0m \u001b[0mlinewidths\u001b[0m\u001b[0;34m=\u001b[0m\u001b[0mlinewidths\u001b[0m\u001b[0;34m,\u001b[0m\u001b[0;34m\u001b[0m\u001b[0;34m\u001b[0m\u001b[0m\n",
      "\u001b[0;32m~/opt/anaconda3/lib/python3.8/site-packages/matplotlib/__init__.py\u001b[0m in \u001b[0;36minner\u001b[0;34m(ax, data, *args, **kwargs)\u001b[0m\n\u001b[1;32m   1436\u001b[0m     \u001b[0;32mdef\u001b[0m \u001b[0minner\u001b[0m\u001b[0;34m(\u001b[0m\u001b[0max\u001b[0m\u001b[0;34m,\u001b[0m \u001b[0;34m*\u001b[0m\u001b[0margs\u001b[0m\u001b[0;34m,\u001b[0m \u001b[0mdata\u001b[0m\u001b[0;34m=\u001b[0m\u001b[0;32mNone\u001b[0m\u001b[0;34m,\u001b[0m \u001b[0;34m**\u001b[0m\u001b[0mkwargs\u001b[0m\u001b[0;34m)\u001b[0m\u001b[0;34m:\u001b[0m\u001b[0;34m\u001b[0m\u001b[0;34m\u001b[0m\u001b[0m\n\u001b[1;32m   1437\u001b[0m         \u001b[0;32mif\u001b[0m \u001b[0mdata\u001b[0m \u001b[0;32mis\u001b[0m \u001b[0;32mNone\u001b[0m\u001b[0;34m:\u001b[0m\u001b[0;34m\u001b[0m\u001b[0;34m\u001b[0m\u001b[0m\n\u001b[0;32m-> 1438\u001b[0;31m             \u001b[0;32mreturn\u001b[0m \u001b[0mfunc\u001b[0m\u001b[0;34m(\u001b[0m\u001b[0max\u001b[0m\u001b[0;34m,\u001b[0m \u001b[0;34m*\u001b[0m\u001b[0mmap\u001b[0m\u001b[0;34m(\u001b[0m\u001b[0msanitize_sequence\u001b[0m\u001b[0;34m,\u001b[0m \u001b[0margs\u001b[0m\u001b[0;34m)\u001b[0m\u001b[0;34m,\u001b[0m \u001b[0;34m**\u001b[0m\u001b[0mkwargs\u001b[0m\u001b[0;34m)\u001b[0m\u001b[0;34m\u001b[0m\u001b[0;34m\u001b[0m\u001b[0m\n\u001b[0m\u001b[1;32m   1439\u001b[0m \u001b[0;34m\u001b[0m\u001b[0m\n\u001b[1;32m   1440\u001b[0m         \u001b[0mbound\u001b[0m \u001b[0;34m=\u001b[0m \u001b[0mnew_sig\u001b[0m\u001b[0;34m.\u001b[0m\u001b[0mbind\u001b[0m\u001b[0;34m(\u001b[0m\u001b[0max\u001b[0m\u001b[0;34m,\u001b[0m \u001b[0;34m*\u001b[0m\u001b[0margs\u001b[0m\u001b[0;34m,\u001b[0m \u001b[0;34m**\u001b[0m\u001b[0mkwargs\u001b[0m\u001b[0;34m)\u001b[0m\u001b[0;34m\u001b[0m\u001b[0;34m\u001b[0m\u001b[0m\n",
      "\u001b[0;32m~/opt/anaconda3/lib/python3.8/site-packages/matplotlib/cbook/deprecation.py\u001b[0m in \u001b[0;36mwrapper\u001b[0;34m(*inner_args, **inner_kwargs)\u001b[0m\n\u001b[1;32m    409\u001b[0m                          \u001b[0;32melse\u001b[0m \u001b[0mdeprecation_addendum\u001b[0m\u001b[0;34m,\u001b[0m\u001b[0;34m\u001b[0m\u001b[0;34m\u001b[0m\u001b[0m\n\u001b[1;32m    410\u001b[0m                 **kwargs)\n\u001b[0;32m--> 411\u001b[0;31m         \u001b[0;32mreturn\u001b[0m \u001b[0mfunc\u001b[0m\u001b[0;34m(\u001b[0m\u001b[0;34m*\u001b[0m\u001b[0minner_args\u001b[0m\u001b[0;34m,\u001b[0m \u001b[0;34m**\u001b[0m\u001b[0minner_kwargs\u001b[0m\u001b[0;34m)\u001b[0m\u001b[0;34m\u001b[0m\u001b[0;34m\u001b[0m\u001b[0m\n\u001b[0m\u001b[1;32m    412\u001b[0m \u001b[0;34m\u001b[0m\u001b[0m\n\u001b[1;32m    413\u001b[0m     \u001b[0;32mreturn\u001b[0m \u001b[0mwrapper\u001b[0m\u001b[0;34m\u001b[0m\u001b[0;34m\u001b[0m\u001b[0m\n",
      "\u001b[0;32m~/opt/anaconda3/lib/python3.8/site-packages/matplotlib/axes/_axes.py\u001b[0m in \u001b[0;36mscatter\u001b[0;34m(self, x, y, s, c, marker, cmap, norm, vmin, vmax, alpha, linewidths, verts, edgecolors, plotnonfinite, **kwargs)\u001b[0m\n\u001b[1;32m   4449\u001b[0m \u001b[0;34m\u001b[0m\u001b[0m\n\u001b[1;32m   4450\u001b[0m         \u001b[0mc\u001b[0m\u001b[0;34m,\u001b[0m \u001b[0mcolors\u001b[0m\u001b[0;34m,\u001b[0m \u001b[0medgecolors\u001b[0m \u001b[0;34m=\u001b[0m\u001b[0;31m \u001b[0m\u001b[0;31m\\\u001b[0m\u001b[0;34m\u001b[0m\u001b[0;34m\u001b[0m\u001b[0m\n\u001b[0;32m-> 4451\u001b[0;31m             self._parse_scatter_color_args(\n\u001b[0m\u001b[1;32m   4452\u001b[0m                 \u001b[0mc\u001b[0m\u001b[0;34m,\u001b[0m \u001b[0medgecolors\u001b[0m\u001b[0;34m,\u001b[0m \u001b[0mkwargs\u001b[0m\u001b[0;34m,\u001b[0m \u001b[0mx\u001b[0m\u001b[0;34m.\u001b[0m\u001b[0msize\u001b[0m\u001b[0;34m,\u001b[0m\u001b[0;34m\u001b[0m\u001b[0;34m\u001b[0m\u001b[0m\n\u001b[1;32m   4453\u001b[0m                 get_next_color_func=self._get_patches_for_fill.get_next_color)\n",
      "\u001b[0;32m~/opt/anaconda3/lib/python3.8/site-packages/matplotlib/axes/_axes.py\u001b[0m in \u001b[0;36m_parse_scatter_color_args\u001b[0;34m(c, edgecolors, kwargs, xsize, get_next_color_func)\u001b[0m\n\u001b[1;32m   4298\u001b[0m                     \u001b[0;31m# Both the mapping *and* the RGBA conversion failed: pretty\u001b[0m\u001b[0;34m\u001b[0m\u001b[0;34m\u001b[0m\u001b[0;34m\u001b[0m\u001b[0m\n\u001b[1;32m   4299\u001b[0m                     \u001b[0;31m# severe failure => one may appreciate a verbose feedback.\u001b[0m\u001b[0;34m\u001b[0m\u001b[0;34m\u001b[0m\u001b[0;34m\u001b[0m\u001b[0m\n\u001b[0;32m-> 4300\u001b[0;31m                     raise ValueError(\n\u001b[0m\u001b[1;32m   4301\u001b[0m                         \u001b[0;34mf\"'c' argument must be a color, a sequence of colors, \"\u001b[0m\u001b[0;34m\u001b[0m\u001b[0;34m\u001b[0m\u001b[0m\n\u001b[1;32m   4302\u001b[0m                         f\"or a sequence of numbers, not {c}\") from err\n",
      "\u001b[0;31mValueError\u001b[0m: 'c' argument must be a color, a sequence of colors, or a sequence of numbers, not cadeblue"
     ]
    },
    {
     "data": {
      "image/png": "[encoded data removed]",
      "text/plain": [
       "<Figure size 432x288 with 1 Axes>"
      ]
     },
     "metadata": {
      "needs_background": "light"
     },
     "output_type": "display_data"
    }
   ],
   "source": [
    "for K in range(16,21):\n",
    "    meansplus, groups_meansplus = kmeansplus(gaussian_data, K)\n",
    "    max_alpha_meansplus, max_alpha_coalition_meansplus, max_alpha_deviating_center_meansplus = fairness_score_alpha(gaussian_data, meansplus, 20)\n",
    "    max_beta_meansplus, max_beta_coalition_meansplus, max_beta_deviating_center_meansplus = fairness_score_beta(gaussian_data, meansplus, 20)\n",
    "    totaldist_meansplus = totaldist(gaussian_data, meansplus, True)\n",
    "    print(max_alpha_meansplus, max_beta_meansplus, totaldist_meansplus)\n",
    "    view_meansormedians(gaussian_data, meansplus, groups_meansplus)\n",
    "    plt.title(\"kmeansplus K={}\".format(K))\n",
    "    plt.savefig(\"/Users/lijunli/Desktop/ex/Fair clustering/experiment/gaussian3/kmeansplus K={}\".format(K))\n",
    "    plt.clf()# renew to prevent overlap\n",
    "    \n",
    "\n",
    "    Y_meansplus_20, revisedY_meansplus_20, cluster_pts_meansplus_20 = ALG3_meansplus(gaussian_data, K, 20, 1/200)\n",
    "    max_alpha_A3meansplus20, max_alpha_coalition_A3meansplus20, max_alpha_deviating_center_A3meansplus20 = fairness_score_alpha(gaussian_data, revisedY_meansplus_20, 20)\n",
    "    max_beta_A3meansplus20, max_beta_coalition_A3meansplus20, max_beta_deviating_center_A3meansplus20 = fairness_score_beta(gaussian_data, revisedY_meansplus_20, 20)\n",
    "    totaldist_A3meansplus20 = totaldist(gaussian_data, revisedY_meansplus_20, True)\n",
    "    print(max_alpha_A3meansplus20, max_beta_A3meansplus20, totaldist_A3meansplus20)\n",
    "    ALG3_augmented_nofix(Y_meansplus_20, revisedY_meansplus_20, cluster_pts_meansplus_20)\n",
    "    plt.title(\"ALG3_meansplus K={}\".format(K))\n",
    "    plt.savefig(\"/Users/lijunli/Desktop/ex/Fair clustering/experiment/gaussian3/ALG3_meansplus K={}\".format(K))\n",
    "    plt.clf()"
   ]
  },
  {
   "cell_type": "code",
   "execution_count": 34,
   "metadata": {},
   "outputs": [
    {
     "name": "stdout",
     "output_type": "stream",
     "text": [
      "0.948 0.9823010869246002 9.046970594217079\n"
     ]
    },
    {
     "data": {
      "image/png": "[encoded data removed]",
      "text/plain": [
       "<Figure size 432x288 with 1 Axes>"
      ]
     },
     "metadata": {
      "needs_background": "light"
     },
     "output_type": "display_data"
    }
   ],
   "source": [
    "K=20\n",
    "Y_meansplus_20, revisedY_meansplus_20, cluster_pts_meansplus_20 = ALG3_meansplus(gaussian_data, K, 20, 1/200)\n",
    "max_alpha_A3meansplus20, max_alpha_coalition_A3meansplus20, max_alpha_deviating_center_A3meansplus20 = fairness_score_alpha(gaussian_data, revisedY_meansplus_20, 20)\n",
    "max_beta_A3meansplus20, max_beta_coalition_A3meansplus20, max_beta_deviating_center_A3meansplus20 = fairness_score_beta(gaussian_data, revisedY_meansplus_20, 20)\n",
    "totaldist_A3meansplus20 = totaldist(gaussian_data, revisedY_meansplus_20, True)\n",
    "print(max_alpha_A3meansplus20, max_beta_A3meansplus20, totaldist_A3meansplus20)\n",
    "ALG3_augmented_nofix(Y_meansplus_20, revisedY_meansplus_20, cluster_pts_meansplus_20)\n",
    "plt.title(\"ALG3_meansplus K={}\".format(K))\n",
    "plt.savefig(\"/Users/lijunli/Desktop/ex/Fair clustering/experiment/gaussian3/ALG3_meansplus K={}\".format(K))"
   ]
  },
  {
   "cell_type": "code",
   "execution_count": null,
   "metadata": {},
   "outputs": [],
   "source": []
  }
 ],
 "metadata": {
  "kernelspec": {
   "display_name": "Python 3",
   "language": "python",
   "name": "python3"
  },
  "language_info": {
   "codemirror_mode": {
    "name": "ipython",
    "version": 3
   },
   "file_extension": ".py",
   "mimetype": "text/x-python",
   "name": "python",
   "nbconvert_exporter": "python",
   "pygments_lexer": "ipython3",
   "version": "3.7.3"
  }
 },
 "nbformat": 4,
 "nbformat_minor": 4
}
