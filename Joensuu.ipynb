{
 "cells": [
  {
   "cell_type": "code",
   "execution_count": null,
   "metadata": {},
   "outputs": [],
   "source": []
  },
  {
   "cell_type": "code",
   "execution_count": 46,
   "metadata": {},
   "outputs": [],
   "source": [
    "import numpy as np\n",
    "from matplotlib import pyplot as plt\n",
    "import math\n",
    "\n",
    "import pandas as pd\n",
    "from sklearn import preprocessing\n",
    "import seaborn as sns"
   ]
  },
  {
   "cell_type": "markdown",
   "metadata": {},
   "source": [
    "KMEANS"
   ]
  },
  {
   "cell_type": "code",
   "execution_count": 3,
   "metadata": {
    "jupyter": {
     "source_hidden": true
    }
   },
   "outputs": [],
   "source": [
    "def kmeans(X,K,max_iter=1000):\n",
    "    \"\"\"\n",
    "    Perform k-means on the dataset X.\n",
    "    \n",
    "    Parameters\n",
    "    ----------\n",
    "    X : ndarray of shape (n,d)\n",
    "        Data are given row-wise\n",
    "    K : int\n",
    "        Number of clusters\n",
    "    max_iter : int\n",
    "        Maximum number of iterations to perform\n",
    "        \n",
    "    Returns\n",
    "    -------\n",
    "    means : ndarray of shape (K,d)\n",
    "        the K recovered cluster means given row-wise\n",
    "    groups : dict (of length K) of lists\n",
    "        each list gives the indices of points in the cluster\n",
    "    \"\"\"\n",
    "    # initialize the means as randomly selected points in the data\n",
    "    mean_ind = np.random.choice(range(X.shape[0]), K, replace=False)\n",
    "    means = X[mean_ind]\n",
    "    \n",
    "    # initialize the groups. a disctionary is recommended. \n",
    "    ### your code here\n",
    "    groups = {i: [] for i in range(K)}\n",
    "    \n",
    "    # iterate\n",
    "    for i in range(max_iter):\n",
    "        # assign each point to a center in 'means'\n",
    "        for j in range(X.shape[0]):\n",
    "            groups[np.argmin(((means-X[j,:])**2).sum(axis=1))].append(j) #d[k] return value of the key k\n",
    "            \n",
    "        # calculate new means\n",
    "        ### your code here\n",
    "        new_means = np.zeros((K, X.shape[1]))\n",
    "        for k in range(K):\n",
    "            if (len(groups[k]) != 0):\n",
    "                new_means[k] = X[groups[k]].mean(axis=0)\n",
    "            else:\n",
    "                new_means[k] = X[np.random.choice(range(X.shape[0]), 1)]\n",
    "        \n",
    "        # see if we have converged\n",
    "        if np.allclose(means,new_means):\n",
    "            #print(\"Converged after {} iterations!\".format(i))\n",
    "            return means, groups\n",
    "        else:\n",
    "            means = new_means\n",
    "            groups = {i:[] for i in range(K)}\n",
    "    #print(\"Failed to converge after {} iterations...\".format(max_iter))"
   ]
  },
  {
   "cell_type": "markdown",
   "metadata": {},
   "source": [
    "KMEANS++"
   ]
  },
  {
   "cell_type": "code",
   "execution_count": 4,
   "metadata": {
    "jupyter": {
     "source_hidden": true
    }
   },
   "outputs": [],
   "source": [
    "def kmeansplus(X,K,max_iter=1000):\n",
    "    \"\"\"\n",
    "    Perform k-means++ on the dataset X.\n",
    "    \n",
    "    Parameters\n",
    "    ----------\n",
    "    X : ndarray of shape (n,d)\n",
    "        Data are given row-wise\n",
    "    K : int\n",
    "        Number of clusters\n",
    "    max_iter : int\n",
    "        Maximum number of iterations to perform\n",
    "        \n",
    "    Returns\n",
    "    -------\n",
    "    means : ndarray of shape (K,d)\n",
    "        the K recovered cluster means given row-wise\n",
    "    groups : dict (of length K) of lists\n",
    "        each list gives the indices of points in the cluster\n",
    "    \"\"\"\n",
    "    # initialize the means as randomly selected points in the data, a better way\n",
    "    #mean_ind = np.random.choice(range(X.shape[0]), K, replace=False)\n",
    "    #means = X[mean_ind]\n",
    "    \n",
    "    mean_ind = []\n",
    "    mean_ind.append(int(np.random.choice(range(X.shape[0]), 1))) # c1\n",
    "    #print(X[mean_ind])\n",
    "    \n",
    "    for i in range(1,K):\n",
    "        D2sum = 0\n",
    "        Pr = []\n",
    "        for pt in X:\n",
    "            D2 = np.min(((X[mean_ind]-pt)**2).sum(axis=1))\n",
    "            D2sum += D2\n",
    "        for pt in X:\n",
    "            D2 = np.min(((X[mean_ind]-pt)**2).sum(axis=1))\n",
    "            Pr.append(D2 / D2sum)\n",
    "        mean_ind.append(int(np.random.choice(range(X.shape[0]), 1, p=Pr)))\n",
    "        #print(X[np.array(mean_ind)])\n",
    "    \n",
    "    means = X[np.array(mean_ind)]\n",
    "    #print(means.shape)\n",
    "    \n",
    "    # initialize the groups. a disctionary is recommended. \n",
    "    ### your code here\n",
    "    groups = {i: [] for i in range(K)}\n",
    "    \n",
    "    # iterate\n",
    "    for i in range(max_iter):\n",
    "        # assign each point to a center in 'means'\n",
    "        for j in range(X.shape[0]):\n",
    "            groups[np.argmin(((means-X[j,:])**2).sum(axis=1))].append(j) #d[k] return value of the key k\n",
    "            \n",
    "        # calculate new means\n",
    "        ### your code here\n",
    "        new_means = np.zeros((K, X.shape[1]))\n",
    "        for k in range(K):\n",
    "            if (len(groups[k]) != 0):\n",
    "                new_means[k] = X[groups[k]].mean(axis=0)\n",
    "            else:\n",
    "                new_means[k] = X[np.random.choice(range(X.shape[0]), 1)]\n",
    "        \n",
    "        # see if we have converged\n",
    "        if np.allclose(means,new_means):\n",
    "            #print(\"Converged after {} iterations!\".format(i))\n",
    "            return means, groups\n",
    "        else:\n",
    "            means = new_means\n",
    "            groups = {i:[] for i in range(K)}\n",
    "    #print(\"Failed to converge after {} iterations...\".format(max_iter))"
   ]
  },
  {
   "cell_type": "markdown",
   "metadata": {},
   "source": [
    "KMEDIANS"
   ]
  },
  {
   "cell_type": "code",
   "execution_count": 5,
   "metadata": {
    "jupyter": {
     "source_hidden": true
    }
   },
   "outputs": [],
   "source": [
    "def kmedians(X,K,max_iter=1000):\n",
    "    \n",
    "    # initialize the means as randomly selected points in the data\n",
    "    median_ind = np.random.choice(range(X.shape[0]), K, replace=False)\n",
    "    medians = X[median_ind]\n",
    "    \n",
    "    # initialize the groups. a disctionary is recommended. \n",
    "    ### your code here\n",
    "    groups = {i: [] for i in range(K)}\n",
    "    \n",
    "    # iterate\n",
    "    for i in range(max_iter):\n",
    "        # assign each point to a group\n",
    "        for j in range(X.shape[0]):\n",
    "            groups[np.argmin((np.abs(medians-X[j,:])).sum(axis=1))].append(j)\n",
    "            \n",
    "        # calculate new means\n",
    "        ### your code here\n",
    "        new_medians = np.zeros((K, X.shape[1]))\n",
    "        for k in range(K):\n",
    "            if (len(groups[k]) != 0):\n",
    "                new_medians[k] = np.median(X[groups[k]], axis=0)\n",
    "            else:\n",
    "                new_medians[k] = X[np.random.choice(range(X.shape[0]), 1)]\n",
    "        \n",
    "        # see if we have converged\n",
    "        if np.allclose(medians,new_medians):\n",
    "            #print(\"Converged after {} iterations!\".format(i))\n",
    "            return medians, groups\n",
    "        else:\n",
    "            medians = new_medians\n",
    "            groups = {i:[] for i in range(K)}\n",
    "    print(\"Failed to converge after {} iterations...\".format(max_iter))"
   ]
  },
  {
   "cell_type": "markdown",
   "metadata": {},
   "source": [
    "ALG3_means"
   ]
  },
  {
   "cell_type": "code",
   "execution_count": 6,
   "metadata": {
    "jupyter": {
     "source_hidden": true
    }
   },
   "outputs": [],
   "source": [
    "def euclid_dist(x1, x2):\n",
    "    \"\"\"\n",
    "    Euclidean distance between two vectors.\n",
    "    \"\"\"\n",
    "    result = 0.0\n",
    "    for i in range(x1.shape[0]): #shape[0] is row number\n",
    "        result += (x1[i] - x2[i]) ** 2\n",
    "    return np.sqrt(result)\n",
    "\n",
    "def ALG3_means(X, K, n_grid, delta_growth):\n",
    "    \"\"\"\n",
    "    Greedy capture for clustering. Find K centers over dataset X.\n",
    "    \n",
    "    Parameters\n",
    "    ----------\n",
    "    X : ndarray of shape (n,d)\n",
    "        Data are given row-wise\n",
    "    K : int\n",
    "        Number of centers\n",
    "    n_grid : int\n",
    "        Discrete whole space into n_grid x n_grid grids. Each grid is a center candidate to be checked if it can capture more than n/K points\n",
    "    delta_growth: float\n",
    "        In each loop, the unit of delta growth\n",
    "    \n",
    "    Returns\n",
    "    -------\n",
    "    Y: ndarray of shape (?,d)\n",
    "        Y.shape[0] depends on dataset X\n",
    "    revisedY : ndarray of shape (K,d)\n",
    "        Given row-wise\n",
    "    cluster_pts : list (of length K) \n",
    "        Each element is an ndarray row-wise containg points in one of clusters\n",
    "    \"\"\"\n",
    "    \n",
    "    n, dim = X.shape\n",
    "    N = X # remaining points after deleting\n",
    "    delta = 0\n",
    "    Y = [np.arange(2,2+dim)] \n",
    "    n_center = 0\n",
    "    clusters = {}\n",
    "    \n",
    "    # In advance, generate all possible centers(locations) row-wise saved in \"all_loc\" \n",
    "    all_loc = np.zeros((pow(n_grid, dim),dim), dtype=np.float32)\n",
    "    for p in range(all_loc.shape[0]):\n",
    "        rest = p\n",
    "        for t in range(dim):\n",
    "            all_loc[p,t] = (rest % n_grid)/n_grid\n",
    "            rest = rest // n_grid\n",
    "    \n",
    "    for i in range(int(1/delta_growth)+1):\n",
    "        delta = np.sqrt(float(dim)) * i * delta_growth \n",
    "        \n",
    "        for p in range(all_loc.shape[0]):\n",
    "            n_cover = 0\n",
    "            pts = []\n",
    "        \n",
    "            for pt in N:\n",
    "                if euclid_dist(all_loc[p], pt) <= delta: \n",
    "                    n_cover += 1\n",
    "                    pts.append(pt)\n",
    "                    \n",
    "            if dim in list((all_loc[p] == np.array(Y)).sum(1)): \n",
    "                clusters[str(p)].extend(pts)\n",
    "                for pt in pts: \n",
    "                    N = np.delete(N, list((N==pt).sum(1)).index(dim), axis=0)        \n",
    "            else:    \n",
    "                if n_cover >= n/K:\n",
    "                    Y.append(all_loc[p])\n",
    "                    cluster = {str(p): pts}\n",
    "                    clusters.update(cluster)\n",
    "                    n_center += 1\n",
    "                    for pt in pts:\n",
    "                        N = np.delete(N, list((N==pt).sum(1)).index(dim), axis=0)# if you forget, use specific example to verify. \n",
    "    \n",
    "    del Y[0] \n",
    "    Y = np.array(Y)\n",
    "    #Y is original centers, but we don't need them. If need, remember decomment this block since Y has its first row redundant\n",
    "    \n",
    "    cluster_pts = []\n",
    "    for key in clusters:\n",
    "        cluster_pts.append(np.array(clusters[key])) \n",
    "    \n",
    "    # In above half, we only need cluster_pts, a list containing ndarrays of points in each cluster\n",
    "        \n",
    "################################################\n",
    "\n",
    "    cluster_num = len(cluster_pts)\n",
    "    coalition_num = np.zeros((cluster_num), dtype=np.float32)# record the number of coalitions in each cluster, where each n/K points form a coalition\n",
    "    for i in range(cluster_num):\n",
    "        coalition_num[i] = len(cluster_pts[i]) / (n/K)\n",
    "\n",
    "    cts_dsv = np.floor(coalition_num) # \"centers_deserve\" of each cluster\n",
    "    cts_dsv_sum = int(np.sum(cts_dsv)) # Without int(), np.sum(cts_dsv) is a float, it'll report error for failing in iteration with \"range(K - cts_dsv_sum)\"\n",
    "    remain = coalition_num - cts_dsv\n",
    "\n",
    "    index = np.argsort(remain)\n",
    "    for i in range(K - cts_dsv_sum):\n",
    "        cts_dsv[index[-1-i]] += 1\n",
    "\n",
    "    revisedY, group = kmeans(cluster_pts[0], int(cts_dsv[0]), max_iter=1000)# I need this to carry out subsequent stack\n",
    "    for i in range(1, cluster_num):\n",
    "        means, group = kmeans(cluster_pts[i], int(cts_dsv[i]), max_iter=1000)# cts_dsv contains float element, so it need int()\n",
    "        revisedY = np.vstack((revisedY, means))\n",
    "   \n",
    "    return Y, revisedY, cluster_pts"
   ]
  },
  {
   "cell_type": "markdown",
   "metadata": {},
   "source": [
    "ALG3_meansplus"
   ]
  },
  {
   "cell_type": "code",
   "execution_count": 7,
   "metadata": {
    "jupyter": {
     "source_hidden": true
    }
   },
   "outputs": [],
   "source": [
    "def euclid_dist(x1, x2):\n",
    "    \"\"\"\n",
    "    Euclidean distance between two vectors.\n",
    "    \"\"\"\n",
    "    result = 0.0\n",
    "    for i in range(x1.shape[0]): #shape[0] is row number\n",
    "        result += (x1[i] - x2[i]) ** 2\n",
    "    return np.sqrt(result)\n",
    "\n",
    "def ALG3_meansplus(X, K, n_grid, delta_growth):\n",
    "    \"\"\"\n",
    "    Greedy capture for clustering. Find K centers over dataset X.\n",
    "    \n",
    "    Parameters\n",
    "    ----------\n",
    "    X : ndarray of shape (n,d)\n",
    "        Data are given row-wise\n",
    "    K : int\n",
    "        Number of centers\n",
    "    n_grid : int\n",
    "        Discrete whole space into n_grid x n_grid grids. Each grid is a center candidate to be checked if it can capture more than n/K points\n",
    "    delta_growth: float\n",
    "        In each loop, the unit of delta growth\n",
    "    \n",
    "    Returns\n",
    "    -------\n",
    "    Y: ndarray of shape (?,d)\n",
    "        Y.shape[0] depends on dataset X\n",
    "    revisedY : ndarray of shape (K,d)\n",
    "        Given row-wise\n",
    "    cluster_pts : list (of length K) \n",
    "        Each element is an ndarray row-wise containg points in one of clusters\n",
    "    \"\"\"\n",
    "    \n",
    "    n, dim = X.shape\n",
    "    N = X # remaining points after deleting\n",
    "    delta = 0\n",
    "    Y = [np.arange(2,2+dim)] \n",
    "    n_center = 0\n",
    "    clusters = {}\n",
    "    \n",
    "    # In advance, generate all possible centers(locations) row-wise saved in \"all_loc\" \n",
    "    all_loc = np.zeros((pow(n_grid, dim),dim), dtype=np.float32)\n",
    "    for p in range(all_loc.shape[0]):\n",
    "        rest = p\n",
    "        for t in range(dim):\n",
    "            all_loc[p,t] = (rest % n_grid)/n_grid\n",
    "            rest = rest // n_grid\n",
    "    \n",
    "    for i in range(int(1/delta_growth)+1):\n",
    "        delta = np.sqrt(float(dim)) * i * delta_growth \n",
    "        \n",
    "        for p in range(all_loc.shape[0]):\n",
    "            n_cover = 0\n",
    "            pts = []\n",
    "        \n",
    "            for pt in N:\n",
    "                if euclid_dist(all_loc[p], pt) <= delta: \n",
    "                    n_cover += 1\n",
    "                    pts.append(pt)\n",
    "                    \n",
    "            if dim in list((all_loc[p] == np.array(Y)).sum(1)): \n",
    "                clusters[str(p)].extend(pts)\n",
    "                for pt in pts: \n",
    "                    N = np.delete(N, list((N==pt).sum(1)).index(dim), axis=0)        \n",
    "            else:    \n",
    "                if n_cover >= n/K:\n",
    "                    Y.append(all_loc[p])\n",
    "                    cluster = {str(p): pts}\n",
    "                    clusters.update(cluster)\n",
    "                    n_center += 1\n",
    "                    for pt in pts:\n",
    "                        N = np.delete(N, list((N==pt).sum(1)).index(dim), axis=0)# if you forget, use specific example to verify. \n",
    "    \n",
    "    del Y[0] \n",
    "    Y = np.array(Y)\n",
    "    #Y is original centers, but we don't need them. If need, remember decomment this block since Y has its first row redundant\n",
    "    \n",
    "    cluster_pts = []\n",
    "    for key in clusters:\n",
    "        cluster_pts.append(np.array(clusters[key])) \n",
    "    \n",
    "    # In above half, we only need cluster_pts, a list containing ndarrays of points in each cluster\n",
    "        \n",
    "################################################\n",
    "\n",
    "    cluster_num = len(cluster_pts)\n",
    "    coalition_num = np.zeros((cluster_num), dtype=np.float32)# record the number of coalitions in each cluster, where each n/K points form a coalition\n",
    "    for i in range(cluster_num):\n",
    "        coalition_num[i] = len(cluster_pts[i]) / (n/K)\n",
    "\n",
    "    cts_dsv = np.floor(coalition_num) # \"centers_deserve\" of each cluster\n",
    "    cts_dsv_sum = int(np.sum(cts_dsv)) # Without int(), np.sum(cts_dsv) is a float, it'll report error for failing in iteration with \"range(K - cts_dsv_sum)\"\n",
    "    remain = coalition_num - cts_dsv\n",
    "\n",
    "    index = np.argsort(remain)\n",
    "    for i in range(K - cts_dsv_sum):\n",
    "        cts_dsv[index[-1-i]] += 1\n",
    "\n",
    "    revisedY, group = kmeansplus(cluster_pts[0], int(cts_dsv[0]), max_iter=1000)# I need this to carry out subsequent stack\n",
    "    for i in range(1, cluster_num):\n",
    "        means, group = kmeansplus(cluster_pts[i], int(cts_dsv[i]), max_iter=1000)# cts_dsv contains float element, so it need int()\n",
    "        revisedY = np.vstack((revisedY, means))\n",
    "   \n",
    "    return Y, revisedY, cluster_pts"
   ]
  },
  {
   "cell_type": "markdown",
   "metadata": {},
   "source": [
    "ALG3_medians (distance is Manhattan distance)"
   ]
  },
  {
   "cell_type": "code",
   "execution_count": 8,
   "metadata": {
    "jupyter": {
     "source_hidden": true
    }
   },
   "outputs": [],
   "source": [
    "def M_dist(x1, x2):\n",
    "    \"\"\"\n",
    "    Manhattan distance between two vectors.\n",
    "    \"\"\"\n",
    "    result = np.linalg.norm(x1 - x2, ord=1)\n",
    "    return result\n",
    "\n",
    "def ALG3_medians(X, K, n_grid, delta_growth):\n",
    "    \"\"\"\n",
    "    Greedy capture for clustering. Find K centers over dataset X.\n",
    "    \n",
    "    Parameters\n",
    "    ----------\n",
    "    X : ndarray of shape (n,d)\n",
    "        Data are given row-wise\n",
    "    K : int\n",
    "        Number of centers\n",
    "    n_grid : int\n",
    "        Discrete whole space into n_grid x n_grid grids. Each grid is a center candidate to be checked if it can capture more than n/K points\n",
    "    delta_growth: float\n",
    "        In each loop, the unit of delta growth\n",
    "    \n",
    "    Returns\n",
    "    -------\n",
    "    Y: ndarray of shape (?,d)\n",
    "        Y.shape[0] depends on dataset X\n",
    "    revisedY : ndarray of shape (K,d)\n",
    "        Given row-wise\n",
    "    cluster_pts : list (of length K) \n",
    "        Each element is an ndarray row-wise containg points in one of clusters\n",
    "    \"\"\"\n",
    "    \n",
    "    n, dim = X.shape\n",
    "    N = X # remaining points after deleting\n",
    "    delta = 0\n",
    "    Y = [np.arange(2,2+dim)] \n",
    "    n_center = 0\n",
    "    clusters = {}\n",
    "    \n",
    "    # In advance, generate all possible centers(locations) row-wise saved in \"all_loc\" \n",
    "    all_loc = np.zeros((pow(n_grid, dim),dim), dtype=np.float32)\n",
    "    for p in range(all_loc.shape[0]):\n",
    "        rest = p\n",
    "        for t in range(dim):\n",
    "            all_loc[p,t] = (rest % n_grid)/n_grid\n",
    "            rest = rest // n_grid\n",
    "    \n",
    "    for i in range(int(1/delta_growth)+1):\n",
    "        delta = float(dim) * i * delta_growth \n",
    "        \n",
    "        for p in range(all_loc.shape[0]):\n",
    "            n_cover = 0\n",
    "            pts = []\n",
    "        \n",
    "            for pt in N:\n",
    "                if M_dist(all_loc[p], pt) <= delta: \n",
    "                    n_cover += 1\n",
    "                    pts.append(pt)\n",
    "                    \n",
    "            if dim in list((all_loc[p] == np.array(Y)).sum(1)): \n",
    "                clusters[str(p)].extend(pts)\n",
    "                for pt in pts: \n",
    "                    N = np.delete(N, list((N==pt).sum(1)).index(dim), axis=0)        \n",
    "            else:    \n",
    "                if n_cover >= n/K:\n",
    "                    Y.append(all_loc[p])\n",
    "                    cluster = {str(p): pts}\n",
    "                    clusters.update(cluster)\n",
    "                    n_center += 1\n",
    "                    for pt in pts:\n",
    "                        N = np.delete(N, list((N==pt).sum(1)).index(dim), axis=0)# if you forget, use specific example to verify. \n",
    "    \n",
    "    del Y[0] \n",
    "    Y = np.array(Y)\n",
    "    #Y is original centers, but we don't need them. If need, remember decomment this block since Y has its first row redundant\n",
    "    \n",
    "    cluster_pts = []\n",
    "    for key in clusters:\n",
    "        cluster_pts.append(np.array(clusters[key])) \n",
    "    \n",
    "    # In above half, we only need cluster_pts, a list containing ndarrays of points in each cluster\n",
    "        \n",
    "################################################\n",
    "\n",
    "    cluster_num = len(cluster_pts)\n",
    "    coalition_num = np.zeros((cluster_num), dtype=np.float32)# record the number of coalitions in each cluster, where each n/K points form a coalition\n",
    "    for i in range(cluster_num):\n",
    "        coalition_num[i] = len(cluster_pts[i]) / (n/K)\n",
    "\n",
    "    cts_dsv = np.floor(coalition_num) # \"centers_deserve\" of each cluster\n",
    "    cts_dsv_sum = int(np.sum(cts_dsv)) # Without int(), np.sum(cts_dsv) is a float, it'll report error for failing in iteration with \"range(K - cts_dsv_sum)\"\n",
    "    remain = coalition_num - cts_dsv\n",
    "\n",
    "    index = np.argsort(remain)\n",
    "    for i in range(K - cts_dsv_sum):\n",
    "        cts_dsv[index[-1-i]] += 1\n",
    "\n",
    "    revisedY, group = kmedians(cluster_pts[0], int(cts_dsv[0]), max_iter=1000)# I need this to carry out subsequent stack\n",
    "    for i in range(1, cluster_num):\n",
    "        medians, group = kmedians(cluster_pts[i], int(cts_dsv[i]), max_iter=1000)# cts_dsv contains float element, so it need int()\n",
    "        revisedY = np.vstack((revisedY, medians))\n",
    "   \n",
    "    return Y, revisedY, cluster_pts"
   ]
  },
  {
   "cell_type": "code",
   "execution_count": null,
   "metadata": {},
   "outputs": [],
   "source": []
  },
  {
   "cell_type": "markdown",
   "metadata": {},
   "source": [
    "Fairness score computation"
   ]
  },
  {
   "cell_type": "markdown",
   "metadata": {},
   "source": [
    "alpha"
   ]
  },
  {
   "cell_type": "code",
   "execution_count": 9,
   "metadata": {
    "jupyter": {
     "source_hidden": true
    }
   },
   "outputs": [],
   "source": [
    "# show the bad coalition\n",
    "def fairness_score_alpha(X, centers, n_grid):\n",
    "    \"\"\"\n",
    "    Computer fairness score in terms of dimension alpha defined in paper.\n",
    "    \n",
    "    Parameters\n",
    "    ----------\n",
    "    X : ndarray of shape (n,d)\n",
    "        Data points(agents) are given row-wise. \n",
    "    centers: ndarray of shape (K,d)\n",
    "        Cluster centers computed by some other algorithms\n",
    "    n_grid : int\n",
    "        Discrete whole space into n_grid x n_grid grids. Each grid corresponds y' in paper meaning a possible deviating center that a block coalition will deviate to.\n",
    "        It need not be the same with ALG3's n_grid. If available centers(locations) are fixed then must same.\n",
    "    \n",
    "    Returns\n",
    "    -------\n",
    "    max_alpha : float\n",
    "        There are at most max_alpha * (n/K) agents who want to together deviate to another common location(center)\n",
    "        Algorithm which computes \"centers\" doesn't care these <max_alpha * (n/K)> agents adequately\n",
    "    \"\"\"\n",
    "    \n",
    "    n, dim = X.shape\n",
    "    K = centers.shape[0]\n",
    "    max_alpha = 0\n",
    "    \n",
    "    # grid search for possible deviating center(location)\n",
    "    for p in range(pow(n_grid, dim)):\n",
    "        \n",
    "        # transform p to a deviating center\n",
    "        loc = np.zeros((dim), dtype=np.float32)\n",
    "        rest = p\n",
    "        for t in range(dim):\n",
    "            loc[t] = (rest % n_grid)/n_grid\n",
    "            rest = rest // n_grid\n",
    "            \n",
    "        ratio_list = []\n",
    "        for pt in X:\n",
    "            \n",
    "            to_center_dist = []\n",
    "            for c in centers:\n",
    "                to_center_dist.append(euclid_dist(c, pt))\n",
    "            min_dist_to_centers = min(to_center_dist)# d(i,Y)\n",
    "            \n",
    "            ratio_list.append(min_dist_to_centers / euclid_dist(loc, pt))\n",
    "            # For current loop-fixed deviating center loc, X has a ratio_list whose element is d(i,Y)/d(i,y') (y' is unchanged in ratio_list)\n",
    "        \n",
    "        index = np.argsort(ratio_list)  \n",
    "        \n",
    "        if max(ratio_list) >= 1.0: # There really exists some pt(agent) in X who prefers to deviate to current loop-fixed location(center)\n",
    "            \n",
    "            A = 0 # \\sum{d(i, Y)}\n",
    "            B = 0 # \\sum{d(i, y')}\n",
    "\n",
    "            alpha_coalition = []\n",
    "            for i in range(n):\n",
    "                pt = X[index[-1-i]]\n",
    "                \n",
    "                alpha_coalition.append(pt)\n",
    "                \n",
    "                to_center_dist = []\n",
    "                for c in centers:\n",
    "                    to_center_dist.append(euclid_dist(c, pt))\n",
    "                min_dist_to_centers = min(to_center_dist)\n",
    "                \n",
    "                A += min_dist_to_centers\n",
    "                B += euclid_dist(loc, pt) # here loc = y'\n",
    "                \n",
    "                # For a real deviating center, when i iterates not much, A/B is large since y' is highly close to pts in X[index[-1-i]]\n",
    "                if A/B <= 1.0: \n",
    "                    # now find a group of agents with size i+1(i starts from 0, i+1 is true number of points) won't divert to loc (i.e., sum_d(i,Y) <= sum_d(i,loc))\n",
    "                    # i agents will divert to loc together, i+1 agents won't, then (i+1)/(n/K) is this y'(loc)'s alpha\n",
    "                    if max_alpha < (i+1) * K/ n:\n",
    "                        #always update max_alpha with current largest alpha\n",
    "                        max_alpha = (i+1) * K/ n\n",
    "                        max_alpha_coalition = np.array(alpha_coalition)\n",
    "                        max_alpha_deviating_center = loc\n",
    "                        break\n",
    "                    break\n",
    "                    \n",
    "    # max_alpha_coalition: ndarray of points in X with max_alpha\n",
    "    return max_alpha, max_alpha_coalition, max_alpha_deviating_center"
   ]
  },
  {
   "cell_type": "markdown",
   "metadata": {},
   "source": [
    "beta"
   ]
  },
  {
   "cell_type": "code",
   "execution_count": 10,
   "metadata": {
    "jupyter": {
     "source_hidden": true
    }
   },
   "outputs": [],
   "source": [
    "def fairness_score_beta(X, centers, n_grid):\n",
    "    \"\"\"\n",
    "    Computer fairness score in terms of dimension beta defined in paper.\n",
    "    \n",
    "    Parameters\n",
    "    ----------\n",
    "    X : ndarray of shape (n,d)\n",
    "        Data points(agents) are given row-wise. \n",
    "    centers: ndarray of shape (K,d)\n",
    "        Cluster centers computed by some other algorithms\n",
    "    n_grid : int\n",
    "        Discrete whole space into n_grid x n_grid grids. Each grid corresponds y' in paper meaning a possible deviating center that a block coalition will deviate to.\n",
    "        It need not be the same with ALG3's n_grid. If available centers(locations) are fixed then must same.\n",
    "    \n",
    "    Returns\n",
    "    -------\n",
    "    max_beta : float\n",
    "        All kinds of ceil(n/K) agents have total distance to their closest centers smaller than that to the center they most want to deviate\n",
    "    \"\"\"\n",
    "    \n",
    "    n, dim = X.shape\n",
    "    max_beta = 0\n",
    "    K = centers.shape[0]\n",
    "    \n",
    "    # grid search for feasible cluster center location 'loc'\n",
    "    for p in range(pow(n_grid, dim)):\n",
    "        \n",
    "        # transform p to practical possible deviating `location\n",
    "        loc = np.zeros((dim), dtype=np.float32)\n",
    "        rest = p\n",
    "        for t in range(dim):\n",
    "            loc[t] = (rest % n_grid)/n_grid\n",
    "            rest = rest // n_grid\n",
    "            \n",
    "        ratio_list = []\n",
    "        for pt in X:\n",
    "            \n",
    "            to_center_dist = []\n",
    "            for c in centers:\n",
    "                to_center_dist.append(euclid_dist(c, pt))\n",
    "            min_dist_to_centers = min(to_center_dist) \n",
    "            #for this pt, the distance between it and the center closest to it is min_dist_to_centers\n",
    "            #in paper, it is d(pt,centers)\n",
    "            \n",
    "            ratio_list.append(min_dist_to_centers / euclid_dist(loc, pt))\n",
    "        \n",
    "        index = np.argsort(ratio_list)\n",
    "        #index is ndarray whose elements are indexes of ratio_list and the indexes' corresponding elements in ratio_list are in increasing order\n",
    "        \n",
    "        A = 0 # \\sum{d(i, Y)}\n",
    "        B = 0 # \\sum{d(i, y')}\n",
    "        \n",
    "        beta_coalition = []\n",
    "        for i in range(math.ceil(n/K)):\n",
    "            pt = X[index[-1-i]]\n",
    "            # find ceil(n/K) points whose ratio in ratios list are first ceil(n/K) large ones\n",
    "            # these points most possibly in X divert to loc in this p loop \n",
    "            \n",
    "            beta_coalition.append(pt)\n",
    "            \n",
    "            to_center_dist = []\n",
    "            for c in centers:\n",
    "                to_center_dist.append(euclid_dist(c, pt))\n",
    "            min_dist_to_centers = min(to_center_dist)\n",
    "            #print(min_dist_to_centers / euclid_dist(loc, pt))\n",
    "            \n",
    "            A += min_dist_to_centers\n",
    "            B += euclid_dist(loc, pt)\n",
    "        \n",
    "        if A/B > max_beta:\n",
    "            max_beta = A/B\n",
    "            max_beta_coalition = np.array(beta_coalition)\n",
    "            max_beta_deviating_center = loc\n",
    "\n",
    "    return max_beta, max_beta_coalition, max_beta_deviating_center"
   ]
  },
  {
   "cell_type": "markdown",
   "metadata": {},
   "source": [
    "alpha for M distance"
   ]
  },
  {
   "cell_type": "code",
   "execution_count": 11,
   "metadata": {
    "jupyter": {
     "source_hidden": true
    }
   },
   "outputs": [],
   "source": [
    "# show the bad coalition\n",
    "def fairness_score_alpha_M(X, centers, n_grid):\n",
    "    \"\"\"\n",
    "    Computer fairness score in terms of dimension alpha defined in paper.\n",
    "    \n",
    "    Parameters\n",
    "    ----------\n",
    "    X : ndarray of shape (n,d)\n",
    "        Data points(agents) are given row-wise. \n",
    "    centers: ndarray of shape (K,d)\n",
    "        Cluster centers computed by some other algorithms\n",
    "    n_grid : int\n",
    "        Discrete whole space into n_grid x n_grid grids. Each grid corresponds y' in paper meaning a possible deviating center that a block coalition will deviate to.\n",
    "        It need not be the same with ALG3's n_grid. If available centers(locations) are fixed then must same.\n",
    "    \n",
    "    Returns\n",
    "    -------\n",
    "    max_alpha : float\n",
    "        There are at most max_alpha * (n/K) agents who want to together deviate to another common location(center)\n",
    "        Algorithm which computes \"centers\" doesn't care these <max_alpha * (n/K)> agents adequately\n",
    "    \"\"\"\n",
    "    \n",
    "    n, dim = X.shape\n",
    "    K = centers.shape[0]\n",
    "    max_alpha = 0\n",
    "    \n",
    "    # grid search for possible deviating center(location)\n",
    "    for p in range(pow(n_grid, dim)):\n",
    "        \n",
    "        # transform p to a deviating center\n",
    "        loc = np.zeros((dim), dtype=np.float32)\n",
    "        rest = p\n",
    "        for t in range(dim):\n",
    "            loc[t] = (rest % n_grid)/n_grid\n",
    "            rest = rest // n_grid\n",
    "            \n",
    "        ratio_list = []\n",
    "        for pt in X:\n",
    "            \n",
    "            to_center_dist = []\n",
    "            for c in centers:\n",
    "                to_center_dist.append(M_dist(c, pt))\n",
    "            min_dist_to_centers = min(to_center_dist)# d(i,Y)\n",
    "            \n",
    "            ratio_list.append(min_dist_to_centers / M_dist(loc, pt))\n",
    "            # For current loop-fixed deviating center loc, X has a ratio_list whose element is d(i,Y)/d(i,y') (y' is unchanged in ratio_list)\n",
    "        \n",
    "        index = np.argsort(ratio_list)  \n",
    "        \n",
    "        if max(ratio_list) >= 1.0: # There really exists some pt(agent) in X who prefers to deviate to current loop-fixed location(center)\n",
    "            \n",
    "            A = 0 # \\sum{d(i, Y)}\n",
    "            B = 0 # \\sum{d(i, y')}\n",
    "\n",
    "            alpha_coalition = []\n",
    "            for i in range(n):\n",
    "                pt = X[index[-1-i]]\n",
    "                \n",
    "                alpha_coalition.append(pt)\n",
    "                \n",
    "                to_center_dist = []\n",
    "                for c in centers:\n",
    "                    to_center_dist.append(M_dist(c, pt))\n",
    "                min_dist_to_centers = min(to_center_dist)\n",
    "                \n",
    "                A += min_dist_to_centers\n",
    "                B += M_dist(loc, pt) # here loc = y'\n",
    "                \n",
    "                # For a real deviating center, when i iterates not much, A/B is large since y' is highly close to pts in X[index[-1-i]]\n",
    "                if A/B <= 1.0: \n",
    "                    # now find a group of agents with size i+1(i starts from 0, i+1 is true number of points) won't divert to loc (i.e., sum_d(i,Y) <= sum_d(i,loc))\n",
    "                    # i agents will divert to loc together, i+1 agents won't, then (i+1)/(n/K) is this y'(loc)'s alpha\n",
    "                    if max_alpha < (i+1) * K/ n:\n",
    "                        #always update max_alpha with current largest alpha\n",
    "                        max_alpha = (i+1) * K/ n\n",
    "                        max_alpha_coalition = np.array(alpha_coalition)\n",
    "                        max_alpha_deviating_center = loc\n",
    "                        break\n",
    "                    break\n",
    "                    \n",
    "    # max_alpha_coalition: ndarray of points in X with max_alpha\n",
    "    return max_alpha, max_alpha_coalition, max_alpha_deviating_center"
   ]
  },
  {
   "cell_type": "markdown",
   "metadata": {},
   "source": [
    "beta for M distance"
   ]
  },
  {
   "cell_type": "code",
   "execution_count": 12,
   "metadata": {
    "jupyter": {
     "source_hidden": true
    }
   },
   "outputs": [],
   "source": [
    "def fairness_score_beta_M(X, centers, n_grid):\n",
    "    \"\"\"\n",
    "    Computer fairness score in terms of dimension beta defined in paper.\n",
    "    \n",
    "    Parameters\n",
    "    ----------\n",
    "    X : ndarray of shape (n,d)\n",
    "        Data points(agents) are given row-wise. \n",
    "    centers: ndarray of shape (K,d)\n",
    "        Cluster centers computed by some other algorithms\n",
    "    n_grid : int\n",
    "        Discrete whole space into n_grid x n_grid grids. Each grid corresponds y' in paper meaning a possible deviating center that a block coalition will deviate to.\n",
    "        It need not be the same with ALG3's n_grid. If available centers(locations) are fixed then must same.\n",
    "    \n",
    "    Returns\n",
    "    -------\n",
    "    max_beta : float\n",
    "        All kinds of ceil(n/K) agents have total distance to their closest centers smaller than that to the center they most want to deviate\n",
    "    \"\"\"\n",
    "    \n",
    "    n, dim = X.shape\n",
    "    max_beta = 0\n",
    "    K = centers.shape[0]\n",
    "    \n",
    "    # grid search for feasible cluster center location 'loc'\n",
    "    for p in range(pow(n_grid, dim)):\n",
    "        \n",
    "        # transform p to practical possible deviating `location\n",
    "        loc = np.zeros((dim), dtype=np.float32)\n",
    "        rest = p\n",
    "        for t in range(dim):\n",
    "            loc[t] = (rest % n_grid)/n_grid\n",
    "            rest = rest // n_grid\n",
    "            \n",
    "        ratio_list = []\n",
    "        for pt in X:\n",
    "            \n",
    "            to_center_dist = []\n",
    "            for c in centers:\n",
    "                to_center_dist.append(M_dist(c, pt))\n",
    "            min_dist_to_centers = min(to_center_dist) \n",
    "            #for this pt, the distance between it and the center closest to it is min_dist_to_centers\n",
    "            #in paper, it is d(pt,centers)\n",
    "            \n",
    "            ratio_list.append(min_dist_to_centers / M_dist(loc, pt))\n",
    "        \n",
    "        index = np.argsort(ratio_list)\n",
    "        #index is ndarray whose elements are indexes of ratio_list and the indexes' corresponding elements in ratio_list are in increasing order\n",
    "        \n",
    "        A = 0 # \\sum{d(i, Y)}\n",
    "        B = 0 # \\sum{d(i, y')}\n",
    "        \n",
    "        beta_coalition = []\n",
    "        for i in range(math.ceil(n/K)):\n",
    "            pt = X[index[-1-i]]\n",
    "            # find ceil(n/K) points whose ratio in ratios list are first ceil(n/K) large ones\n",
    "            # these points most possibly in X divert to loc in this p loop \n",
    "            \n",
    "            beta_coalition.append(pt)\n",
    "            \n",
    "            to_center_dist = []\n",
    "            for c in centers:\n",
    "                to_center_dist.append(M_dist(c, pt))\n",
    "            min_dist_to_centers = min(to_center_dist)\n",
    "            #print(min_dist_to_centers / euclid_dist(loc, pt))\n",
    "            \n",
    "            A += min_dist_to_centers\n",
    "            B += M_dist(loc, pt)\n",
    "        \n",
    "        if A/B > max_beta:\n",
    "            max_beta = A/B\n",
    "            max_beta_coalition = np.array(beta_coalition)\n",
    "            max_beta_deviating_center = loc\n",
    "\n",
    "    return max_beta, max_beta_coalition, max_beta_deviating_center"
   ]
  },
  {
   "cell_type": "code",
   "execution_count": null,
   "metadata": {},
   "outputs": [],
   "source": []
  },
  {
   "cell_type": "markdown",
   "metadata": {},
   "source": [
    "totaldist(objective) computation"
   ]
  },
  {
   "cell_type": "code",
   "execution_count": 13,
   "metadata": {
    "jupyter": {
     "source_hidden": true
    }
   },
   "outputs": [],
   "source": [
    "def totaldist(X, centers, ismeans):\n",
    "    '''\n",
    "    Compute total distance for kmeans or kmedians\n",
    "    \n",
    "    X: dataset\n",
    "    centers: ndarray of shape (K, dim)\n",
    "    ismeans: True when centers are related to kmeans; False when median\n",
    "    \n",
    "    '''\n",
    "\n",
    "    totaldist = 0\n",
    "    \n",
    "    if ismeans:\n",
    "        for pt in X:\n",
    "            totaldist += np.min(((centers-pt)**2).sum(axis=1))\n",
    "    else:\n",
    "        for pt in X:\n",
    "            totaldist += np.min(np.abs(centers-pt).sum(axis=1))\n",
    "    \n",
    "    return totaldist"
   ]
  },
  {
   "cell_type": "code",
   "execution_count": null,
   "metadata": {},
   "outputs": [],
   "source": []
  },
  {
   "cell_type": "code",
   "execution_count": null,
   "metadata": {},
   "outputs": [],
   "source": []
  },
  {
   "cell_type": "markdown",
   "metadata": {},
   "source": [
    "Visualization"
   ]
  },
  {
   "cell_type": "markdown",
   "metadata": {},
   "source": [
    "ALG3_augmented_nofix(Y, revisedY, cluster_pts)"
   ]
  },
  {
   "cell_type": "code",
   "execution_count": 54,
   "metadata": {
    "jupyter": {
     "source_hidden": true
    }
   },
   "outputs": [],
   "source": [
    "def ALG3_augmented_nofix(Y, revisedY, cluster_pts):\n",
    "    \n",
    "    #Y, revisedY, cluster_pts = ALG3(gaussian1, 10, 20, 1/200)\n",
    "\n",
    "    color = ['c','y','palegreen','plum','tan',\n",
    "             'yellow','paleturquoise','pink','cornflowerblue','mistyrose',\n",
    "             'olive','salmon','lightskyblue','darkgrey','lime',\n",
    "            'lightcoral','tomato','chocolate','olivedrab','cadetblue']\n",
    "\n",
    "    for i in range(len(cluster_pts)):\n",
    "        plt.scatter(cluster_pts[i][:,0], cluster_pts[i][:,1], s = 0.5, c=color[i])\n",
    "\n",
    "    plt.scatter(Y[:, 0], Y[:, 1], s=80, marker='*', c='r')# s is size\n",
    "    plt.scatter(revisedY[:, 0], revisedY[:, 1], s=100, marker='x', c='b')# s is size"
   ]
  },
  {
   "cell_type": "markdown",
   "metadata": {},
   "source": [
    "max_alpha_coalition(max_alpha_coalition, max_alpha_deviating_center):"
   ]
  },
  {
   "cell_type": "code",
   "execution_count": 15,
   "metadata": {
    "jupyter": {
     "source_hidden": true
    }
   },
   "outputs": [],
   "source": [
    "def max_alpha_coalition(max_alpha_coalition, max_alpha_deviating_center):\n",
    "    plt.scatter(max_alpha_coalition[:, 0], max_alpha_coalition[:, 1], s=20, marker='*')\n",
    "    plt.scatter(max_alpha_deviating_center[0], max_alpha_deviating_center[1], s=100, marker='*', c='r')"
   ]
  },
  {
   "cell_type": "markdown",
   "metadata": {},
   "source": [
    "max_beta_coalition(max_beta_coalition, max_beta_deviating_center)"
   ]
  },
  {
   "cell_type": "code",
   "execution_count": 16,
   "metadata": {
    "jupyter": {
     "source_hidden": true
    }
   },
   "outputs": [],
   "source": [
    "def max_beta_coalition(max_beta_coalition, max_beta_deviating_center):\n",
    "    plt.scatter(max_beta_coalition[:, 0], max_beta_coalition[:, 1], s=20, marker='*')\n",
    "    plt.scatter(max_beta_deviating_center[0], max_beta_deviating_center[1], s=100, marker='*', c='r')"
   ]
  },
  {
   "cell_type": "markdown",
   "metadata": {},
   "source": [
    "view_meansormedians(X, centers, groups) #different from ALG3_? is because the specialty of their return"
   ]
  },
  {
   "cell_type": "code",
   "execution_count": 52,
   "metadata": {
    "jupyter": {
     "source_hidden": true
    }
   },
   "outputs": [],
   "source": [
    "def view_meansormedians(X, centers, groups):\n",
    "    # find each cluster in kmeans_fix_several_centers\n",
    "    cluster = []\n",
    "    for value in groups.values():\n",
    "        each_cluster = np.zeros(2)\n",
    "        for i in value:\n",
    "            each_cluster = np.vstack((each_cluster, X[i]))\n",
    "        each_cluster = np.delete(each_cluster, 0, axis=0)\n",
    "        cluster.append(each_cluster)\n",
    "\n",
    "    #use different colors to draw each cluster that k-means derives\n",
    "    color = ['c','y','palegreen','plum','tan',\n",
    "             'yellow','paleturquoise','pink','cornflowerblue','mistyrose',\n",
    "             'olive','salmon','lightskyblue','darkgrey','lime',\n",
    "            'lightcoral','tomato','chocolate','olivedrab','cadetblue']# only afford less than 20 clusters!!!\n",
    "    for i in range(len(cluster)):\n",
    "        plt.scatter(cluster[i][:,0], cluster[i][:,1], s = 0.5, c=color[i])\n",
    "    plt.scatter(centers[:, 0], centers[:, 1], s=100, marker='x', c='b')# s is size"
   ]
  },
  {
   "cell_type": "code",
   "execution_count": null,
   "metadata": {},
   "outputs": [],
   "source": []
  },
  {
   "cell_type": "markdown",
   "metadata": {},
   "source": [
    "IMPORT dataset"
   ]
  },
  {
   "cell_type": "code",
   "execution_count": 25,
   "metadata": {},
   "outputs": [
    {
     "name": "stdout",
     "output_type": "stream",
     "text": [
      "(6014, 2)\n"
     ]
    },
    {
     "data": {
      "text/plain": [
       "<matplotlib.collections.PathCollection at 0x7fbbd49cc250>"
      ]
     },
     "execution_count": 25,
     "metadata": {},
     "output_type": "execute_result"
    },
    {
     "data": {
      "image/png": "[encoded data removed]",
      "text/plain": [
       "<Figure size 432x288 with 1 Axes>"
      ]
     },
     "metadata": {
      "needs_background": "light"
     },
     "output_type": "display_data"
    }
   ],
   "source": [
    "J_loc = pd.read_csv('/Users/lijunli/Desktop/ex/Fair clustering/experiment/JoensuuLocation/Joensuu.csv', header=None)\n",
    "\n",
    "J_loc = np.array(J_loc)\n",
    "print(J_loc.shape)\n",
    "\n",
    "# min_max_scaler = preprocessing.MinMaxScaler()\n",
    "# gaussian_data = min_max_scaler.fit_transform(J_loc)\n",
    "# print(gaussian_data)\n",
    "plt.scatter(J_loc[:,0], J_loc[:,1],s=1)"
   ]
  },
  {
   "cell_type": "code",
   "execution_count": 22,
   "metadata": {},
   "outputs": [
    {
     "name": "stdout",
     "output_type": "stream",
     "text": [
      "(6014, 2)\n",
      "[[0.48948434 0.61514509]\n",
      " [0.48948434 0.61514509]\n",
      " [0.48948434 0.61514509]\n",
      " ...\n",
      " [0.49596789 0.60651257]\n",
      " [0.49612565 0.60367686]\n",
      " [0.49612249 0.60369737]]\n"
     ]
    },
    {
     "data": {
      "text/plain": [
       "<matplotlib.collections.PathCollection at 0x7fbbd47a6a60>"
      ]
     },
     "execution_count": 22,
     "metadata": {},
     "output_type": "execute_result"
    },
    {
     "data": {
      "image/png": "[encoded data removed]",
      "text/plain": [
       "<Figure size 432x288 with 1 Axes>"
      ]
     },
     "metadata": {
      "needs_background": "light"
     },
     "output_type": "display_data"
    }
   ],
   "source": [
    "J_loc = pd.read_csv('/Users/lijunli/Desktop/ex/Fair clustering/experiment/JoensuuLocation/Joensuu.csv', header=None)\n",
    "\n",
    "J_loc = np.array(J_loc)\n",
    "print(J_loc.shape)\n",
    "\n",
    "min_max_scaler = preprocessing.MinMaxScaler()\n",
    "gaussian_data = min_max_scaler.fit_transform(J_loc)\n",
    "print(gaussian_data)\n",
    "plt.scatter(gaussian_data[:,0], gaussian_data[:,1],s=1)"
   ]
  },
  {
   "cell_type": "code",
   "execution_count": null,
   "metadata": {},
   "outputs": [],
   "source": []
  },
  {
   "cell_type": "markdown",
   "metadata": {},
   "source": [
    "RUN Algorithms"
   ]
  },
  {
   "cell_type": "markdown",
   "metadata": {},
   "source": [
    "Accuracy=20"
   ]
  },
  {
   "cell_type": "markdown",
   "metadata": {},
   "source": [
    "KMEANSPLUS"
   ]
  },
  {
   "cell_type": "code",
   "execution_count": 27,
   "metadata": {},
   "outputs": [
    {
     "name": "stdout",
     "output_type": "stream",
     "text": [
      "1.9650814765547058 2.1929116674466598 65.52322447199899\n",
      "1.0741602926504823 1.0055518057581259 65.23872503928833\n",
      "0.7529098769537745 0.848697791978793 19.307813323061882\n",
      "0.7529098769537745 0.8486977919787705 19.307813323061886\n",
      "1.018623212504157 1.0104557847245257 14.339205104729885\n",
      "1.0954439640838045 1.082176540918538 16.82299778445314\n",
      "1.5191220485533754 1.6714829421853312 11.560170012144273\n",
      "1.117392750249418 1.0822173837970683 12.049235240422101\n"
     ]
    },
    {
     "data": {
      "text/plain": [
       "<Figure size 432x288 with 0 Axes>"
      ]
     },
     "metadata": {},
     "output_type": "display_data"
    }
   ],
   "source": [
    "for K in range(2,10,2):\n",
    "    meansplus, groups_meansplus = kmeansplus(gaussian_data, K)\n",
    "    max_alpha_meansplus, max_alpha_coalition_meansplus, max_alpha_deviating_center_meansplus = fairness_score_alpha(gaussian_data, meansplus, 20)\n",
    "    max_beta_meansplus, max_beta_coalition_meansplus, max_beta_deviating_center_meansplus = fairness_score_beta(gaussian_data, meansplus, 20)\n",
    "    totaldist_meansplus = totaldist(gaussian_data, meansplus, True)\n",
    "    print(max_alpha_meansplus, max_beta_meansplus, totaldist_meansplus)\n",
    "    view_meansormedians(gaussian_data, meansplus, groups_meansplus)\n",
    "    plt.title(\"kmeansplus K={}\".format(K))\n",
    "    plt.savefig(\"/Users/lijunli/Desktop/ex/Fair clustering/experiment/JoensuuLocation/kmeansplus_loc K={}\".format(K))\n",
    "    plt.clf()# renew to prevent overlap\n",
    "    \n",
    "\n",
    "    Y_meansplus_20, revisedY_meansplus_20, cluster_pts_meansplus_20 = ALG3_meansplus(gaussian_data, K, 20, 1/200)\n",
    "    max_alpha_A3meansplus20, max_alpha_coalition_A3meansplus20, max_alpha_deviating_center_A3meansplus20 = fairness_score_alpha(gaussian_data, revisedY_meansplus_20, 20)\n",
    "    max_beta_A3meansplus20, max_beta_coalition_A3meansplus20, max_beta_deviating_center_A3meansplus20 = fairness_score_beta(gaussian_data, revisedY_meansplus_20, 20)\n",
    "    totaldist_A3meansplus20 = totaldist(gaussian_data, revisedY_meansplus_20, True)\n",
    "    print(max_alpha_A3meansplus20, max_beta_A3meansplus20, totaldist_A3meansplus20)\n",
    "    ALG3_augmented_nofix(Y_meansplus_20, revisedY_meansplus_20, cluster_pts_meansplus_20)\n",
    "    plt.title(\"ALG3_meansplus K={}\".format(K))\n",
    "    plt.savefig(\"/Users/lijunli/Desktop/ex/Fair clustering/experiment/JoensuuLocation/ALG3_meansplus_loc K={}\".format(K))\n",
    "    plt.clf()\n",
    "    "
   ]
  },
  {
   "cell_type": "code",
   "execution_count": 28,
   "metadata": {},
   "outputs": [
    {
     "name": "stdout",
     "output_type": "stream",
     "text": [
      "1.709344861988693 1.772433363410911 7.739025624268301\n",
      "1.3535084802128368 1.4107466823836112 10.330132918607736\n",
      "1.6581310276022614 1.489024298294833 6.5503121653987835\n",
      "0.6145660126371799 0.9346248198870747 7.911327527269681\n",
      "2.4349850349185234 2.122094179330634 5.871177499291434\n",
      "1.818091120718324 1.5341593556193525 6.603190495655462\n",
      "2.22148320585301 1.4336019340460766 4.907007567923419\n",
      "2.1203857665447288 1.59367054238534 5.8680822506219394\n",
      "1.5174592617226472 1.0809635243117444 3.748789820672313\n",
      "2.582973062853342 1.6319781128252537 5.682337076306657\n"
     ]
    },
    {
     "data": {
      "text/plain": [
       "<Figure size 432x288 with 0 Axes>"
      ]
     },
     "metadata": {},
     "output_type": "display_data"
    }
   ],
   "source": [
    "for K in range(10,20,2):\n",
    "    meansplus, groups_meansplus = kmeansplus(gaussian_data, K)\n",
    "    max_alpha_meansplus, max_alpha_coalition_meansplus, max_alpha_deviating_center_meansplus = fairness_score_alpha(gaussian_data, meansplus, 20)\n",
    "    max_beta_meansplus, max_beta_coalition_meansplus, max_beta_deviating_center_meansplus = fairness_score_beta(gaussian_data, meansplus, 20)\n",
    "    totaldist_meansplus = totaldist(gaussian_data, meansplus, True)\n",
    "    print(max_alpha_meansplus, max_beta_meansplus, totaldist_meansplus)\n",
    "    view_meansormedians(gaussian_data, meansplus, groups_meansplus)\n",
    "    plt.title(\"kmeansplus K={}\".format(K))\n",
    "    plt.savefig(\"/Users/lijunli/Desktop/ex/Fair clustering/experiment/JoensuuLocation/kmeansplus_loc K={}\".format(K))\n",
    "    plt.clf()# renew to prevent overlap\n",
    "    \n",
    "\n",
    "    Y_meansplus_20, revisedY_meansplus_20, cluster_pts_meansplus_20 = ALG3_meansplus(gaussian_data, K, 20, 1/200)\n",
    "    max_alpha_A3meansplus20, max_alpha_coalition_A3meansplus20, max_alpha_deviating_center_A3meansplus20 = fairness_score_alpha(gaussian_data, revisedY_meansplus_20, 20)\n",
    "    max_beta_A3meansplus20, max_beta_coalition_A3meansplus20, max_beta_deviating_center_A3meansplus20 = fairness_score_beta(gaussian_data, revisedY_meansplus_20, 20)\n",
    "    totaldist_A3meansplus20 = totaldist(gaussian_data, revisedY_meansplus_20, True)\n",
    "    print(max_alpha_A3meansplus20, max_beta_A3meansplus20, totaldist_A3meansplus20)\n",
    "    ALG3_augmented_nofix(Y_meansplus_20, revisedY_meansplus_20, cluster_pts_meansplus_20)\n",
    "    plt.title(\"ALG3_meansplus K={}\".format(K))\n",
    "    plt.savefig(\"/Users/lijunli/Desktop/ex/Fair clustering/experiment/JoensuuLocation/ALG3_meansplus_loc K={}\".format(K))\n",
    "    plt.clf()\n",
    "    "
   ]
  },
  {
   "cell_type": "code",
   "execution_count": 30,
   "metadata": {},
   "outputs": [
    {
     "name": "stdout",
     "output_type": "stream",
     "text": [
      "1.3257399401396741 1.2450027613948935 12.592478341624659\n",
      "1.1825739940139675 1.2091268513279156 11.859679625641288\n",
      "1.5488859328234121 1.476209144569702 8.321166115588907\n",
      "1.4890256069171932 1.3708449475033737 11.463990411295306\n",
      "1.8656468240771533 1.9453161549450781 6.1985422903400265\n",
      "1.4504489524442967 1.473238680427286 8.47173009698408\n",
      "2.20269371466578 2.038986052406588 5.557329910290479\n",
      "1.6925507149983372 1.5183348213078292 7.667544101761518\n",
      "2.3021283671433324 2.1288687117937246 4.3451514710967025\n",
      "2.002826737612238 1.5595208906478322 7.906807505155221\n",
      "2.987861656135683 2.187812486202369 4.2549404200141865\n",
      "1.8373794479547723 1.4199399863986313 6.112667243962976\n"
     ]
    },
    {
     "data": {
      "text/plain": [
       "<Figure size 432x288 with 0 Axes>"
      ]
     },
     "metadata": {},
     "output_type": "display_data"
    }
   ],
   "source": [
    "for K in range(7,19,2):\n",
    "    meansplus, groups_meansplus = kmeansplus(gaussian_data, K)\n",
    "    max_alpha_meansplus, max_alpha_coalition_meansplus, max_alpha_deviating_center_meansplus = fairness_score_alpha(gaussian_data, meansplus, 20)\n",
    "    max_beta_meansplus, max_beta_coalition_meansplus, max_beta_deviating_center_meansplus = fairness_score_beta(gaussian_data, meansplus, 20)\n",
    "    totaldist_meansplus = totaldist(gaussian_data, meansplus, True)\n",
    "    print(max_alpha_meansplus, max_beta_meansplus, totaldist_meansplus)\n",
    "    view_meansormedians(gaussian_data, meansplus, groups_meansplus)\n",
    "    plt.title(\"kmeansplus K={}\".format(K))\n",
    "    plt.savefig(\"/Users/lijunli/Desktop/ex/Fair clustering/experiment/JoensuuLocation/kmeansplus_loc K={}\".format(K))\n",
    "    plt.clf()# renew to prevent overlap\n",
    "    \n",
    "\n",
    "    Y_meansplus_20, revisedY_meansplus_20, cluster_pts_meansplus_20 = ALG3_meansplus(gaussian_data, K, 20, 1/200)\n",
    "    max_alpha_A3meansplus20, max_alpha_coalition_A3meansplus20, max_alpha_deviating_center_A3meansplus20 = fairness_score_alpha(gaussian_data, revisedY_meansplus_20, 20)\n",
    "    max_beta_A3meansplus20, max_beta_coalition_A3meansplus20, max_beta_deviating_center_A3meansplus20 = fairness_score_beta(gaussian_data, revisedY_meansplus_20, 20)\n",
    "    totaldist_A3meansplus20 = totaldist(gaussian_data, revisedY_meansplus_20, True)\n",
    "    print(max_alpha_A3meansplus20, max_beta_A3meansplus20, totaldist_A3meansplus20)\n",
    "    ALG3_augmented_nofix(Y_meansplus_20, revisedY_meansplus_20, cluster_pts_meansplus_20)\n",
    "    plt.title(\"ALG3_meansplus K={}\".format(K))\n",
    "    plt.savefig(\"/Users/lijunli/Desktop/ex/Fair clustering/experiment/JoensuuLocation/ALG3_meansplus_loc K={}\".format(K))\n",
    "    plt.clf()\n",
    "    "
   ]
  },
  {
   "cell_type": "code",
   "execution_count": 31,
   "metadata": {},
   "outputs": [
    {
     "name": "stdout",
     "output_type": "stream",
     "text": [
      "1.1651147322913202 1.1732500930114877 12.549084821744723\n",
      "1.3501829065513802 1.246052324696558 12.544077863408456\n",
      "1.4512803458596608 1.4932490842920865 11.215429645371277\n",
      "1.4965081476554705 1.565255828199953 13.341653618068777\n",
      "1.2884935151313601 1.0667694123026041 9.539607110527879\n",
      "1.2435982707016962 1.2106368027386445 11.298144821481364\n",
      "1.697705354173595 1.7223974541710227 6.832602504514694\n",
      "1.4782174925174592 1.3731302233121707 10.618440300465604\n",
      "2.1253741270369138 2.243330069056036 8.045395917325585\n",
      "1.4358164283338877 1.4689722917023165 10.062937888187792\n",
      "1.7758563352178252 1.5019898477461324 5.929899265030934\n",
      "1.5204522780179581 1.6795175233525308 7.533753751996192\n",
      "1.839541070834719 1.3269040183665683 6.005598795076282\n",
      "1.7336215497173262 1.5081654546233487 8.937945219253606\n",
      "2.4163618224143666 2.075534634850901 5.8167955734452015\n",
      "1.848353841037579 1.5274543704297292 8.472138012461802\n",
      "2.643831060857998 2.114732768643435 4.438008644231366\n",
      "2.0128034585966077 1.5684770149844047 6.665565699858414\n",
      "2.7775191220485533 2.1516755850207887 4.5099098641282005\n",
      "2.1363485201197205 1.9503198672046904 6.311808653619486\n",
      "2.009810442301297 1.41833400110906 4.030750055635698\n",
      "2.0437312936481544 1.404596212264763 6.588316887072122\n",
      "2.4213501829065516 2.014654601076279 3.724880216577417\n",
      "0.8290655138011307 0.9295045330482256 5.231717485578225\n",
      "0.9920186232125041 0.9995620290632661 3.5784003832461235\n",
      "2.442135018290655 1.734915838533432 4.834045662280269\n",
      "3.05287662121716 2.3512545625184225 3.531180859681539\n",
      "0.8446957100099767 0.9027028604838487 4.503227853463832\n"
     ]
    },
    {
     "data": {
      "text/plain": [
       "<Figure size 432x288 with 0 Axes>"
      ]
     },
     "metadata": {},
     "output_type": "display_data"
    }
   ],
   "source": [
    "for K in range(7,21):\n",
    "    meansplus, groups_meansplus = kmeansplus(gaussian_data, K)\n",
    "    max_alpha_meansplus, max_alpha_coalition_meansplus, max_alpha_deviating_center_meansplus = fairness_score_alpha(gaussian_data, meansplus, 20)\n",
    "    max_beta_meansplus, max_beta_coalition_meansplus, max_beta_deviating_center_meansplus = fairness_score_beta(gaussian_data, meansplus, 20)\n",
    "    totaldist_meansplus = totaldist(gaussian_data, meansplus, True)\n",
    "    print(max_alpha_meansplus, max_beta_meansplus, totaldist_meansplus)\n",
    "    view_meansormedians(gaussian_data, meansplus, groups_meansplus)\n",
    "    plt.title(\"kmeansplus K={}\".format(K))\n",
    "    plt.savefig(\"/Users/lijunli/Desktop/ex/Fair clustering/experiment/JoensuuLocation/kmeansplus_loc2 K={}\".format(K))\n",
    "    plt.clf()# renew to prevent overlap\n",
    "    \n",
    "\n",
    "    Y_meansplus_20, revisedY_meansplus_20, cluster_pts_meansplus_20 = ALG3_meansplus(gaussian_data, K, 20, 1/200)\n",
    "    max_alpha_A3meansplus20, max_alpha_coalition_A3meansplus20, max_alpha_deviating_center_A3meansplus20 = fairness_score_alpha(gaussian_data, revisedY_meansplus_20, 20)\n",
    "    max_beta_A3meansplus20, max_beta_coalition_A3meansplus20, max_beta_deviating_center_A3meansplus20 = fairness_score_beta(gaussian_data, revisedY_meansplus_20, 20)\n",
    "    totaldist_A3meansplus20 = totaldist(gaussian_data, revisedY_meansplus_20, True)\n",
    "    print(max_alpha_A3meansplus20, max_beta_A3meansplus20, totaldist_A3meansplus20)\n",
    "    ALG3_augmented_nofix(Y_meansplus_20, revisedY_meansplus_20, cluster_pts_meansplus_20)\n",
    "    plt.title(\"ALG3_meansplus K={}\".format(K))\n",
    "    plt.savefig(\"/Users/lijunli/Desktop/ex/Fair clustering/experiment/JoensuuLocation/ALG3_meansplus_loc2 K={}\".format(K))\n",
    "    plt.clf()\n",
    "    "
   ]
  },
  {
   "cell_type": "code",
   "execution_count": null,
   "metadata": {},
   "outputs": [],
   "source": []
  },
  {
   "cell_type": "code",
   "execution_count": null,
   "metadata": {},
   "outputs": [],
   "source": []
  },
  {
   "cell_type": "code",
   "execution_count": 32,
   "metadata": {},
   "outputs": [
    {
     "name": "stdout",
     "output_type": "stream",
     "text": [
      "1.5204522780179581 1.6624879991130102 11.68278289963415\n",
      "1.4220152976388427 1.467430565007345 12.656188229579113\n",
      "1.1822414366478218 1.2215230874660918 11.6257642097474\n",
      "1.2675424010641836 1.1636491283003012 10.776591576142742\n",
      "1.725972730295976 1.7528522938231381 7.427162451072855\n",
      "1.4782174925174592 1.3731302233121707 10.618493139645567\n",
      "1.8400399068839375 1.9031235102310609 6.984649748182105\n",
      "1.4358164283338877 1.119398244789227 10.251440784968976\n",
      "2.031260392417692 2.0301644910940717 7.2716662265691046\n",
      "1.5164615896242102 1.4924584552742948 8.837447215972528\n",
      "1.9108746258729632 1.5270952216373943 5.2750512092976365\n",
      "0.6355171267043564 0.9783135673654618 7.19911379105873\n",
      "1.9973395410708348 1.5744099314432816 4.681146700970804\n",
      "1.8204190222813434 1.5341593556193525 7.213897829690199\n",
      "2.0776521449950116 1.600539729159494 5.086779469163743\n",
      "1.785833056202195 1.8922617208776036 8.531604319162874\n",
      "2.859993348852677 2.1395721384998203 4.348584532048191\n",
      "2.1815763219155304 1.8517847844098674 6.731543575359006\n",
      "2.9398071167276356 2.110035152206988 4.336016202396393\n",
      "2.193548387096774 1.87769644636015 6.641196051348331\n",
      "0.6434985034918523 0.8658199409411093 4.624343391144016\n",
      "2.394413036248753 1.870737682223912 5.031550284443236\n",
      "3.399401396740938 2.276488557768564 3.2447927313031033\n",
      "2.606418357166611 2.117085741879483 4.897978191611028\n",
      "2.118390422347855 1.6078178934640874 3.354406824474844\n",
      "0.8646491519787163 0.9296665177157399 4.814674616133145\n",
      "1.4526105753242435 1.6257518459538445 12.470059193018564\n",
      "1.3182573994013966 1.2699127225638969 12.114233029246945\n",
      "1.6745926172264716 1.8668399811901166 8.392563013801542\n",
      "1.644662454273362 1.8657437769877518 12.251854014948183\n",
      "1.642833388759561 1.6670236159815843 9.422939602447276\n"
     ]
    },
    {
     "ename": "KeyboardInterrupt",
     "evalue": "",
     "output_type": "error",
     "traceback": [
      "\u001b[0;31m---------------------------------------------------------------------------\u001b[0m",
      "\u001b[0;31mKeyboardInterrupt\u001b[0m                         Traceback (most recent call last)",
      "\u001b[0;32m<ipython-input-32-660ffb20292c>\u001b[0m in \u001b[0;36m<module>\u001b[0;34m\u001b[0m\n\u001b[1;32m     12\u001b[0m \u001b[0;34m\u001b[0m\u001b[0m\n\u001b[1;32m     13\u001b[0m \u001b[0;34m\u001b[0m\u001b[0m\n\u001b[0;32m---> 14\u001b[0;31m         \u001b[0mY_meansplus_20\u001b[0m\u001b[0;34m,\u001b[0m \u001b[0mrevisedY_meansplus_20\u001b[0m\u001b[0;34m,\u001b[0m \u001b[0mcluster_pts_meansplus_20\u001b[0m \u001b[0;34m=\u001b[0m \u001b[0mALG3_meansplus\u001b[0m\u001b[0;34m(\u001b[0m\u001b[0mgaussian_data\u001b[0m\u001b[0;34m,\u001b[0m \u001b[0mK\u001b[0m\u001b[0;34m,\u001b[0m \u001b[0;36m20\u001b[0m\u001b[0;34m,\u001b[0m \u001b[0;36m1\u001b[0m\u001b[0;34m/\u001b[0m\u001b[0;36m200\u001b[0m\u001b[0;34m)\u001b[0m\u001b[0;34m\u001b[0m\u001b[0;34m\u001b[0m\u001b[0m\n\u001b[0m\u001b[1;32m     15\u001b[0m         \u001b[0mmax_alpha_A3meansplus20\u001b[0m\u001b[0;34m,\u001b[0m \u001b[0mmax_alpha_coalition_A3meansplus20\u001b[0m\u001b[0;34m,\u001b[0m \u001b[0mmax_alpha_deviating_center_A3meansplus20\u001b[0m \u001b[0;34m=\u001b[0m \u001b[0mfairness_score_alpha\u001b[0m\u001b[0;34m(\u001b[0m\u001b[0mgaussian_data\u001b[0m\u001b[0;34m,\u001b[0m \u001b[0mrevisedY_meansplus_20\u001b[0m\u001b[0;34m,\u001b[0m \u001b[0;36m20\u001b[0m\u001b[0;34m)\u001b[0m\u001b[0;34m\u001b[0m\u001b[0;34m\u001b[0m\u001b[0m\n\u001b[1;32m     16\u001b[0m         \u001b[0mmax_beta_A3meansplus20\u001b[0m\u001b[0;34m,\u001b[0m \u001b[0mmax_beta_coalition_A3meansplus20\u001b[0m\u001b[0;34m,\u001b[0m \u001b[0mmax_beta_deviating_center_A3meansplus20\u001b[0m \u001b[0;34m=\u001b[0m \u001b[0mfairness_score_beta\u001b[0m\u001b[0;34m(\u001b[0m\u001b[0mgaussian_data\u001b[0m\u001b[0;34m,\u001b[0m \u001b[0mrevisedY_meansplus_20\u001b[0m\u001b[0;34m,\u001b[0m \u001b[0;36m20\u001b[0m\u001b[0;34m)\u001b[0m\u001b[0;34m\u001b[0m\u001b[0;34m\u001b[0m\u001b[0m\n",
      "\u001b[0;32m<ipython-input-7-8800812e58c4>\u001b[0m in \u001b[0;36mALG3_meansplus\u001b[0;34m(X, K, n_grid, delta_growth)\u001b[0m\n\u001b[1;32m     56\u001b[0m \u001b[0;34m\u001b[0m\u001b[0m\n\u001b[1;32m     57\u001b[0m             \u001b[0;32mfor\u001b[0m \u001b[0mpt\u001b[0m \u001b[0;32min\u001b[0m \u001b[0mN\u001b[0m\u001b[0;34m:\u001b[0m\u001b[0;34m\u001b[0m\u001b[0;34m\u001b[0m\u001b[0m\n\u001b[0;32m---> 58\u001b[0;31m                 \u001b[0;32mif\u001b[0m \u001b[0meuclid_dist\u001b[0m\u001b[0;34m(\u001b[0m\u001b[0mall_loc\u001b[0m\u001b[0;34m[\u001b[0m\u001b[0mp\u001b[0m\u001b[0;34m]\u001b[0m\u001b[0;34m,\u001b[0m \u001b[0mpt\u001b[0m\u001b[0;34m)\u001b[0m \u001b[0;34m<=\u001b[0m \u001b[0mdelta\u001b[0m\u001b[0;34m:\u001b[0m\u001b[0;34m\u001b[0m\u001b[0;34m\u001b[0m\u001b[0m\n\u001b[0m\u001b[1;32m     59\u001b[0m                     \u001b[0mn_cover\u001b[0m \u001b[0;34m+=\u001b[0m \u001b[0;36m1\u001b[0m\u001b[0;34m\u001b[0m\u001b[0;34m\u001b[0m\u001b[0m\n\u001b[1;32m     60\u001b[0m                     \u001b[0mpts\u001b[0m\u001b[0;34m.\u001b[0m\u001b[0mappend\u001b[0m\u001b[0;34m(\u001b[0m\u001b[0mpt\u001b[0m\u001b[0;34m)\u001b[0m\u001b[0;34m\u001b[0m\u001b[0;34m\u001b[0m\u001b[0m\n",
      "\u001b[0;32m<ipython-input-7-8800812e58c4>\u001b[0m in \u001b[0;36meuclid_dist\u001b[0;34m(x1, x2)\u001b[0m\n\u001b[1;32m      6\u001b[0m     \u001b[0;32mfor\u001b[0m \u001b[0mi\u001b[0m \u001b[0;32min\u001b[0m \u001b[0mrange\u001b[0m\u001b[0;34m(\u001b[0m\u001b[0mx1\u001b[0m\u001b[0;34m.\u001b[0m\u001b[0mshape\u001b[0m\u001b[0;34m[\u001b[0m\u001b[0;36m0\u001b[0m\u001b[0;34m]\u001b[0m\u001b[0;34m)\u001b[0m\u001b[0;34m:\u001b[0m \u001b[0;31m#shape[0] is row number\u001b[0m\u001b[0;34m\u001b[0m\u001b[0;34m\u001b[0m\u001b[0m\n\u001b[1;32m      7\u001b[0m         \u001b[0mresult\u001b[0m \u001b[0;34m+=\u001b[0m \u001b[0;34m(\u001b[0m\u001b[0mx1\u001b[0m\u001b[0;34m[\u001b[0m\u001b[0mi\u001b[0m\u001b[0;34m]\u001b[0m \u001b[0;34m-\u001b[0m \u001b[0mx2\u001b[0m\u001b[0;34m[\u001b[0m\u001b[0mi\u001b[0m\u001b[0;34m]\u001b[0m\u001b[0;34m)\u001b[0m \u001b[0;34m**\u001b[0m \u001b[0;36m2\u001b[0m\u001b[0;34m\u001b[0m\u001b[0;34m\u001b[0m\u001b[0m\n\u001b[0;32m----> 8\u001b[0;31m     \u001b[0;32mreturn\u001b[0m \u001b[0mnp\u001b[0m\u001b[0;34m.\u001b[0m\u001b[0msqrt\u001b[0m\u001b[0;34m(\u001b[0m\u001b[0mresult\u001b[0m\u001b[0;34m)\u001b[0m\u001b[0;34m\u001b[0m\u001b[0;34m\u001b[0m\u001b[0m\n\u001b[0m\u001b[1;32m      9\u001b[0m \u001b[0;34m\u001b[0m\u001b[0m\n\u001b[1;32m     10\u001b[0m \u001b[0;32mdef\u001b[0m \u001b[0mALG3_meansplus\u001b[0m\u001b[0;34m(\u001b[0m\u001b[0mX\u001b[0m\u001b[0;34m,\u001b[0m \u001b[0mK\u001b[0m\u001b[0;34m,\u001b[0m \u001b[0mn_grid\u001b[0m\u001b[0;34m,\u001b[0m \u001b[0mdelta_growth\u001b[0m\u001b[0;34m)\u001b[0m\u001b[0;34m:\u001b[0m\u001b[0;34m\u001b[0m\u001b[0;34m\u001b[0m\u001b[0m\n",
      "\u001b[0;31mKeyboardInterrupt\u001b[0m: "
     ]
    }
   ],
   "source": [
    "for i in range(10):\n",
    "    for K in range(8,21):\n",
    "        meansplus, groups_meansplus = kmeansplus(gaussian_data, K)\n",
    "        max_alpha_meansplus, max_alpha_coalition_meansplus, max_alpha_deviating_center_meansplus = fairness_score_alpha(gaussian_data, meansplus, 20)\n",
    "        max_beta_meansplus, max_beta_coalition_meansplus, max_beta_deviating_center_meansplus = fairness_score_beta(gaussian_data, meansplus, 20)\n",
    "        totaldist_meansplus = totaldist(gaussian_data, meansplus, True)\n",
    "        print(max_alpha_meansplus, max_beta_meansplus, totaldist_meansplus)\n",
    "#         view_meansormedians(gaussian_data, meansplus, groups_meansplus)\n",
    "#         plt.title(\"kmeansplus K={}\".format(K))\n",
    "#         plt.savefig(\"/Users/lijunli/Desktop/ex/Fair clustering/experiment/JoensuuLocation/kmeansplus_loc K={}\".format(K))\n",
    "#         plt.clf()# renew to prevent overlap\n",
    "\n",
    "\n",
    "        Y_meansplus_20, revisedY_meansplus_20, cluster_pts_meansplus_20 = ALG3_meansplus(gaussian_data, K, 20, 1/200)\n",
    "        max_alpha_A3meansplus20, max_alpha_coalition_A3meansplus20, max_alpha_deviating_center_A3meansplus20 = fairness_score_alpha(gaussian_data, revisedY_meansplus_20, 20)\n",
    "        max_beta_A3meansplus20, max_beta_coalition_A3meansplus20, max_beta_deviating_center_A3meansplus20 = fairness_score_beta(gaussian_data, revisedY_meansplus_20, 20)\n",
    "        totaldist_A3meansplus20 = totaldist(gaussian_data, revisedY_meansplus_20, True)\n",
    "        print(max_alpha_A3meansplus20, max_beta_A3meansplus20, totaldist_A3meansplus20)\n",
    "#         ALG3_augmented_nofix(Y_meansplus_20, revisedY_meansplus_20, cluster_pts_meansplus_20)\n",
    "#         plt.title(\"ALG3_meansplus K={}\".format(K))\n",
    "#         plt.savefig(\"/Users/lijunli/Desktop/ex/Fair clustering/experiment/JoensuuLocation/ALG3_meansplus_loc K={}\".format(K))\n",
    "#         plt.clf()\n",
    "    "
   ]
  },
  {
   "cell_type": "code",
   "execution_count": null,
   "metadata": {},
   "outputs": [],
   "source": []
  },
  {
   "cell_type": "code",
   "execution_count": null,
   "metadata": {},
   "outputs": [],
   "source": []
  },
  {
   "cell_type": "code",
   "execution_count": null,
   "metadata": {},
   "outputs": [],
   "source": []
  },
  {
   "cell_type": "markdown",
   "metadata": {},
   "source": [
    "Medians Part"
   ]
  },
  {
   "cell_type": "code",
   "execution_count": 34,
   "metadata": {},
   "outputs": [
    {
     "name": "stdout",
     "output_type": "stream",
     "text": [
      "(6014, 2)\n"
     ]
    },
    {
     "data": {
      "text/plain": [
       "<matplotlib.collections.PathCollection at 0x7fbbd47eda00>"
      ]
     },
     "execution_count": 34,
     "metadata": {},
     "output_type": "execute_result"
    },
    {
     "data": {
      "image/png": "[encoded data removed]",
      "text/plain": [
       "<Figure size 432x288 with 1 Axes>"
      ]
     },
     "metadata": {
      "needs_background": "light"
     },
     "output_type": "display_data"
    }
   ],
   "source": [
    "print(gaussian_data.shape)\n",
    "\n",
    "plt.scatter(gaussian_data[:,0], gaussian_data[:,1],s=1)"
   ]
  },
  {
   "cell_type": "code",
   "execution_count": 42,
   "metadata": {},
   "outputs": [
    {
     "name": "stdout",
     "output_type": "stream",
     "text": [
      "0.5869637512470901 0.770156686140402 161.07523213926194\n"
     ]
    }
   ],
   "source": [
    "K=10\n",
    "medians, groups_medians = kmedians(gaussian_data, K)\n",
    "max_alpha_medians, max_alpha_coalition_medians, max_alpha_deviating_center_medians = fairness_score_alpha_M(gaussian_data, medians, 20)\n",
    "max_beta_medians, max_beta_coalition_medians, max_beta_deviating_center_medians = fairness_score_beta_M(gaussian_data, medians, 20)\n",
    "totaldist_medians = totaldist(gaussian_data, medians, False)\n",
    "print(max_alpha_medians, max_beta_medians, totaldist_medians)\n",
    "# view_meansormedians(gaussian_data, medians, groups_medians)\n",
    "# # plt.title(\"kmedians K={}\".format(K))\n",
    "# plt.xticks([])  #去掉x轴\n",
    "# plt.yticks([])  #去掉y轴        "
   ]
  },
  {
   "cell_type": "code",
   "execution_count": 60,
   "metadata": {},
   "outputs": [
    {
     "data": {
      "image/png": "[encoded data removed]",
      "text/plain": [
       "<Figure size 1200x900 with 1 Axes>"
      ]
     },
     "metadata": {},
     "output_type": "display_data"
    }
   ],
   "source": [
    "plt.figure(dpi=300,figsize=(4,3))\n",
    "sns.set(style='white')\n",
    "view_meansormedians(gaussian_data, medians, groups_medians)\n",
    "#plt.title(r\"$k$-means++\",y=-0.2)\n",
    "plt.xticks([])  #去掉x轴\n",
    "plt.yticks([])  #去掉y轴\n",
    "# plt.text(0.22,0.95,s=r'$\\alpha = 2.08$')\n",
    "# plt.text(0.54,0.95,s=r'$\\beta = 1.8$')\n",
    "#plt.margins(0,0)\n",
    "plt.savefig(\"/Users/lijunli/Desktop/ex/Fair clustering/experiment/gaussian3/g3_medians.png\",dpi=300)"
   ]
  },
  {
   "cell_type": "code",
   "execution_count": 48,
   "metadata": {},
   "outputs": [
    {
     "name": "stdout",
     "output_type": "stream",
     "text": [
      "0.8413701363485201 0.9632175414744689 222.51125703849178\n"
     ]
    }
   ],
   "source": [
    "K=10\n",
    "Y_medians_20, revisedY_medians_20, cluster_pts_medians_20 = ALG3_medians(gaussian_data, K, 20, 1/200)\n",
    "max_alpha_A3medians20, max_alpha_coalition_A3medians20, max_alpha_deviating_center_A3medians20 = fairness_score_alpha_M(gaussian_data, revisedY_medians_20, 20)\n",
    "max_beta_A3medians20, max_beta_coalition_A3medians20, max_beta_deviating_center_A3medians20 = fairness_score_beta_M(gaussian_data, revisedY_medians_20, 20)\n",
    "totaldist_A3medians20 = totaldist(gaussian_data, revisedY_medians_20, False)\n",
    "print(max_alpha_A3medians20, max_beta_A3medians20, totaldist_A3medians20)"
   ]
  },
  {
   "cell_type": "code",
   "execution_count": 61,
   "metadata": {},
   "outputs": [
    {
     "data": {
      "image/png": "[encoded data removed]",
      "text/plain": [
       "<Figure size 1200x900 with 1 Axes>"
      ]
     },
     "metadata": {},
     "output_type": "display_data"
    }
   ],
   "source": [
    "plt.figure(dpi=300,figsize=(4,3))\n",
    "sns.set(style='white')\n",
    "ALG3_augmented_nofix(Y_medians_20, revisedY_medians_20, cluster_pts_medians_20)\n",
    "#plt.title(r\"$ALG_3$++\")\n",
    "plt.xticks([])  #去掉x轴\n",
    "plt.yticks([])  #去掉y轴\n",
    "# plt.text(0.22,0.95,s=r'$\\alpha = 1.64$')\n",
    "# plt.text(0.54,0.95,s=r'$\\beta = 1.27$')\n",
    "plt.savefig(\"/Users/lijunli/Desktop/ex/Fair clustering/experiment/gaussian3/g3_algmedians.png\",dpi=300)"
   ]
  },
  {
   "cell_type": "code",
   "execution_count": null,
   "metadata": {},
   "outputs": [],
   "source": []
  },
  {
   "cell_type": "code",
   "execution_count": null,
   "metadata": {},
   "outputs": [],
   "source": []
  },
  {
   "cell_type": "code",
   "execution_count": 56,
   "metadata": {},
   "outputs": [
    {
     "name": "stdout",
     "output_type": "stream",
     "text": [
      "1.6511473229132025 1.6676351286115207 7.498230013852434\n"
     ]
    }
   ],
   "source": [
    "K=10\n",
    "meansplus, groups_meansplus = kmeansplus(gaussian_data, K)\n",
    "max_alpha_meansplus, max_alpha_coalition_meansplus, max_alpha_deviating_center_meansplus = fairness_score_alpha(gaussian_data, meansplus, 20)\n",
    "max_beta_meansplus, max_beta_coalition_meansplus, max_beta_deviating_center_meansplus = fairness_score_beta(gaussian_data, meansplus, 20)\n",
    "totaldist_meansplus = totaldist(gaussian_data, meansplus, True)\n",
    "print(max_alpha_meansplus, max_beta_meansplus, totaldist_meansplus)"
   ]
  },
  {
   "cell_type": "code",
   "execution_count": 63,
   "metadata": {},
   "outputs": [
    {
     "data": {
      "image/png": "[encoded data removed]",
      "text/plain": [
       "<Figure size 1200x900 with 1 Axes>"
      ]
     },
     "metadata": {},
     "output_type": "display_data"
    }
   ],
   "source": [
    "plt.figure(dpi=300,figsize=(4,3))\n",
    "sns.set(style='white')\n",
    "view_meansormedians(gaussian_data, meansplus, groups_meansplus)\n",
    "#plt.title(r\"$k$-means++\")\n",
    "plt.xticks([])  #去掉x轴\n",
    "plt.yticks([])  #去掉y轴\n",
    "#plt.margins(0,0)\n",
    "plt.savefig(\"/Users/lijunli/Desktop/ex/Fair clustering/experiment/gaussian3/g3_means.png\",dpi=300)"
   ]
  },
  {
   "cell_type": "code",
   "execution_count": 57,
   "metadata": {},
   "outputs": [
    {
     "name": "stdout",
     "output_type": "stream",
     "text": [
      "1.4898570003325573 1.4459081666579219 10.604522058923502\n"
     ]
    }
   ],
   "source": [
    "K=10\n",
    "Y_meansplus_20, revisedY_meansplus_20, cluster_pts_meansplus_20 = ALG3_meansplus(gaussian_data, K, 20, 1/200)\n",
    "max_alpha_A3meansplus20, max_alpha_coalition_A3meansplus20, max_alpha_deviating_center_A3meansplus20 = fairness_score_alpha(gaussian_data, revisedY_meansplus_20, 20)\n",
    "max_beta_A3meansplus20, max_beta_coalition_A3meansplus20, max_beta_deviating_center_A3meansplus20 = fairness_score_beta(gaussian_data, revisedY_meansplus_20, 20)\n",
    "totaldist_A3meansplus20 = totaldist(gaussian_data, revisedY_meansplus_20, True)\n",
    "print(max_alpha_A3meansplus20, max_beta_A3meansplus20, totaldist_A3meansplus20)"
   ]
  },
  {
   "cell_type": "code",
   "execution_count": 64,
   "metadata": {},
   "outputs": [
    {
     "data": {
      "image/png": "[encoded data removed]",
      "text/plain": [
       "<Figure size 1200x900 with 1 Axes>"
      ]
     },
     "metadata": {},
     "output_type": "display_data"
    }
   ],
   "source": [
    "plt.figure(dpi=300,figsize=(4,3))\n",
    "sns.set(style='white')\n",
    "ALG3_augmented_nofix(Y_meansplus_20, revisedY_meansplus_20, cluster_pts_meansplus_20)\n",
    "#plt.title(r\"$ALG_3$++\")\n",
    "plt.xticks([])  #去掉x轴\n",
    "plt.yticks([])  #去掉y轴\n",
    "plt.savefig(\"/Users/lijunli/Desktop/ex/Fair clustering/experiment/gaussian3/g3_algmeans.png\",dpi=300)"
   ]
  },
  {
   "cell_type": "code",
   "execution_count": null,
   "metadata": {},
   "outputs": [],
   "source": []
  },
  {
   "cell_type": "code",
   "execution_count": null,
   "metadata": {},
   "outputs": [],
   "source": []
  },
  {
   "cell_type": "code",
   "execution_count": null,
   "metadata": {},
   "outputs": [],
   "source": []
  },
  {
   "cell_type": "code",
   "execution_count": 40,
   "metadata": {},
   "outputs": [
    {
     "data": {
      "text/plain": [
       "array([[0.49469011, 0.63430213],\n",
       "       [0.64014879, 0.69522898],\n",
       "       [0.49485418, 0.61597255],\n",
       "       [0.48948434, 0.61514509],\n",
       "       [0.71520022, 0.6802218 ],\n",
       "       [0.39583097, 0.26178167],\n",
       "       [0.49581645, 0.60624131],\n",
       "       [0.49019265, 0.61930292]])"
      ]
     },
     "execution_count": 40,
     "metadata": {},
     "output_type": "execute_result"
    }
   ],
   "source": [
    "medians"
   ]
  },
  {
   "cell_type": "code",
   "execution_count": 36,
   "metadata": {},
   "outputs": [
    {
     "name": "stdout",
     "output_type": "stream",
     "text": [
      "0.5826405054871966 0.7960056043719348 161.53093094598597\n",
      "0.5693382108413702 0.7844074893060916 162.40622823697075\n",
      "0.7901563019620884 0.9407799532471323 230.1241445777613\n",
      "0.689890256069172 0.7735601123649958 185.76006223378766\n",
      "0.6983704689058863 0.862229134860308 171.93516273644423\n",
      "0.7748586631193881 0.8611304507273352 183.39000020718618\n",
      "0.8011306950448952 0.9234454429216858 160.03711289481083\n",
      "0.6822414366478218 0.8353482904166425 176.01049747625444\n",
      "0.48885932823412037 0.7407273180406759 148.61419982835483\n",
      "0.6045892916528101 0.839740707679583 166.88969610154578\n",
      "0.5598603259062188 0.7725945883970152 149.58550384531\n",
      "0.6917193215829731 0.8286431283610761 147.8114998400892\n",
      "0.6960425673428666 0.8582532955853643 139.86340010341664\n",
      "0.9451280345859661 0.9579462595273404 160.0631557061895\n",
      "0.7432657133355504 0.8014896122377568 134.62922549594717\n",
      "0.7781842367808447 0.8818952590797848 135.11526091893114\n",
      "0.6890588626538078 0.8028914105549988 147.06558519218328\n",
      "0.8726305287662122 0.940167531297469 141.17789541438918\n",
      "0.8423678084469571 0.887242263792592 137.89525315528013\n",
      "0.8678084469571001 0.9040541102371856 142.97141917385935\n"
     ]
    }
   ],
   "source": [
    "for K in range(8,18):\n",
    "    medians, groups_medians = kmedians(gaussian_data, K)\n",
    "    max_alpha_medians, max_alpha_coalition_medians, max_alpha_deviating_center_medians = fairness_score_alpha_M(gaussian_data, medians, 20)\n",
    "    max_beta_medians, max_beta_coalition_medians, max_beta_deviating_center_medians = fairness_score_beta_M(gaussian_data, medians, 20)\n",
    "    totaldist_medians = totaldist(gaussian_data, medians, False)\n",
    "    print(max_alpha_medians, max_beta_medians, totaldist_medians)\n",
    "#         view_meansormedians(gaussian_data, meansplus, groups_meansplus)\n",
    "#         plt.title(\"kmeansplus_g3_4 K={}\".format(K))\n",
    "#         plt.savefig(\"/Users/lijunli/Desktop/ex/Fair clustering/experiment/gaussian3/g3_times4/kmeansplus_g3_4 K={}\".format(K))\n",
    "#         plt.clf()# renew to prevent overlap\n",
    "\n",
    "\n",
    "    Y_medians_20, revisedY_medians_20, cluster_pts_medians_20 = ALG3_medians(gaussian_data, K, 20, 1/200)\n",
    "    max_alpha_A3medians20, max_alpha_coalition_A3medians20, max_alpha_deviating_center_A3medians20 = fairness_score_alpha_M(gaussian_data, revisedY_medians_20, 20)\n",
    "    max_beta_A3medians20, max_beta_coalition_A3medians20, max_beta_deviating_center_A3medians20 = fairness_score_beta_M(gaussian_data, revisedY_medians_20, 20)\n",
    "    totaldist_A3medians20 = totaldist(gaussian_data, revisedY_medians_20, False)\n",
    "    print(max_alpha_A3medians20, max_beta_A3medians20, totaldist_A3medians20)\n",
    "#         ALG3_augmented_nofix(Y_meansplus_20, revisedY_meansplus_20, cluster_pts_meansplus_20)\n",
    "#         plt.title(\"ALG3_meansplus_g3_4 K={}\".format(K))\n",
    "#         plt.savefig(\"/Users/lijunli/Desktop/ex/Fair clustering/experiment/gaussian3/g3_times4/ALG3_meansplus_g3_4 K={}\".format(K))\n",
    "#         plt.clf()\n",
    "    "
   ]
  },
  {
   "cell_type": "code",
   "execution_count": 41,
   "metadata": {},
   "outputs": [
    {
     "name": "stdout",
     "output_type": "stream",
     "text": [
      "0.5759893581642833 0.8026385765362091 195.64868398628397\n",
      "0.6371799135350849 0.8209230811012893 197.01899260955798\n",
      "0.6584635849684071 0.819568672140544 172.18497978078432\n",
      "0.6854007316262055 0.786899857862821 186.63328915397392\n",
      "0.44895244429664116 0.7103611637084486 155.90724063343234\n",
      "0.8413701363485201 0.9632175414744689 222.51125703849178\n",
      "0.7919853674758895 0.8977426788907199 192.9291263705955\n",
      "0.6730961090788161 0.8425226397080828 185.16023279059303\n",
      "0.5986032590621883 0.7801988397992392 152.3196047676378\n",
      "0.6305287662121716 0.8590818819965816 138.11584879828388\n",
      "0.9294978383771201 0.9252612922224606 185.27928207895062\n",
      "0.6701030927835051 0.7694412842950035 138.40460800593632\n",
      "0.6029265048220818 0.8361214311487807 150.90173442799338\n",
      "0.779847023611573 0.9408666326777653 148.32929487667602\n",
      "0.8604921849018956 0.9512043331529649 138.85312520999338\n",
      "0.8056202194878617 0.8985064833475905 131.7476274920819\n",
      "0.8433654805453941 0.8868004671612113 158.7823273761984\n",
      "0.8034585966079149 0.8882479832890416 154.49888371846055\n"
     ]
    },
    {
     "ename": "KeyboardInterrupt",
     "evalue": "",
     "output_type": "error",
     "traceback": [
      "\u001b[0;31m---------------------------------------------------------------------------\u001b[0m",
      "\u001b[0;31mKeyboardInterrupt\u001b[0m                         Traceback (most recent call last)",
      "\u001b[0;32m<ipython-input-41-bca05bc9e29c>\u001b[0m in \u001b[0;36m<module>\u001b[0;34m\u001b[0m\n\u001b[1;32m      1\u001b[0m \u001b[0;32mfor\u001b[0m \u001b[0mK\u001b[0m \u001b[0;32min\u001b[0m \u001b[0mrange\u001b[0m\u001b[0;34m(\u001b[0m\u001b[0;36m8\u001b[0m\u001b[0;34m,\u001b[0m\u001b[0;36m18\u001b[0m\u001b[0;34m)\u001b[0m\u001b[0;34m:\u001b[0m\u001b[0;34m\u001b[0m\u001b[0;34m\u001b[0m\u001b[0m\n\u001b[1;32m      2\u001b[0m     \u001b[0mmedians\u001b[0m\u001b[0;34m,\u001b[0m \u001b[0mgroups_medians\u001b[0m \u001b[0;34m=\u001b[0m \u001b[0mkmedians\u001b[0m\u001b[0;34m(\u001b[0m\u001b[0mgaussian_data\u001b[0m\u001b[0;34m,\u001b[0m \u001b[0mK\u001b[0m\u001b[0;34m)\u001b[0m\u001b[0;34m\u001b[0m\u001b[0;34m\u001b[0m\u001b[0m\n\u001b[0;32m----> 3\u001b[0;31m     \u001b[0mmax_alpha_medians\u001b[0m\u001b[0;34m,\u001b[0m \u001b[0mmax_alpha_coalition_medians\u001b[0m\u001b[0;34m,\u001b[0m \u001b[0mmax_alpha_deviating_center_medians\u001b[0m \u001b[0;34m=\u001b[0m \u001b[0mfairness_score_alpha_M\u001b[0m\u001b[0;34m(\u001b[0m\u001b[0mgaussian_data\u001b[0m\u001b[0;34m,\u001b[0m \u001b[0mmedians\u001b[0m\u001b[0;34m,\u001b[0m \u001b[0;36m20\u001b[0m\u001b[0;34m)\u001b[0m\u001b[0;34m\u001b[0m\u001b[0;34m\u001b[0m\u001b[0m\n\u001b[0m\u001b[1;32m      4\u001b[0m     \u001b[0mmax_beta_medians\u001b[0m\u001b[0;34m,\u001b[0m \u001b[0mmax_beta_coalition_medians\u001b[0m\u001b[0;34m,\u001b[0m \u001b[0mmax_beta_deviating_center_medians\u001b[0m \u001b[0;34m=\u001b[0m \u001b[0mfairness_score_beta_M\u001b[0m\u001b[0;34m(\u001b[0m\u001b[0mgaussian_data\u001b[0m\u001b[0;34m,\u001b[0m \u001b[0mmedians\u001b[0m\u001b[0;34m,\u001b[0m \u001b[0;36m20\u001b[0m\u001b[0;34m)\u001b[0m\u001b[0;34m\u001b[0m\u001b[0;34m\u001b[0m\u001b[0m\n\u001b[1;32m      5\u001b[0m     \u001b[0mtotaldist_medians\u001b[0m \u001b[0;34m=\u001b[0m \u001b[0mtotaldist\u001b[0m\u001b[0;34m(\u001b[0m\u001b[0mgaussian_data\u001b[0m\u001b[0;34m,\u001b[0m \u001b[0mmedians\u001b[0m\u001b[0;34m,\u001b[0m \u001b[0;32mFalse\u001b[0m\u001b[0;34m)\u001b[0m\u001b[0;34m\u001b[0m\u001b[0;34m\u001b[0m\u001b[0m\n",
      "\u001b[0;32m<ipython-input-11-cd143c5257f7>\u001b[0m in \u001b[0;36mfairness_score_alpha_M\u001b[0;34m(X, centers, n_grid)\u001b[0m\n\u001b[1;32m     40\u001b[0m             \u001b[0mto_center_dist\u001b[0m \u001b[0;34m=\u001b[0m \u001b[0;34m[\u001b[0m\u001b[0;34m]\u001b[0m\u001b[0;34m\u001b[0m\u001b[0;34m\u001b[0m\u001b[0m\n\u001b[1;32m     41\u001b[0m             \u001b[0;32mfor\u001b[0m \u001b[0mc\u001b[0m \u001b[0;32min\u001b[0m \u001b[0mcenters\u001b[0m\u001b[0;34m:\u001b[0m\u001b[0;34m\u001b[0m\u001b[0;34m\u001b[0m\u001b[0m\n\u001b[0;32m---> 42\u001b[0;31m                 \u001b[0mto_center_dist\u001b[0m\u001b[0;34m.\u001b[0m\u001b[0mappend\u001b[0m\u001b[0;34m(\u001b[0m\u001b[0mM_dist\u001b[0m\u001b[0;34m(\u001b[0m\u001b[0mc\u001b[0m\u001b[0;34m,\u001b[0m \u001b[0mpt\u001b[0m\u001b[0;34m)\u001b[0m\u001b[0;34m)\u001b[0m\u001b[0;34m\u001b[0m\u001b[0;34m\u001b[0m\u001b[0m\n\u001b[0m\u001b[1;32m     43\u001b[0m             \u001b[0mmin_dist_to_centers\u001b[0m \u001b[0;34m=\u001b[0m \u001b[0mmin\u001b[0m\u001b[0;34m(\u001b[0m\u001b[0mto_center_dist\u001b[0m\u001b[0;34m)\u001b[0m\u001b[0;31m# d(i,Y)\u001b[0m\u001b[0;34m\u001b[0m\u001b[0;34m\u001b[0m\u001b[0m\n\u001b[1;32m     44\u001b[0m \u001b[0;34m\u001b[0m\u001b[0m\n",
      "\u001b[0;32m<ipython-input-8-93f06881ea0f>\u001b[0m in \u001b[0;36mM_dist\u001b[0;34m(x1, x2)\u001b[0m\n\u001b[1;32m      3\u001b[0m     \u001b[0mManhattan\u001b[0m \u001b[0mdistance\u001b[0m \u001b[0mbetween\u001b[0m \u001b[0mtwo\u001b[0m \u001b[0mvectors\u001b[0m\u001b[0;34m.\u001b[0m\u001b[0;34m\u001b[0m\u001b[0;34m\u001b[0m\u001b[0m\n\u001b[1;32m      4\u001b[0m     \"\"\"\n\u001b[0;32m----> 5\u001b[0;31m     \u001b[0mresult\u001b[0m \u001b[0;34m=\u001b[0m \u001b[0mnp\u001b[0m\u001b[0;34m.\u001b[0m\u001b[0mlinalg\u001b[0m\u001b[0;34m.\u001b[0m\u001b[0mnorm\u001b[0m\u001b[0;34m(\u001b[0m\u001b[0mx1\u001b[0m \u001b[0;34m-\u001b[0m \u001b[0mx2\u001b[0m\u001b[0;34m,\u001b[0m \u001b[0mord\u001b[0m\u001b[0;34m=\u001b[0m\u001b[0;36m1\u001b[0m\u001b[0;34m)\u001b[0m\u001b[0;34m\u001b[0m\u001b[0;34m\u001b[0m\u001b[0m\n\u001b[0m\u001b[1;32m      6\u001b[0m     \u001b[0;32mreturn\u001b[0m \u001b[0mresult\u001b[0m\u001b[0;34m\u001b[0m\u001b[0;34m\u001b[0m\u001b[0m\n\u001b[1;32m      7\u001b[0m \u001b[0;34m\u001b[0m\u001b[0m\n",
      "\u001b[0;31mKeyboardInterrupt\u001b[0m: "
     ]
    },
    {
     "data": {
      "text/plain": [
       "<Figure size 432x288 with 0 Axes>"
      ]
     },
     "metadata": {},
     "output_type": "display_data"
    }
   ],
   "source": [
    "for K in range(8,18):\n",
    "    medians, groups_medians = kmedians(gaussian_data, K)\n",
    "    max_alpha_medians, max_alpha_coalition_medians, max_alpha_deviating_center_medians = fairness_score_alpha_M(gaussian_data, medians, 20)\n",
    "    max_beta_medians, max_beta_coalition_medians, max_beta_deviating_center_medians = fairness_score_beta_M(gaussian_data, medians, 20)\n",
    "    totaldist_medians = totaldist(gaussian_data, medians, False)\n",
    "    print(max_alpha_medians, max_beta_medians, totaldist_medians)\n",
    "    view_meansormedians(gaussian_data, medians, groups_medians)\n",
    "    plt.title(\"kmedians K={}\".format(K))\n",
    "    plt.savefig(\"/Users/lijunli/Desktop/ex/Fair clustering/experiment/gaussian3/g3_medians/kmedians K={}\".format(K))\n",
    "    plt.clf()# renew to prevent overlap\n",
    "\n",
    "\n",
    "    Y_medians_20, revisedY_medians_20, cluster_pts_medians_20 = ALG3_medians(gaussian_data, K, 20, 1/200)\n",
    "    max_alpha_A3medians20, max_alpha_coalition_A3medians20, max_alpha_deviating_center_A3medians20 = fairness_score_alpha_M(gaussian_data, revisedY_medians_20, 20)\n",
    "    max_beta_A3medians20, max_beta_coalition_A3medians20, max_beta_deviating_center_A3medians20 = fairness_score_beta_M(gaussian_data, revisedY_medians_20, 20)\n",
    "    totaldist_A3medians20 = totaldist(gaussian_data, revisedY_medians_20, False)\n",
    "    print(max_alpha_A3medians20, max_beta_A3medians20, totaldist_A3medians20)\n",
    "    ALG3_augmented_nofix(Y_medians_20, revisedY_medians_20, cluster_pts_medians_20)\n",
    "    plt.title(\"ALG3_medians K={}\".format(K))\n",
    "    plt.savefig(\"/Users/lijunli/Desktop/ex/Fair clustering/experiment/gaussian3/g3_meidans K={}\".format(K))\n",
    "    plt.clf()\n",
    "    "
   ]
  },
  {
   "cell_type": "code",
   "execution_count": null,
   "metadata": {},
   "outputs": [],
   "source": []
  }
 ],
 "metadata": {
  "kernelspec": {
   "display_name": "Python 3",
   "language": "python",
   "name": "python3"
  },
  "language_info": {
   "codemirror_mode": {
    "name": "ipython",
    "version": 3
   },
   "file_extension": ".py",
   "mimetype": "text/x-python",
   "name": "python",
   "nbconvert_exporter": "python",
   "pygments_lexer": "ipython3",
   "version": "3.7.3"
  }
 },
 "nbformat": 4,
 "nbformat_minor": 4
}
